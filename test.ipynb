{
 "cells": [
  {
   "cell_type": "code",
   "execution_count": 1,
   "id": "1093dd3d-f8aa-4595-885c-e93bb9545cd1",
   "metadata": {},
   "outputs": [
    {
     "name": "stderr",
     "output_type": "stream",
     "text": [
      "2023-03-13 15:05:04.751842: I tensorflow/core/platform/cpu_feature_guard.cc:193] This TensorFlow binary is optimized with oneAPI Deep Neural Network Library (oneDNN) to use the following CPU instructions in performance-critical operations:  AVX2 FMA\n",
      "To enable them in other operations, rebuild TensorFlow with the appropriate compiler flags.\n",
      "2023-03-13 15:05:04.929348: E tensorflow/stream_executor/cuda/cuda_blas.cc:2981] Unable to register cuBLAS factory: Attempting to register factory for plugin cuBLAS when one has already been registered\n",
      "2023-03-13 15:05:05.413906: W tensorflow/stream_executor/platform/default/dso_loader.cc:64] Could not load dynamic library 'libnvinfer.so.7'; dlerror: libnvinfer.so.7: cannot open shared object file: No such file or directory; LD_LIBRARY_PATH: :/home/fkirsch/anaconda3/envs/iannwtf/lib/\n",
      "2023-03-13 15:05:05.413998: W tensorflow/stream_executor/platform/default/dso_loader.cc:64] Could not load dynamic library 'libnvinfer_plugin.so.7'; dlerror: libnvinfer_plugin.so.7: cannot open shared object file: No such file or directory; LD_LIBRARY_PATH: :/home/fkirsch/anaconda3/envs/iannwtf/lib/\n",
      "2023-03-13 15:05:05.414004: W tensorflow/compiler/tf2tensorrt/utils/py_utils.cc:38] TF-TRT Warning: Cannot dlopen some TensorRT libraries. If you would like to use Nvidia GPU with TensorRT, please make sure the missing libraries mentioned above are installed properly.\n",
      "2023-03-13 15:05:06.391861: I tensorflow/stream_executor/cuda/cuda_gpu_executor.cc:966] could not open file to read NUMA node: /sys/bus/pci/devices/0000:01:00.0/numa_node\n",
      "Your kernel may have been built without NUMA support.\n",
      "2023-03-13 15:05:06.397588: I tensorflow/stream_executor/cuda/cuda_gpu_executor.cc:966] could not open file to read NUMA node: /sys/bus/pci/devices/0000:01:00.0/numa_node\n",
      "Your kernel may have been built without NUMA support.\n",
      "2023-03-13 15:05:06.397638: I tensorflow/stream_executor/cuda/cuda_gpu_executor.cc:966] could not open file to read NUMA node: /sys/bus/pci/devices/0000:01:00.0/numa_node\n",
      "Your kernel may have been built without NUMA support.\n",
      "2023-03-13 15:05:06.398104: I tensorflow/core/platform/cpu_feature_guard.cc:193] This TensorFlow binary is optimized with oneAPI Deep Neural Network Library (oneDNN) to use the following CPU instructions in performance-critical operations:  AVX2 FMA\n",
      "To enable them in other operations, rebuild TensorFlow with the appropriate compiler flags.\n",
      "2023-03-13 15:05:06.400607: I tensorflow/stream_executor/cuda/cuda_gpu_executor.cc:966] could not open file to read NUMA node: /sys/bus/pci/devices/0000:01:00.0/numa_node\n",
      "Your kernel may have been built without NUMA support.\n",
      "2023-03-13 15:05:06.400653: I tensorflow/stream_executor/cuda/cuda_gpu_executor.cc:966] could not open file to read NUMA node: /sys/bus/pci/devices/0000:01:00.0/numa_node\n",
      "Your kernel may have been built without NUMA support.\n",
      "2023-03-13 15:05:06.400684: I tensorflow/stream_executor/cuda/cuda_gpu_executor.cc:966] could not open file to read NUMA node: /sys/bus/pci/devices/0000:01:00.0/numa_node\n",
      "Your kernel may have been built without NUMA support.\n",
      "2023-03-13 15:05:07.040973: I tensorflow/stream_executor/cuda/cuda_gpu_executor.cc:966] could not open file to read NUMA node: /sys/bus/pci/devices/0000:01:00.0/numa_node\n",
      "Your kernel may have been built without NUMA support.\n",
      "2023-03-13 15:05:07.041041: I tensorflow/stream_executor/cuda/cuda_gpu_executor.cc:966] could not open file to read NUMA node: /sys/bus/pci/devices/0000:01:00.0/numa_node\n",
      "Your kernel may have been built without NUMA support.\n",
      "2023-03-13 15:05:07.041050: I tensorflow/core/common_runtime/gpu/gpu_device.cc:1700] Could not identify NUMA node of platform GPU id 0, defaulting to 0.  Your kernel may not have been built with NUMA support.\n",
      "2023-03-13 15:05:07.041089: I tensorflow/stream_executor/cuda/cuda_gpu_executor.cc:966] could not open file to read NUMA node: /sys/bus/pci/devices/0000:01:00.0/numa_node\n",
      "Your kernel may have been built without NUMA support.\n",
      "2023-03-13 15:05:07.041121: I tensorflow/core/common_runtime/gpu/gpu_device.cc:1616] Created device /job:localhost/replica:0/task:0/device:GPU:0 with 4597 MB memory:  -> device: 0, name: NVIDIA GeForce GTX 980 Ti, pci bus id: 0000:01:00.0, compute capability: 5.2\n",
      "2023-03-13 15:05:08.128803: I tensorflow/stream_executor/cuda/cuda_dnn.cc:384] Loaded cuDNN version 8100\n",
      "2023-03-13 15:05:08.418504: I tensorflow/core/platform/default/subprocess.cc:304] Start cannot spawn child process: No such file or directory\n",
      "2023-03-13 15:05:08.464427: I tensorflow/core/platform/default/subprocess.cc:304] Start cannot spawn child process: No such file or directory\n",
      "2023-03-13 15:05:08.464482: W tensorflow/stream_executor/gpu/asm_compiler.cc:80] Couldn't get ptxas version string: INTERNAL: Couldn't invoke ptxas --version\n",
      "2023-03-13 15:05:08.510273: I tensorflow/core/platform/default/subprocess.cc:304] Start cannot spawn child process: No such file or directory\n",
      "2023-03-13 15:05:08.510375: W tensorflow/stream_executor/gpu/redzone_allocator.cc:314] INTERNAL: Failed to launch ptxas\n",
      "Relying on driver to perform ptx compilation. \n",
      "Modify $PATH to customize ptxas location.\n",
      "This message will be only logged once.\n"
     ]
    },
    {
     "name": "stdout",
     "output_type": "stream",
     "text": [
      "\n",
      "Sampler: \n",
      " time before loop:  0.6887125968933105\n",
      "WARNING:tensorflow:5 out of the last 5 calls to <function MyCNN_RL.call at 0x7fb1bed33f40> triggered tf.function retracing. Tracing is expensive and the excessive number of tracings could be due to (1) creating @tf.function repeatedly in a loop, (2) passing tensors with different shapes, (3) passing Python objects instead of tensors. For (1), please define your @tf.function outside of the loop. For (2), @tf.function has reduce_retracing=True option that can avoid unnecessary retracing. For (3), please refer to https://www.tensorflow.org/guide/function#controlling_retracing and https://www.tensorflow.org/api_docs/python/tf/function for  more details.\n",
      "19  loops: 16.169347047805786 \n",
      " average time per loop:  0.8510183033190275\n",
      "Save in Buffer:  0.000978708267211914 \n",
      "\n"
     ]
    },
    {
     "name": "stderr",
     "output_type": "stream",
     "text": [
      "  0%|                                                                                          | 0/5000 [00:00<?, ?it/s]"
     ]
    },
    {
     "name": "stdout",
     "output_type": "stream",
     "text": [
      "\n",
      "Sampler: \n",
      " time before loop:  0.16369962692260742\n",
      "15  loops: 1.7130475044250488 \n",
      " average time per loop:  0.1142031987508138\n",
      "Save in Buffer:  2.384185791015625e-07 \n",
      "\n",
      "Best Agent average reward: 0.13893967093235832\n",
      "Loss  0 :  474.30444 \n",
      "\n",
      "inner_iteration_average last 100 iterations:  0.030985641479492187\n",
      "outer_iteration_average last 100 iterations:  0.0\n",
      "Average_Sampling_Time last 100 iterations:  0.0 \n",
      "\n",
      "\n",
      "Sampler: \n",
      " time before loop:  1.553828239440918\n",
      "16  loops: 16.336718559265137 \n",
      " average time per loop:  1.0210449546575546\n",
      "Save in Buffer:  0.0006718635559082031 \n",
      "\n"
     ]
    },
    {
     "name": "stderr",
     "output_type": "stream",
     "text": [
      "  0%|                                                                               | 1/5000 [00:23<32:18:06, 23.26s/it]"
     ]
    },
    {
     "name": "stdout",
     "output_type": "stream",
     "text": [
      "\n",
      "Sampler: \n",
      " time before loop:  1.5802812576293945\n",
      "16  loops: 15.211008071899414 \n",
      " average time per loop:  0.950688049197197\n",
      "Save in Buffer:  0.0004487037658691406 \n",
      "\n"
     ]
    },
    {
     "name": "stderr",
     "output_type": "stream",
     "text": [
      "  0%|                                                                               | 2/5000 [00:42<28:58:43, 20.87s/it]"
     ]
    },
    {
     "name": "stdout",
     "output_type": "stream",
     "text": [
      "\n",
      "Sampler: \n",
      " time before loop:  1.592322826385498\n",
      "16  loops: 16.155694246292114 \n",
      " average time per loop:  1.0097309350967407\n",
      "Save in Buffer:  0.0005068778991699219 \n",
      "\n"
     ]
    },
    {
     "name": "stderr",
     "output_type": "stream",
     "text": [
      "  0%|                                                                               | 3/5000 [01:02<28:36:08, 20.61s/it]"
     ]
    },
    {
     "name": "stdout",
     "output_type": "stream",
     "text": [
      "\n",
      "Sampler: \n",
      " time before loop:  1.4258060455322266\n",
      "16  loops: 14.307616710662842 \n",
      " average time per loop:  0.8942260891199112\n",
      "Save in Buffer:  0.0005021095275878906 \n",
      "\n"
     ]
    },
    {
     "name": "stderr",
     "output_type": "stream",
     "text": [
      "  0%|                                                                               | 4/5000 [01:20<27:11:53, 19.60s/it]"
     ]
    },
    {
     "name": "stdout",
     "output_type": "stream",
     "text": [
      "\n",
      "Sampler: \n",
      " time before loop:  1.3761816024780273\n",
      "17  loops: 15.21993112564087 \n",
      " average time per loop:  0.8952901082880357\n",
      "Save in Buffer:  0.0005326271057128906 \n",
      "\n"
     ]
    },
    {
     "name": "stderr",
     "output_type": "stream",
     "text": [
      "  0%|                                                                               | 5/5000 [01:39<26:51:24, 19.36s/it]"
     ]
    },
    {
     "name": "stdout",
     "output_type": "stream",
     "text": [
      "\n",
      "Sampler: \n",
      " time before loop:  1.460601568222046\n",
      "15  loops: 15.98850417137146 \n",
      " average time per loop:  1.0659003098805746\n",
      "Save in Buffer:  0.0005304813385009766 \n",
      "\n"
     ]
    },
    {
     "name": "stderr",
     "output_type": "stream",
     "text": [
      "  0%|                                                                               | 6/5000 [01:59<27:06:29, 19.54s/it]"
     ]
    },
    {
     "name": "stdout",
     "output_type": "stream",
     "text": [
      "\n",
      "Sampler: \n",
      " time before loop:  1.5153758525848389\n",
      "16  loops: 16.49950408935547 \n",
      " average time per loop:  1.0312190502882004\n",
      "Save in Buffer:  0.0005748271942138672 \n",
      "\n"
     ]
    },
    {
     "name": "stderr",
     "output_type": "stream",
     "text": [
      "  0%|                                                                               | 7/5000 [02:19<27:28:01, 19.80s/it]"
     ]
    },
    {
     "name": "stdout",
     "output_type": "stream",
     "text": [
      "\n",
      "Sampler: \n",
      " time before loop:  1.566274642944336\n",
      "17  loops: 16.221933364868164 \n",
      " average time per loop:  0.9542314305024988\n",
      "Save in Buffer:  0.000782012939453125 \n",
      "\n"
     ]
    },
    {
     "name": "stderr",
     "output_type": "stream",
     "text": [
      "  0%|▏                                                                              | 8/5000 [02:40<27:38:53, 19.94s/it]"
     ]
    },
    {
     "name": "stdout",
     "output_type": "stream",
     "text": [
      "\n",
      "Sampler: \n",
      " time before loop:  1.6038312911987305\n",
      "16  loops: 17.050490617752075 \n",
      " average time per loop:  1.0656557381153107\n",
      "Save in Buffer:  0.0011317729949951172 \n",
      "\n"
     ]
    },
    {
     "name": "stderr",
     "output_type": "stream",
     "text": [
      "  0%|▏                                                                              | 9/5000 [03:01<28:10:37, 20.32s/it]"
     ]
    },
    {
     "name": "stdout",
     "output_type": "stream",
     "text": [
      "\n",
      "Sampler: \n",
      " time before loop:  1.804386854171753\n",
      "16  loops: 18.424477577209473 \n",
      " average time per loop:  1.1515299081802368\n",
      "Save in Buffer:  0.0005445480346679688 \n",
      "\n"
     ]
    },
    {
     "name": "stderr",
     "output_type": "stream",
     "text": [
      "  0%|▏                                                                             | 10/5000 [03:24<29:15:08, 21.10s/it]"
     ]
    },
    {
     "name": "stdout",
     "output_type": "stream",
     "text": [
      "\n",
      "Sampler: \n",
      " time before loop:  1.6708283424377441\n",
      "17  loops: 21.491199731826782 \n",
      " average time per loop:  1.2641882756177116\n",
      "Save in Buffer:  0.0006103515625 \n",
      "\n"
     ]
    },
    {
     "name": "stderr",
     "output_type": "stream",
     "text": [
      "  0%|▏                                                                             | 11/5000 [03:50<31:35:03, 22.79s/it]"
     ]
    },
    {
     "name": "stdout",
     "output_type": "stream",
     "text": [
      "\n",
      "Sampler: \n",
      " time before loop:  1.6432671546936035\n",
      "17  loops: 18.282341957092285 \n",
      " average time per loop:  1.0754319219028248\n",
      "Save in Buffer:  0.0005130767822265625 \n",
      "\n"
     ]
    },
    {
     "name": "stderr",
     "output_type": "stream",
     "text": [
      "  0%|▏                                                                             | 12/5000 [04:13<31:25:35, 22.68s/it]"
     ]
    },
    {
     "name": "stdout",
     "output_type": "stream",
     "text": [
      "\n",
      "Sampler: \n",
      " time before loop:  1.5130715370178223\n",
      "16  loops: 19.045239448547363 \n",
      " average time per loop:  1.1903275400400162\n",
      "Save in Buffer:  0.0007114410400390625 \n",
      "\n"
     ]
    },
    {
     "name": "stderr",
     "output_type": "stream",
     "text": [
      "  0%|▏                                                                             | 13/5000 [04:36<31:34:41, 22.80s/it]"
     ]
    },
    {
     "name": "stdout",
     "output_type": "stream",
     "text": [
      "\n",
      "Sampler: \n",
      " time before loop:  1.959824800491333\n",
      "18  loops: 20.474820375442505 \n",
      " average time per loop:  1.1374900605943468\n",
      "Save in Buffer:  0.0007104873657226562 \n",
      "\n"
     ]
    },
    {
     "name": "stderr",
     "output_type": "stream",
     "text": [
      "  0%|▏                                                                             | 14/5000 [05:01<32:31:04, 23.48s/it]"
     ]
    },
    {
     "name": "stdout",
     "output_type": "stream",
     "text": [
      "\n",
      "Sampler: \n",
      " time before loop:  1.6959233283996582\n",
      "16  loops: 21.00954794883728 \n",
      " average time per loop:  1.3130967915058136\n",
      "Save in Buffer:  0.0005128383636474609 \n",
      "\n"
     ]
    },
    {
     "name": "stderr",
     "output_type": "stream",
     "text": [
      "  0%|▏                                                                             | 15/5000 [05:26<33:17:53, 24.05s/it]"
     ]
    },
    {
     "name": "stdout",
     "output_type": "stream",
     "text": [
      "\n",
      "Sampler: \n",
      " time before loop:  1.9354398250579834\n",
      "16  loops: 20.199336051940918 \n",
      " average time per loop:  1.2624585777521133\n",
      "Save in Buffer:  0.0007050037384033203 \n",
      "\n"
     ]
    },
    {
     "name": "stderr",
     "output_type": "stream",
     "text": [
      "  0%|▏                                                                             | 16/5000 [05:51<33:33:01, 24.23s/it]"
     ]
    },
    {
     "name": "stdout",
     "output_type": "stream",
     "text": [
      "\n",
      "Sampler: \n",
      " time before loop:  1.5139551162719727\n",
      "17  loops: 21.29787802696228 \n",
      " average time per loop:  1.25281639660106\n",
      "Save in Buffer:  0.0005655288696289062 \n",
      "\n"
     ]
    },
    {
     "name": "stderr",
     "output_type": "stream",
     "text": [
      "  0%|▎                                                                             | 17/5000 [06:16<33:58:42, 24.55s/it]"
     ]
    },
    {
     "name": "stdout",
     "output_type": "stream",
     "text": [
      "\n",
      "Sampler: \n",
      " time before loop:  1.5493433475494385\n",
      "18  loops: 25.192261457443237 \n",
      " average time per loop:  1.399570107460022\n",
      "Save in Buffer:  0.0008749961853027344 \n",
      "\n"
     ]
    },
    {
     "name": "stderr",
     "output_type": "stream",
     "text": [
      "  0%|▎                                                                             | 18/5000 [06:46<35:57:57, 25.99s/it]"
     ]
    },
    {
     "name": "stdout",
     "output_type": "stream",
     "text": [
      "\n",
      "Sampler: \n",
      " time before loop:  1.9265854358673096\n",
      "17  loops: 27.813289642333984 \n",
      " average time per loop:  1.636075917412253\n",
      "Save in Buffer:  0.0007250308990478516 \n",
      "\n"
     ]
    },
    {
     "name": "stderr",
     "output_type": "stream",
     "text": [
      "  0%|▎                                                                             | 19/5000 [07:18<38:35:33, 27.89s/it]"
     ]
    },
    {
     "name": "stdout",
     "output_type": "stream",
     "text": [
      "\n",
      "Sampler: \n",
      " time before loop:  2.0243213176727295\n",
      "17  loops: 22.735798835754395 \n",
      " average time per loop:  1.3373999735888313\n",
      "Save in Buffer:  0.0008144378662109375 \n",
      "\n"
     ]
    },
    {
     "name": "stderr",
     "output_type": "stream",
     "text": [
      "  0%|▎                                                                             | 20/5000 [07:45<38:21:01, 27.72s/it]"
     ]
    },
    {
     "name": "stdout",
     "output_type": "stream",
     "text": [
      "\n",
      "Sampler: \n",
      " time before loop:  1.509692907333374\n",
      "15  loops: 19.77108335494995 \n",
      " average time per loop:  1.3180722872416177\n",
      "Save in Buffer:  0.0006620883941650391 \n",
      "\n"
     ]
    },
    {
     "name": "stderr",
     "output_type": "stream",
     "text": [
      "  0%|▎                                                                             | 21/5000 [08:09<36:37:20, 26.48s/it]"
     ]
    },
    {
     "name": "stdout",
     "output_type": "stream",
     "text": [
      "\n",
      "Sampler: \n",
      " time before loop:  1.4259071350097656\n",
      "17  loops: 18.76621174812317 \n",
      " average time per loop:  1.1038948367623722\n",
      "Save in Buffer:  0.0007445812225341797 \n",
      "\n"
     ]
    },
    {
     "name": "stderr",
     "output_type": "stream",
     "text": [
      "  0%|▎                                                                             | 22/5000 [08:31<34:55:31, 25.26s/it]"
     ]
    },
    {
     "name": "stdout",
     "output_type": "stream",
     "text": [
      "\n",
      "Sampler: \n",
      " time before loop:  1.514418363571167\n",
      "15  loops: 18.032124996185303 \n",
      " average time per loop:  1.2021417140960693\n",
      "Save in Buffer:  0.0005440711975097656 \n",
      "\n"
     ]
    },
    {
     "name": "stderr",
     "output_type": "stream",
     "text": [
      "  0%|▎                                                                             | 23/5000 [08:53<33:34:43, 24.29s/it]"
     ]
    },
    {
     "name": "stdout",
     "output_type": "stream",
     "text": [
      "\n",
      "Sampler: \n",
      " time before loop:  1.568443775177002\n",
      "17  loops: 20.998180627822876 \n",
      " average time per loop:  1.2351871378281538\n",
      "Save in Buffer:  0.0008134841918945312 \n",
      "\n"
     ]
    },
    {
     "name": "stderr",
     "output_type": "stream",
     "text": [
      "  0%|▎                                                                             | 24/5000 [09:18<33:51:11, 24.49s/it]"
     ]
    },
    {
     "name": "stdout",
     "output_type": "stream",
     "text": [
      "\n",
      "Sampler: \n",
      " time before loop:  1.584789752960205\n",
      "15  loops: 19.714309692382812 \n",
      " average time per loop:  1.3142873605092367\n",
      "Save in Buffer:  0.0005521774291992188 \n",
      "\n"
     ]
    },
    {
     "name": "stderr",
     "output_type": "stream",
     "text": [
      "  0%|▍                                                                             | 25/5000 [09:42<33:30:34, 24.25s/it]"
     ]
    },
    {
     "name": "stdout",
     "output_type": "stream",
     "text": [
      "\n",
      "Sampler: \n",
      " time before loop:  1.4318766593933105\n",
      "15  loops: 18.70427107810974 \n",
      " average time per loop:  1.246951452891032\n",
      "Save in Buffer:  0.0007498264312744141 \n",
      "\n"
     ]
    },
    {
     "name": "stderr",
     "output_type": "stream",
     "text": [
      "  1%|▍                                                                             | 26/5000 [10:04<32:47:00, 23.73s/it]"
     ]
    },
    {
     "name": "stdout",
     "output_type": "stream",
     "text": [
      "\n",
      "Sampler: \n",
      " time before loop:  1.6118998527526855\n",
      "20  loops: 19.246965408325195 \n",
      " average time per loop:  0.9623483061790467\n",
      "Save in Buffer:  0.0008604526519775391 \n",
      "\n"
     ]
    },
    {
     "name": "stderr",
     "output_type": "stream",
     "text": [
      "  1%|▍                                                                             | 27/5000 [10:28<32:33:25, 23.57s/it]"
     ]
    },
    {
     "name": "stdout",
     "output_type": "stream",
     "text": [
      "\n",
      "Sampler: \n",
      " time before loop:  1.328815221786499\n",
      "16  loops: 17.03317952156067 \n",
      " average time per loop:  1.0645737648010254\n",
      "Save in Buffer:  0.0005543231964111328 \n",
      "\n"
     ]
    },
    {
     "name": "stderr",
     "output_type": "stream",
     "text": [
      "  1%|▍                                                                             | 28/5000 [10:48<31:20:34, 22.69s/it]"
     ]
    },
    {
     "name": "stdout",
     "output_type": "stream",
     "text": [
      "\n",
      "Sampler: \n",
      " time before loop:  1.3680083751678467\n",
      "19  loops: 17.14388370513916 \n",
      " average time per loop:  0.9023097063365736\n",
      "Save in Buffer:  0.0005085468292236328 \n",
      "\n"
     ]
    },
    {
     "name": "stderr",
     "output_type": "stream",
     "text": [
      "  1%|▍                                                                             | 29/5000 [11:09<30:32:03, 22.11s/it]"
     ]
    },
    {
     "name": "stdout",
     "output_type": "stream",
     "text": [
      "\n",
      "Sampler: \n",
      " time before loop:  1.4079031944274902\n",
      "18  loops: 22.041759967803955 \n",
      " average time per loop:  1.2245422469245062\n",
      "Save in Buffer:  0.0018494129180908203 \n",
      "\n"
     ]
    },
    {
     "name": "stderr",
     "output_type": "stream",
     "text": [
      "  1%|▍                                                                             | 30/5000 [11:35<32:04:27, 23.23s/it]"
     ]
    },
    {
     "name": "stdout",
     "output_type": "stream",
     "text": [
      "\n",
      "Sampler: \n",
      " time before loop:  1.528475046157837\n",
      "14  loops: 19.64037537574768 \n",
      " average time per loop:  1.4028840235301427\n",
      "Save in Buffer:  0.012082815170288086 \n",
      "\n"
     ]
    },
    {
     "name": "stderr",
     "output_type": "stream",
     "text": [
      "  1%|▍                                                                             | 31/5000 [11:58<32:12:34, 23.34s/it]"
     ]
    },
    {
     "name": "stdout",
     "output_type": "stream",
     "text": [
      "\n",
      "Sampler: \n",
      " time before loop:  1.4169857501983643\n",
      "18  loops: 21.300691604614258 \n",
      " average time per loop:  1.1833717955483332\n",
      "Save in Buffer:  0.013109445571899414 \n",
      "\n"
     ]
    },
    {
     "name": "stderr",
     "output_type": "stream",
     "text": [
      "  1%|▍                                                                             | 32/5000 [12:24<32:56:47, 23.87s/it]"
     ]
    },
    {
     "name": "stdout",
     "output_type": "stream",
     "text": [
      "\n",
      "Sampler: \n",
      " time before loop:  1.4792065620422363\n",
      "19  loops: 20.519538640975952 \n",
      " average time per loop:  1.0799757555911416\n",
      "Save in Buffer:  0.012690305709838867 \n",
      "\n"
     ]
    },
    {
     "name": "stderr",
     "output_type": "stream",
     "text": [
      "  1%|▌                                                                             | 33/5000 [12:48<33:09:12, 24.03s/it]"
     ]
    },
    {
     "name": "stdout",
     "output_type": "stream",
     "text": [
      "\n",
      "Sampler: \n",
      " time before loop:  1.465810775756836\n",
      "14  loops: 18.275243997573853 \n",
      " average time per loop:  1.305374605315072\n",
      "Save in Buffer:  0.011369705200195312 \n",
      "\n"
     ]
    },
    {
     "name": "stderr",
     "output_type": "stream",
     "text": [
      "  1%|▌                                                                             | 34/5000 [13:10<32:22:10, 23.47s/it]"
     ]
    },
    {
     "name": "stdout",
     "output_type": "stream",
     "text": [
      "\n",
      "Sampler: \n",
      " time before loop:  1.5636448860168457\n",
      "17  loops: 25.492039918899536 \n",
      " average time per loop:  1.4995318020091337\n",
      "Save in Buffer:  0.01567697525024414 \n",
      "\n"
     ]
    },
    {
     "name": "stderr",
     "output_type": "stream",
     "text": [
      "  1%|▌                                                                             | 35/5000 [13:40<34:50:25, 25.26s/it]"
     ]
    },
    {
     "name": "stdout",
     "output_type": "stream",
     "text": [
      "\n",
      "Sampler: \n",
      " time before loop:  1.3651304244995117\n",
      "18  loops: 16.576758861541748 \n",
      " average time per loop:  0.9209311140908135\n",
      "Save in Buffer:  0.011996030807495117 \n",
      "\n"
     ]
    },
    {
     "name": "stderr",
     "output_type": "stream",
     "text": [
      "  1%|▌                                                                             | 36/5000 [14:00<32:44:13, 23.74s/it]"
     ]
    },
    {
     "name": "stdout",
     "output_type": "stream",
     "text": [
      "\n",
      "Sampler: \n",
      " time before loop:  1.3138978481292725\n",
      "17  loops: 23.44651484489441 \n",
      " average time per loop:  1.379206797655891\n",
      "Save in Buffer:  0.01630401611328125 \n",
      "\n"
     ]
    },
    {
     "name": "stderr",
     "output_type": "stream",
     "text": [
      "  1%|▌                                                                             | 37/5000 [14:27<34:06:09, 24.74s/it]"
     ]
    },
    {
     "name": "stdout",
     "output_type": "stream",
     "text": [
      "\n",
      "Sampler: \n",
      " time before loop:  1.4154083728790283\n",
      "19  loops: 23.519136428833008 \n",
      " average time per loop:  1.2378493233730918\n",
      "Save in Buffer:  0.014084577560424805 \n",
      "\n"
     ]
    },
    {
     "name": "stderr",
     "output_type": "stream",
     "text": [
      "  1%|▌                                                                             | 38/5000 [14:54<35:10:18, 25.52s/it]"
     ]
    },
    {
     "name": "stdout",
     "output_type": "stream",
     "text": [
      "\n",
      "Sampler: \n",
      " time before loop:  1.5313539505004883\n",
      "19  loops: 24.70469045639038 \n",
      " average time per loop:  1.3002469163191945\n",
      "Save in Buffer:  0.014654397964477539 \n",
      "\n"
     ]
    },
    {
     "name": "stderr",
     "output_type": "stream",
     "text": [
      "  1%|▌                                                                             | 39/5000 [15:23<36:26:35, 26.45s/it]"
     ]
    },
    {
     "name": "stdout",
     "output_type": "stream",
     "text": [
      "\n",
      "Sampler: \n",
      " time before loop:  1.4789180755615234\n",
      "20  loops: 23.59437131881714 \n",
      " average time per loop:  1.1797186017036438\n",
      "Save in Buffer:  0.014371156692504883 \n",
      "\n"
     ]
    },
    {
     "name": "stderr",
     "output_type": "stream",
     "text": [
      "  1%|▌                                                                             | 40/5000 [15:50<36:53:32, 26.78s/it]"
     ]
    },
    {
     "name": "stdout",
     "output_type": "stream",
     "text": [
      "\n",
      "Sampler: \n",
      " time before loop:  1.5595052242279053\n",
      "18  loops: 24.150861501693726 \n",
      " average time per loop:  1.3417145676083035\n",
      "Save in Buffer:  0.015426874160766602 \n",
      "\n"
     ]
    },
    {
     "name": "stderr",
     "output_type": "stream",
     "text": [
      "  1%|▋                                                                             | 41/5000 [16:18<37:26:47, 27.18s/it]"
     ]
    },
    {
     "name": "stdout",
     "output_type": "stream",
     "text": [
      "\n",
      "Sampler: \n",
      " time before loop:  1.2805864810943604\n",
      "18  loops: 21.4249427318573 \n",
      " average time per loop:  1.1902746624416776\n",
      "Save in Buffer:  0.014907598495483398 \n",
      "\n"
     ]
    },
    {
     "name": "stderr",
     "output_type": "stream",
     "text": [
      "  1%|▋                                                                             | 42/5000 [16:43<36:31:57, 26.53s/it]"
     ]
    },
    {
     "name": "stdout",
     "output_type": "stream",
     "text": [
      "\n",
      "Sampler: \n",
      " time before loop:  1.3706753253936768\n",
      "19  loops: 22.760971546173096 \n",
      " average time per loop:  1.1979459210446006\n",
      "Save in Buffer:  0.016791105270385742 \n",
      "\n"
     ]
    },
    {
     "name": "stderr",
     "output_type": "stream",
     "text": [
      "  1%|▋                                                                             | 43/5000 [17:10<36:29:50, 26.51s/it]"
     ]
    },
    {
     "name": "stdout",
     "output_type": "stream",
     "text": [
      "\n",
      "Sampler: \n",
      " time before loop:  1.5963923931121826\n",
      "20  loops: 22.025563955307007 \n",
      " average time per loop:  1.1012782335281373\n",
      "Save in Buffer:  0.013886451721191406 \n",
      "\n"
     ]
    },
    {
     "name": "stderr",
     "output_type": "stream",
     "text": [
      "  1%|▋                                                                             | 44/5000 [17:36<36:18:55, 26.38s/it]"
     ]
    },
    {
     "name": "stdout",
     "output_type": "stream",
     "text": [
      "\n",
      "Sampler: \n",
      " time before loop:  1.5112433433532715\n",
      "19  loops: 21.402124404907227 \n",
      " average time per loop:  1.1264276253549677\n",
      "Save in Buffer:  0.013724327087402344 \n",
      "\n"
     ]
    },
    {
     "name": "stderr",
     "output_type": "stream",
     "text": [
      "  1%|▋                                                                             | 45/5000 [18:01<35:51:23, 26.05s/it]"
     ]
    },
    {
     "name": "stdout",
     "output_type": "stream",
     "text": [
      "\n",
      "Sampler: \n",
      " time before loop:  1.3441734313964844\n",
      "18  loops: 23.012804746627808 \n",
      " average time per loop:  1.2784891923268635\n",
      "Save in Buffer:  0.01440572738647461 \n",
      "\n"
     ]
    },
    {
     "name": "stderr",
     "output_type": "stream",
     "text": [
      "  1%|▋                                                                             | 46/5000 [18:28<36:08:59, 26.27s/it]"
     ]
    },
    {
     "name": "stdout",
     "output_type": "stream",
     "text": [
      "\n",
      "Sampler: \n",
      " time before loop:  1.4934258460998535\n",
      "17  loops: 23.546497344970703 \n",
      " average time per loop:  1.3850881352144129\n",
      "Save in Buffer:  0.014142513275146484 \n",
      "\n"
     ]
    },
    {
     "name": "stderr",
     "output_type": "stream",
     "text": [
      "  1%|▋                                                                             | 47/5000 [18:55<36:35:24, 26.59s/it]"
     ]
    },
    {
     "name": "stdout",
     "output_type": "stream",
     "text": [
      "\n",
      "Sampler: \n",
      " time before loop:  1.4480559825897217\n",
      "19  loops: 22.95565176010132 \n",
      " average time per loop:  1.2081922355451082\n",
      "Save in Buffer:  0.014214038848876953 \n",
      "\n"
     ]
    },
    {
     "name": "stderr",
     "output_type": "stream",
     "text": [
      "  1%|▋                                                                             | 48/5000 [19:22<36:41:12, 26.67s/it]"
     ]
    },
    {
     "name": "stdout",
     "output_type": "stream",
     "text": [
      "\n",
      "Sampler: \n",
      " time before loop:  1.4534354209899902\n",
      "18  loops: 23.822932243347168 \n",
      " average time per loop:  1.3234962622324626\n",
      "Save in Buffer:  0.014750480651855469 \n",
      "\n"
     ]
    },
    {
     "name": "stderr",
     "output_type": "stream",
     "text": [
      "  1%|▊                                                                             | 49/5000 [19:50<37:05:29, 26.97s/it]"
     ]
    },
    {
     "name": "stdout",
     "output_type": "stream",
     "text": [
      "\n",
      "Sampler: \n",
      " time before loop:  1.5261001586914062\n",
      "19  loops: 23.97091031074524 \n",
      " average time per loop:  1.2616268961053145\n",
      "Save in Buffer:  0.014845132827758789 \n",
      "\n"
     ]
    },
    {
     "name": "stderr",
     "output_type": "stream",
     "text": [
      "  1%|▊                                                                             | 50/5000 [20:18<37:28:37, 27.26s/it]"
     ]
    },
    {
     "name": "stdout",
     "output_type": "stream",
     "text": [
      "\n",
      "Sampler: \n",
      " time before loop:  1.5461690425872803\n",
      "17  loops: 18.17887592315674 \n",
      " average time per loop:  1.0693456846124985\n",
      "Save in Buffer:  0.01250147819519043 \n",
      "\n"
     ]
    },
    {
     "name": "stderr",
     "output_type": "stream",
     "text": [
      "  1%|▊                                                                             | 51/5000 [20:40<35:21:29, 25.72s/it]"
     ]
    },
    {
     "name": "stdout",
     "output_type": "stream",
     "text": [
      "\n",
      "Sampler: \n",
      " time before loop:  1.5234770774841309\n",
      "19  loops: 25.91899585723877 \n",
      " average time per loop:  1.3641577017934698\n",
      "Save in Buffer:  0.01584792137145996 \n",
      "\n"
     ]
    },
    {
     "name": "stderr",
     "output_type": "stream",
     "text": [
      "  1%|▊                                                                             | 52/5000 [21:10<37:03:02, 26.96s/it]"
     ]
    },
    {
     "name": "stdout",
     "output_type": "stream",
     "text": [
      "\n",
      "Sampler: \n",
      " time before loop:  1.4439659118652344\n",
      "19  loops: 25.424060583114624 \n",
      " average time per loop:  1.3381084893879138\n",
      "Save in Buffer:  0.015911102294921875 \n",
      "\n"
     ]
    },
    {
     "name": "stderr",
     "output_type": "stream",
     "text": [
      "  1%|▊                                                                             | 53/5000 [21:39<38:03:29, 27.70s/it]"
     ]
    },
    {
     "name": "stdout",
     "output_type": "stream",
     "text": [
      "\n",
      "Sampler: \n",
      " time before loop:  1.618558645248413\n",
      "19  loops: 24.548462629318237 \n",
      " average time per loop:  1.292024386556525\n",
      "Save in Buffer:  0.015960693359375 \n",
      "\n"
     ]
    },
    {
     "name": "stderr",
     "output_type": "stream",
     "text": [
      "  1%|▊                                                                             | 54/5000 [22:08<38:24:22, 27.95s/it]"
     ]
    },
    {
     "name": "stdout",
     "output_type": "stream",
     "text": [
      "\n",
      "Sampler: \n",
      " time before loop:  1.533804178237915\n",
      "19  loops: 24.306854486465454 \n",
      " average time per loop:  1.2793081685116416\n",
      "Save in Buffer:  0.01550745964050293 \n",
      "\n"
     ]
    },
    {
     "name": "stderr",
     "output_type": "stream",
     "text": [
      "  1%|▊                                                                             | 55/5000 [22:36<38:31:34, 28.05s/it]"
     ]
    },
    {
     "name": "stdout",
     "output_type": "stream",
     "text": [
      "\n",
      "Sampler: \n",
      " time before loop:  1.4226226806640625\n",
      "20  loops: 22.94553256034851 \n",
      " average time per loop:  1.1472766637802123\n",
      "Save in Buffer:  0.015392541885375977 \n",
      "\n"
     ]
    },
    {
     "name": "stderr",
     "output_type": "stream",
     "text": [
      "  1%|▊                                                                             | 56/5000 [23:03<37:59:32, 27.66s/it]"
     ]
    },
    {
     "name": "stdout",
     "output_type": "stream",
     "text": [
      "\n",
      "Sampler: \n",
      " time before loop:  1.4592337608337402\n",
      "18  loops: 24.8584725856781 \n",
      " average time per loop:  1.381026307741801\n",
      "Save in Buffer:  0.018260478973388672 \n",
      "\n"
     ]
    },
    {
     "name": "stderr",
     "output_type": "stream",
     "text": [
      "  1%|▉                                                                             | 57/5000 [23:32<38:26:12, 27.99s/it]"
     ]
    },
    {
     "name": "stdout",
     "output_type": "stream",
     "text": [
      "\n",
      "Sampler: \n",
      " time before loop:  1.4749021530151367\n",
      "17  loops: 16.032104969024658 \n",
      " average time per loop:  0.9430650262271657\n",
      "Save in Buffer:  0.010555267333984375 \n",
      "\n"
     ]
    },
    {
     "name": "stderr",
     "output_type": "stream",
     "text": [
      "  1%|▉                                                                             | 58/5000 [23:52<35:06:57, 25.58s/it]"
     ]
    },
    {
     "name": "stdout",
     "output_type": "stream",
     "text": [
      "\n",
      "Sampler: \n",
      " time before loop:  1.4353265762329102\n",
      "20  loops: 24.378294229507446 \n",
      " average time per loop:  1.218914759159088\n",
      "Save in Buffer:  0.016932964324951172 \n",
      "\n"
     ]
    },
    {
     "name": "stderr",
     "output_type": "stream",
     "text": [
      "  1%|▉                                                                             | 59/5000 [24:20<36:09:25, 26.34s/it]"
     ]
    },
    {
     "name": "stdout",
     "output_type": "stream",
     "text": [
      "\n",
      "Sampler: \n",
      " time before loop:  1.4163939952850342\n",
      "20  loops: 26.69993758201599 \n",
      " average time per loop:  1.3349969148635865\n",
      "Save in Buffer:  0.016796588897705078 \n",
      "\n"
     ]
    },
    {
     "name": "stderr",
     "output_type": "stream",
     "text": [
      "  1%|▉                                                                             | 60/5000 [24:50<37:49:20, 27.56s/it]"
     ]
    },
    {
     "name": "stdout",
     "output_type": "stream",
     "text": [
      "\n",
      "Sampler: \n",
      " time before loop:  1.4167771339416504\n",
      "20  loops: 21.610124349594116 \n",
      " average time per loop:  1.0805062532424927\n",
      "Save in Buffer:  0.015671730041503906 \n",
      "\n"
     ]
    },
    {
     "name": "stderr",
     "output_type": "stream",
     "text": [
      "  1%|▉                                                                             | 61/5000 [25:15<36:52:28, 26.88s/it]"
     ]
    },
    {
     "name": "stdout",
     "output_type": "stream",
     "text": [
      "\n",
      "Sampler: \n",
      " time before loop:  1.3301072120666504\n",
      "19  loops: 25.573704719543457 \n",
      " average time per loop:  1.3459844965683787\n",
      "Save in Buffer:  0.01729130744934082 \n",
      "\n"
     ]
    },
    {
     "name": "stderr",
     "output_type": "stream",
     "text": [
      "  1%|▉                                                                             | 62/5000 [25:45<37:53:54, 27.63s/it]"
     ]
    },
    {
     "name": "stdout",
     "output_type": "stream",
     "text": [
      "\n",
      "Sampler: \n",
      " time before loop:  1.5366153717041016\n",
      "20  loops: 22.02327609062195 \n",
      " average time per loop:  1.1011638522148133\n",
      "Save in Buffer:  0.014121532440185547 \n",
      "\n"
     ]
    },
    {
     "name": "stderr",
     "output_type": "stream",
     "text": [
      "  1%|▉                                                                             | 63/5000 [26:11<37:13:08, 27.14s/it]"
     ]
    },
    {
     "name": "stdout",
     "output_type": "stream",
     "text": [
      "\n",
      "Sampler: \n",
      " time before loop:  1.6731159687042236\n",
      "20  loops: 24.37833833694458 \n",
      " average time per loop:  1.218916940689087\n",
      "Save in Buffer:  0.014696359634399414 \n",
      "\n"
     ]
    },
    {
     "name": "stderr",
     "output_type": "stream",
     "text": [
      "  1%|▉                                                                             | 64/5000 [26:39<37:45:05, 27.53s/it]"
     ]
    },
    {
     "name": "stdout",
     "output_type": "stream",
     "text": [
      "\n",
      "Sampler: \n",
      " time before loop:  1.5431163311004639\n",
      "19  loops: 23.850756406784058 \n",
      " average time per loop:  1.2553030064231472\n",
      "Save in Buffer:  0.015024423599243164 \n",
      "\n"
     ]
    },
    {
     "name": "stderr",
     "output_type": "stream",
     "text": [
      "  1%|█                                                                             | 65/5000 [27:07<37:51:59, 27.62s/it]"
     ]
    },
    {
     "name": "stdout",
     "output_type": "stream",
     "text": [
      "\n",
      "Sampler: \n",
      " time before loop:  1.6400678157806396\n",
      "17  loops: 14.665027856826782 \n",
      " average time per loop:  0.8626487395342659\n",
      "Save in Buffer:  0.010359048843383789 \n",
      "\n"
     ]
    },
    {
     "name": "stderr",
     "output_type": "stream",
     "text": [
      "  1%|█                                                                             | 66/5000 [27:26<34:12:04, 24.95s/it]"
     ]
    },
    {
     "name": "stdout",
     "output_type": "stream",
     "text": [
      "\n",
      "Sampler: \n",
      " time before loop:  1.571124792098999\n",
      "20  loops: 25.29953908920288 \n",
      " average time per loop:  1.2649769902229309\n",
      "Save in Buffer:  0.015588760375976562 \n",
      "\n"
     ]
    },
    {
     "name": "stderr",
     "output_type": "stream",
     "text": [
      "  1%|█                                                                             | 67/5000 [27:55<35:56:49, 26.23s/it]"
     ]
    },
    {
     "name": "stdout",
     "output_type": "stream",
     "text": [
      "\n",
      "Sampler: \n",
      " time before loop:  1.5765700340270996\n",
      "20  loops: 24.38577437400818 \n",
      " average time per loop:  1.2192887544631958\n",
      "Save in Buffer:  0.015370845794677734 \n",
      "\n"
     ]
    },
    {
     "name": "stderr",
     "output_type": "stream",
     "text": [
      "  1%|█                                                                             | 68/5000 [28:23<36:49:49, 26.88s/it]"
     ]
    },
    {
     "name": "stdout",
     "output_type": "stream",
     "text": [
      "\n",
      "Sampler: \n",
      " time before loop:  1.6773064136505127\n",
      "18  loops: 23.123960494995117 \n",
      " average time per loop:  1.2846645381715562\n",
      "Save in Buffer:  0.016863346099853516 \n",
      "\n"
     ]
    },
    {
     "name": "stderr",
     "output_type": "stream",
     "text": [
      "  1%|█                                                                             | 69/5000 [28:51<36:57:25, 26.98s/it]"
     ]
    },
    {
     "name": "stdout",
     "output_type": "stream",
     "text": [
      "\n",
      "Sampler: \n",
      " time before loop:  1.4991557598114014\n",
      "17  loops: 17.522921085357666 \n",
      " average time per loop:  1.0307601479923023\n",
      "Save in Buffer:  0.011581182479858398 \n",
      "\n"
     ]
    },
    {
     "name": "stderr",
     "output_type": "stream",
     "text": [
      "  1%|█                                                                             | 70/5000 [29:12<34:40:10, 25.32s/it]"
     ]
    },
    {
     "name": "stdout",
     "output_type": "stream",
     "text": [
      "\n",
      "Sampler: \n",
      " time before loop:  1.4630670547485352\n",
      "17  loops: 26.118266582489014 \n",
      " average time per loop:  1.5363686645732206\n",
      "Save in Buffer:  0.015790224075317383 \n",
      "\n"
     ]
    },
    {
     "name": "stderr",
     "output_type": "stream",
     "text": [
      "  1%|█                                                                             | 71/5000 [29:42<36:35:09, 26.72s/it]"
     ]
    },
    {
     "name": "stdout",
     "output_type": "stream",
     "text": [
      "\n",
      "Sampler: \n",
      " time before loop:  1.3304922580718994\n",
      "18  loops: 24.096846103668213 \n",
      " average time per loop:  1.3387137121624417\n",
      "Save in Buffer:  0.017935514450073242 \n",
      "\n"
     ]
    },
    {
     "name": "stderr",
     "output_type": "stream",
     "text": [
      "  1%|█                                                                             | 72/5000 [30:10<37:00:24, 27.03s/it]"
     ]
    },
    {
     "name": "stdout",
     "output_type": "stream",
     "text": [
      "\n",
      "Sampler: \n",
      " time before loop:  1.4008214473724365\n",
      "20  loops: 24.394619941711426 \n",
      " average time per loop:  1.219731044769287\n",
      "Save in Buffer:  0.016392230987548828 \n",
      "\n"
     ]
    },
    {
     "name": "stderr",
     "output_type": "stream",
     "text": [
      "  1%|█▏                                                                            | 73/5000 [30:38<37:26:22, 27.36s/it]"
     ]
    },
    {
     "name": "stdout",
     "output_type": "stream",
     "text": [
      "\n",
      "Sampler: \n",
      " time before loop:  1.4371662139892578\n",
      "17  loops: 25.20305299758911 \n",
      " average time per loop:  1.4825325713438147\n",
      "Save in Buffer:  0.01675105094909668 \n",
      "\n"
     ]
    },
    {
     "name": "stderr",
     "output_type": "stream",
     "text": [
      "  1%|█▏                                                                            | 74/5000 [31:07<38:08:15, 27.87s/it]"
     ]
    },
    {
     "name": "stdout",
     "output_type": "stream",
     "text": [
      "\n",
      "Sampler: \n",
      " time before loop:  1.4740331172943115\n",
      "20  loops: 25.997674226760864 \n",
      " average time per loop:  1.29988374710083\n",
      "Save in Buffer:  0.017142534255981445 \n",
      "\n"
     ]
    },
    {
     "name": "stderr",
     "output_type": "stream",
     "text": [
      "  2%|█▏                                                                            | 75/5000 [31:37<38:56:48, 28.47s/it]"
     ]
    },
    {
     "name": "stdout",
     "output_type": "stream",
     "text": [
      "\n",
      "Sampler: \n",
      " time before loop:  1.3926033973693848\n",
      "19  loops: 22.45254349708557 \n",
      " average time per loop:  1.1817128407327753\n",
      "Save in Buffer:  0.01621842384338379 \n",
      "\n"
     ]
    },
    {
     "name": "stderr",
     "output_type": "stream",
     "text": [
      "  2%|█▏                                                                            | 76/5000 [32:03<37:59:38, 27.78s/it]"
     ]
    },
    {
     "name": "stdout",
     "output_type": "stream",
     "text": [
      "\n",
      "Sampler: \n",
      " time before loop:  1.4729704856872559\n",
      "20  loops: 26.37308168411255 \n",
      " average time per loop:  1.3186541199684143\n",
      "Save in Buffer:  0.016663789749145508 \n",
      "\n"
     ]
    },
    {
     "name": "stderr",
     "output_type": "stream",
     "text": [
      "  2%|█▏                                                                            | 77/5000 [32:33<39:00:49, 28.53s/it]"
     ]
    },
    {
     "name": "stdout",
     "output_type": "stream",
     "text": [
      "\n",
      "Sampler: \n",
      " time before loop:  1.3914563655853271\n",
      "20  loops: 25.373788118362427 \n",
      " average time per loop:  1.268689465522766\n",
      "Save in Buffer:  0.016336441040039062 \n",
      "\n"
     ]
    },
    {
     "name": "stderr",
     "output_type": "stream",
     "text": [
      "  2%|█▏                                                                            | 78/5000 [33:02<39:16:14, 28.72s/it]"
     ]
    },
    {
     "name": "stdout",
     "output_type": "stream",
     "text": [
      "\n",
      "Sampler: \n",
      " time before loop:  1.38093900680542\n",
      "19  loops: 22.61745858192444 \n",
      " average time per loop:  1.1903926196851229\n",
      "Save in Buffer:  0.016348838806152344 \n",
      "\n"
     ]
    },
    {
     "name": "stderr",
     "output_type": "stream",
     "text": [
      "  2%|█▏                                                                            | 79/5000 [33:29<38:16:28, 28.00s/it]"
     ]
    },
    {
     "name": "stdout",
     "output_type": "stream",
     "text": [
      "\n",
      "Sampler: \n",
      " time before loop:  1.282965898513794\n",
      "20  loops: 26.8279230594635 \n",
      " average time per loop:  1.341396200656891\n",
      "Save in Buffer:  0.017400503158569336 \n",
      "\n"
     ]
    },
    {
     "name": "stderr",
     "output_type": "stream",
     "text": [
      "  2%|█▏                                                                            | 80/5000 [33:59<39:14:08, 28.71s/it]"
     ]
    },
    {
     "name": "stdout",
     "output_type": "stream",
     "text": [
      "\n",
      "Sampler: \n",
      " time before loop:  1.5863182544708252\n",
      "20  loops: 20.99826979637146 \n",
      " average time per loop:  1.049913513660431\n",
      "Save in Buffer:  0.014543294906616211 \n",
      "\n"
     ]
    },
    {
     "name": "stderr",
     "output_type": "stream",
     "text": [
      "  2%|█▎                                                                            | 81/5000 [34:24<37:42:31, 27.60s/it]"
     ]
    },
    {
     "name": "stdout",
     "output_type": "stream",
     "text": [
      "\n",
      "Sampler: \n",
      " time before loop:  1.5089123249053955\n",
      "20  loops: 27.21677541732788 \n",
      " average time per loop:  1.3608387947082519\n",
      "Save in Buffer:  0.017988920211791992 \n",
      "\n"
     ]
    },
    {
     "name": "stderr",
     "output_type": "stream",
     "text": [
      "  2%|█▎                                                                            | 82/5000 [34:55<39:09:05, 28.66s/it]"
     ]
    },
    {
     "name": "stdout",
     "output_type": "stream",
     "text": [
      "\n",
      "Sampler: \n",
      " time before loop:  1.4825785160064697\n",
      "20  loops: 27.44115447998047 \n",
      " average time per loop:  1.3720577597618102\n",
      "Save in Buffer:  0.020457983016967773 \n",
      "\n"
     ]
    },
    {
     "name": "stderr",
     "output_type": "stream",
     "text": [
      "  2%|█▎                                                                            | 83/5000 [35:27<40:14:55, 29.47s/it]"
     ]
    },
    {
     "name": "stdout",
     "output_type": "stream",
     "text": [
      "\n",
      "Sampler: \n",
      " time before loop:  1.3141837120056152\n",
      "20  loops: 23.811580419540405 \n",
      " average time per loop:  1.1905790567398071\n",
      "Save in Buffer:  0.017423629760742188 \n",
      "\n"
     ]
    },
    {
     "name": "stderr",
     "output_type": "stream",
     "text": [
      "  2%|█▎                                                                            | 84/5000 [35:54<39:23:10, 28.84s/it]"
     ]
    },
    {
     "name": "stdout",
     "output_type": "stream",
     "text": [
      "\n",
      "Sampler: \n",
      " time before loop:  1.3560495376586914\n",
      "20  loops: 26.3017737865448 \n",
      " average time per loop:  1.315088725090027\n",
      "Save in Buffer:  0.0175936222076416 \n",
      "\n"
     ]
    },
    {
     "name": "stderr",
     "output_type": "stream",
     "text": [
      "  2%|█▎                                                                            | 85/5000 [36:24<39:50:00, 29.18s/it]"
     ]
    },
    {
     "name": "stdout",
     "output_type": "stream",
     "text": [
      "\n",
      "Sampler: \n",
      " time before loop:  1.4565532207489014\n",
      "20  loops: 28.60648822784424 \n",
      " average time per loop:  1.4303244829177857\n",
      "Save in Buffer:  0.01848459243774414 \n",
      "\n"
     ]
    },
    {
     "name": "stderr",
     "output_type": "stream",
     "text": [
      "  2%|█▎                                                                            | 86/5000 [36:56<41:09:55, 30.16s/it]"
     ]
    },
    {
     "name": "stdout",
     "output_type": "stream",
     "text": [
      "\n",
      "Sampler: \n",
      " time before loop:  1.461817741394043\n",
      "20  loops: 27.812142848968506 \n",
      " average time per loop:  1.390607190132141\n",
      "Save in Buffer:  0.018383264541625977 \n",
      "\n"
     ]
    },
    {
     "name": "stderr",
     "output_type": "stream",
     "text": [
      "  2%|█▎                                                                            | 87/5000 [37:28<41:46:32, 30.61s/it]"
     ]
    },
    {
     "name": "stdout",
     "output_type": "stream",
     "text": [
      "\n",
      "Sampler: \n",
      " time before loop:  1.381953477859497\n",
      "20  loops: 24.219498872756958 \n",
      " average time per loop:  1.210974967479706\n",
      "Save in Buffer:  0.017699718475341797 \n",
      "\n"
     ]
    },
    {
     "name": "stderr",
     "output_type": "stream",
     "text": [
      "  2%|█▎                                                                            | 88/5000 [37:56<40:39:45, 29.80s/it]"
     ]
    },
    {
     "name": "stdout",
     "output_type": "stream",
     "text": [
      "\n",
      "Sampler: \n",
      " time before loop:  1.4687469005584717\n",
      "20  loops: 28.270344972610474 \n",
      " average time per loop:  1.4135172724723817\n",
      "Save in Buffer:  0.018628835678100586 \n",
      "\n"
     ]
    },
    {
     "name": "stderr",
     "output_type": "stream",
     "text": [
      "  2%|█▍                                                                            | 89/5000 [38:28<41:37:38, 30.51s/it]"
     ]
    },
    {
     "name": "stdout",
     "output_type": "stream",
     "text": [
      "\n",
      "Sampler: \n",
      " time before loop:  1.5302882194519043\n",
      "20  loops: 28.94754910469055 \n",
      " average time per loop:  1.4473775148391723\n",
      "Save in Buffer:  0.01847362518310547 \n",
      "\n"
     ]
    },
    {
     "name": "stderr",
     "output_type": "stream",
     "text": [
      "  2%|█▍                                                                            | 90/5000 [39:01<42:35:40, 31.23s/it]"
     ]
    },
    {
     "name": "stdout",
     "output_type": "stream",
     "text": [
      "\n",
      "Sampler: \n",
      " time before loop:  1.393439769744873\n",
      "20  loops: 29.27704358100891 \n",
      " average time per loop:  1.4638522386550903\n",
      "Save in Buffer:  0.02713918685913086 \n",
      "\n"
     ]
    },
    {
     "name": "stderr",
     "output_type": "stream",
     "text": [
      "  2%|█▍                                                                            | 91/5000 [39:34<43:21:46, 31.80s/it]"
     ]
    },
    {
     "name": "stdout",
     "output_type": "stream",
     "text": [
      "\n",
      "Sampler: \n",
      " time before loop:  1.3858733177185059\n",
      "20  loops: 25.12081241607666 \n",
      " average time per loop:  1.2560406565666198\n",
      "Save in Buffer:  0.018970966339111328 \n",
      "\n"
     ]
    },
    {
     "name": "stderr",
     "output_type": "stream",
     "text": [
      "  2%|█▍                                                                            | 92/5000 [40:03<42:06:59, 30.89s/it]"
     ]
    },
    {
     "name": "stdout",
     "output_type": "stream",
     "text": [
      "\n",
      "Sampler: \n",
      " time before loop:  1.4726264476776123\n",
      "20  loops: 26.067435026168823 \n",
      " average time per loop:  1.303371787071228\n",
      "Save in Buffer:  0.019719362258911133 \n",
      "\n"
     ]
    },
    {
     "name": "stderr",
     "output_type": "stream",
     "text": [
      "  2%|█▍                                                                            | 93/5000 [40:33<41:41:23, 30.59s/it]"
     ]
    },
    {
     "name": "stdout",
     "output_type": "stream",
     "text": [
      "\n",
      "Sampler: \n",
      " time before loop:  1.558898687362671\n",
      "20  loops: 29.400002241134644 \n",
      " average time per loop:  1.4700001358985901\n",
      "Save in Buffer:  0.019818782806396484 \n",
      "\n"
     ]
    },
    {
     "name": "stderr",
     "output_type": "stream",
     "text": [
      "  2%|█▍                                                                            | 94/5000 [41:06<42:49:08, 31.42s/it]"
     ]
    },
    {
     "name": "stdout",
     "output_type": "stream",
     "text": [
      "\n",
      "Sampler: \n",
      " time before loop:  1.4604501724243164\n",
      "20  loops: 28.013246059417725 \n",
      " average time per loop:  1.4006623387336732\n",
      "Save in Buffer:  0.01832866668701172 \n",
      "\n"
     ]
    },
    {
     "name": "stderr",
     "output_type": "stream",
     "text": [
      "  2%|█▍                                                                            | 95/5000 [41:38<43:05:33, 31.63s/it]"
     ]
    },
    {
     "name": "stdout",
     "output_type": "stream",
     "text": [
      "\n",
      "Sampler: \n",
      " time before loop:  1.4704933166503906\n",
      "20  loops: 29.825194597244263 \n",
      " average time per loop:  1.491259765625\n",
      "Save in Buffer:  0.02055835723876953 \n",
      "\n"
     ]
    },
    {
     "name": "stderr",
     "output_type": "stream",
     "text": [
      "  2%|█▍                                                                            | 96/5000 [42:12<43:55:26, 32.24s/it]"
     ]
    },
    {
     "name": "stdout",
     "output_type": "stream",
     "text": [
      "\n",
      "Sampler: \n",
      " time before loop:  1.5373528003692627\n",
      "20  loops: 29.306589365005493 \n",
      " average time per loop:  1.4653295040130616\n",
      "Save in Buffer:  0.01904010772705078 \n",
      "\n"
     ]
    },
    {
     "name": "stderr",
     "output_type": "stream",
     "text": [
      "  2%|█▌                                                                            | 97/5000 [42:45<44:20:25, 32.56s/it]"
     ]
    },
    {
     "name": "stdout",
     "output_type": "stream",
     "text": [
      "\n",
      "Sampler: \n",
      " time before loop:  1.5533256530761719\n",
      "20  loops: 28.719782829284668 \n",
      " average time per loop:  1.4359891653060912\n",
      "Save in Buffer:  0.01899123191833496 \n",
      "\n"
     ]
    },
    {
     "name": "stderr",
     "output_type": "stream",
     "text": [
      "  2%|█▌                                                                            | 98/5000 [43:18<44:22:00, 32.58s/it]"
     ]
    },
    {
     "name": "stdout",
     "output_type": "stream",
     "text": [
      "\n",
      "Sampler: \n",
      " time before loop:  1.3673603534698486\n",
      "20  loops: 26.26298975944519 \n",
      " average time per loop:  1.3131495356559753\n",
      "Save in Buffer:  0.02123427391052246 \n",
      "\n"
     ]
    },
    {
     "name": "stderr",
     "output_type": "stream",
     "text": [
      "  2%|█▌                                                                            | 99/5000 [43:48<43:17:00, 31.79s/it]"
     ]
    },
    {
     "name": "stdout",
     "output_type": "stream",
     "text": [
      "\n",
      "Sampler: \n",
      " time before loop:  1.3158259391784668\n",
      "20  loops: 26.69090485572815 \n",
      " average time per loop:  1.3345452785491942\n",
      "Save in Buffer:  0.019870996475219727 \n",
      "\n"
     ]
    },
    {
     "name": "stderr",
     "output_type": "stream",
     "text": [
      "  2%|█▌                                                                           | 100/5000 [44:18<42:40:23, 31.35s/it]"
     ]
    },
    {
     "name": "stdout",
     "output_type": "stream",
     "text": [
      "\n",
      "Sampler: \n",
      " time before loop:  0.12943744659423828\n",
      "18  loops: 1.5406928062438965 \n",
      " average time per loop:  0.08559407128228082\n",
      "Save in Buffer:  2.384185791015625e-07 \n",
      "\n",
      "Best Agent average reward: 0.0877742946708464\n",
      "Loss  100 :  477.35785 \n",
      "\n",
      "inner_iteration_average last 100 iterations:  2.0949301648139955\n",
      "outer_iteration_average last 100 iterations:  26.58574923992157\n",
      "Average_Sampling_Time last 100 iterations:  24.165829775333403 \n",
      "\n",
      "\n",
      "Sampler: \n",
      " time before loop:  1.3863780498504639\n",
      "20  loops: 27.388129949569702 \n",
      " average time per loop:  1.369406533241272\n",
      "Save in Buffer:  0.02033376693725586 \n",
      "\n"
     ]
    },
    {
     "name": "stderr",
     "output_type": "stream",
     "text": [
      "  2%|█▌                                                                           | 101/5000 [44:51<43:15:37, 31.79s/it]"
     ]
    },
    {
     "name": "stdout",
     "output_type": "stream",
     "text": [
      "\n",
      "Sampler: \n",
      " time before loop:  1.6323161125183105\n",
      "20  loops: 30.478289127349854 \n",
      " average time per loop:  1.5239144921302796\n",
      "Save in Buffer:  0.019852399826049805 \n",
      "\n"
     ]
    },
    {
     "name": "stderr",
     "output_type": "stream",
     "text": [
      "  2%|█▌                                                                           | 102/5000 [45:26<44:23:03, 32.62s/it]"
     ]
    },
    {
     "name": "stdout",
     "output_type": "stream",
     "text": [
      "\n",
      "Sampler: \n",
      " time before loop:  1.394590139389038\n",
      "20  loops: 27.164779901504517 \n",
      " average time per loop:  1.3582390308380128\n",
      "Save in Buffer:  0.02024221420288086 \n",
      "\n"
     ]
    },
    {
     "name": "stderr",
     "output_type": "stream",
     "text": [
      "  2%|█▌                                                                           | 103/5000 [45:56<43:39:24, 32.09s/it]"
     ]
    },
    {
     "name": "stdout",
     "output_type": "stream",
     "text": [
      "\n",
      "Sampler: \n",
      " time before loop:  1.310570240020752\n",
      "20  loops: 28.940657377243042 \n",
      " average time per loop:  1.447032904624939\n",
      "Save in Buffer:  0.019919633865356445 \n",
      "\n"
     ]
    },
    {
     "name": "stderr",
     "output_type": "stream",
     "text": [
      "  2%|█▌                                                                           | 104/5000 [46:29<43:50:10, 32.23s/it]"
     ]
    },
    {
     "name": "stdout",
     "output_type": "stream",
     "text": [
      "\n",
      "Sampler: \n",
      " time before loop:  1.5174307823181152\n",
      "20  loops: 31.230348110198975 \n",
      " average time per loop:  1.5615174293518066\n",
      "Save in Buffer:  0.02021622657775879 \n",
      "\n"
     ]
    },
    {
     "name": "stderr",
     "output_type": "stream",
     "text": [
      "  2%|█▌                                                                           | 105/5000 [47:04<45:02:00, 33.12s/it]"
     ]
    },
    {
     "name": "stdout",
     "output_type": "stream",
     "text": [
      "\n",
      "Sampler: \n",
      " time before loop:  1.4642643928527832\n",
      "20  loops: 32.791356801986694 \n",
      " average time per loop:  1.6395678997039795\n",
      "Save in Buffer:  0.020931243896484375 \n",
      "\n"
     ]
    },
    {
     "name": "stderr",
     "output_type": "stream",
     "text": [
      "  2%|█▋                                                                           | 106/5000 [47:41<46:28:22, 34.19s/it]"
     ]
    },
    {
     "name": "stdout",
     "output_type": "stream",
     "text": [
      "\n",
      "Sampler: \n",
      " time before loop:  1.6321346759796143\n",
      "20  loops: 31.727426052093506 \n",
      " average time per loop:  1.5863713383674622\n",
      "Save in Buffer:  0.020506620407104492 \n",
      "\n"
     ]
    },
    {
     "name": "stderr",
     "output_type": "stream",
     "text": [
      "  2%|█▋                                                                           | 107/5000 [48:17<47:05:41, 34.65s/it]"
     ]
    },
    {
     "name": "stdout",
     "output_type": "stream",
     "text": [
      "\n",
      "Sampler: \n",
      " time before loop:  1.5615544319152832\n",
      "20  loops: 30.517807245254517 \n",
      " average time per loop:  1.5258904099464417\n",
      "Save in Buffer:  0.019755125045776367 \n",
      "\n"
     ]
    },
    {
     "name": "stderr",
     "output_type": "stream",
     "text": [
      "  2%|█▋                                                                           | 108/5000 [48:51<47:02:39, 34.62s/it]"
     ]
    },
    {
     "name": "stdout",
     "output_type": "stream",
     "text": [
      "\n",
      "Sampler: \n",
      " time before loop:  1.4497215747833252\n",
      "20  loops: 29.24212145805359 \n",
      " average time per loop:  1.4621060967445374\n",
      "Save in Buffer:  0.021535396575927734 \n",
      "\n"
     ]
    },
    {
     "name": "stderr",
     "output_type": "stream",
     "text": [
      "  2%|█▋                                                                           | 109/5000 [49:24<46:23:15, 34.14s/it]"
     ]
    },
    {
     "name": "stdout",
     "output_type": "stream",
     "text": [
      "\n",
      "Sampler: \n",
      " time before loop:  1.3964722156524658\n",
      "20  loops: 31.531261205673218 \n",
      " average time per loop:  1.5765631079673768\n",
      "Save in Buffer:  0.02187061309814453 \n",
      "\n"
     ]
    },
    {
     "name": "stderr",
     "output_type": "stream",
     "text": [
      "  2%|█▋                                                                           | 110/5000 [50:00<46:54:48, 34.54s/it]"
     ]
    },
    {
     "name": "stdout",
     "output_type": "stream",
     "text": [
      "\n",
      "Sampler: \n",
      " time before loop:  1.4822661876678467\n",
      "20  loops: 30.762181520462036 \n",
      " average time per loop:  1.5381091117858887\n",
      "Save in Buffer:  0.02124762535095215 \n",
      "\n"
     ]
    },
    {
     "name": "stderr",
     "output_type": "stream",
     "text": [
      "  2%|█▋                                                                           | 111/5000 [50:34<46:57:30, 34.58s/it]"
     ]
    },
    {
     "name": "stdout",
     "output_type": "stream",
     "text": [
      "\n",
      "Sampler: \n",
      " time before loop:  1.459484338760376\n",
      "20  loops: 31.968227863311768 \n",
      " average time per loop:  1.5984114289283753\n",
      "Save in Buffer:  0.021760225296020508 \n",
      "\n"
     ]
    },
    {
     "name": "stderr",
     "output_type": "stream",
     "text": [
      "  2%|█▋                                                                           | 112/5000 [51:10<47:28:19, 34.96s/it]"
     ]
    },
    {
     "name": "stdout",
     "output_type": "stream",
     "text": [
      "\n",
      "Sampler: \n",
      " time before loop:  1.4767634868621826\n",
      "20  loops: 31.380335330963135 \n",
      " average time per loop:  1.5690168142318726\n",
      "Save in Buffer:  0.02083897590637207 \n",
      "\n"
     ]
    },
    {
     "name": "stderr",
     "output_type": "stream",
     "text": [
      "  2%|█▋                                                                           | 113/5000 [51:45<47:35:20, 35.06s/it]"
     ]
    },
    {
     "name": "stdout",
     "output_type": "stream",
     "text": [
      "\n",
      "Sampler: \n",
      " time before loop:  1.5170748233795166\n",
      "20  loops: 31.036760568618774 \n",
      " average time per loop:  1.5518380641937255\n",
      "Save in Buffer:  0.01991558074951172 \n",
      "\n"
     ]
    },
    {
     "name": "stderr",
     "output_type": "stream",
     "text": [
      "  2%|█▊                                                                           | 114/5000 [52:20<47:31:11, 35.01s/it]"
     ]
    },
    {
     "name": "stdout",
     "output_type": "stream",
     "text": [
      "\n",
      "Sampler: \n",
      " time before loop:  1.2895433902740479\n",
      "19  loops: 12.83031415939331 \n",
      " average time per loop:  0.6752797302446867\n",
      "Save in Buffer:  0.01015782356262207 \n",
      "\n"
     ]
    },
    {
     "name": "stderr",
     "output_type": "stream",
     "text": [
      "  2%|█▊                                                                           | 115/5000 [52:37<39:56:17, 29.43s/it]"
     ]
    },
    {
     "name": "stdout",
     "output_type": "stream",
     "text": [
      "\n",
      "Sampler: \n",
      " time before loop:  1.390754222869873\n",
      "18  loops: 21.25873565673828 \n",
      " average time per loop:  1.1810409095552232\n",
      "Save in Buffer:  0.014395475387573242 \n",
      "\n"
     ]
    },
    {
     "name": "stderr",
     "output_type": "stream",
     "text": [
      "  2%|█▊                                                                           | 116/5000 [53:02<38:05:01, 28.07s/it]"
     ]
    },
    {
     "name": "stdout",
     "output_type": "stream",
     "text": [
      "\n",
      "Sampler: \n",
      " time before loop:  1.4726333618164062\n",
      "20  loops: 29.131874561309814 \n",
      " average time per loop:  1.4565937638282775\n",
      "Save in Buffer:  0.020809173583984375 \n",
      "\n"
     ]
    },
    {
     "name": "stderr",
     "output_type": "stream",
     "text": [
      "  2%|█▊                                                                           | 117/5000 [53:35<40:06:15, 29.57s/it]"
     ]
    },
    {
     "name": "stdout",
     "output_type": "stream",
     "text": [
      "\n",
      "Sampler: \n",
      " time before loop:  1.4313974380493164\n",
      "20  loops: 28.36599349975586 \n",
      " average time per loop:  1.41829971075058\n",
      "Save in Buffer:  0.01905965805053711 \n",
      "\n"
     ]
    },
    {
     "name": "stderr",
     "output_type": "stream",
     "text": [
      "  2%|█▊                                                                           | 118/5000 [54:07<41:10:46, 30.37s/it]"
     ]
    },
    {
     "name": "stdout",
     "output_type": "stream",
     "text": [
      "\n",
      "Sampler: \n",
      " time before loop:  1.4940199851989746\n",
      "20  loops: 30.139652252197266 \n",
      " average time per loop:  1.5069826602935792\n",
      "Save in Buffer:  0.01995253562927246 \n",
      "\n"
     ]
    },
    {
     "name": "stderr",
     "output_type": "stream",
     "text": [
      "  2%|█▊                                                                           | 119/5000 [54:41<42:40:22, 31.47s/it]"
     ]
    },
    {
     "name": "stdout",
     "output_type": "stream",
     "text": [
      "\n",
      "Sampler: \n",
      " time before loop:  1.3760571479797363\n",
      "20  loops: 26.3096284866333 \n",
      " average time per loop:  1.315481472015381\n",
      "Save in Buffer:  0.02041029930114746 \n",
      "\n"
     ]
    },
    {
     "name": "stderr",
     "output_type": "stream",
     "text": [
      "  2%|█▊                                                                           | 120/5000 [55:11<42:04:05, 31.03s/it]"
     ]
    },
    {
     "name": "stdout",
     "output_type": "stream",
     "text": [
      "\n",
      "Sampler: \n",
      " time before loop:  1.5074424743652344\n",
      "20  loops: 28.05819845199585 \n",
      " average time per loop:  1.4029099583625793\n",
      "Save in Buffer:  0.02132868766784668 \n",
      "\n"
     ]
    },
    {
     "name": "stderr",
     "output_type": "stream",
     "text": [
      "  2%|█▊                                                                           | 121/5000 [55:43<42:27:03, 31.32s/it]"
     ]
    },
    {
     "name": "stdout",
     "output_type": "stream",
     "text": [
      "\n",
      "Sampler: \n",
      " time before loop:  1.434591293334961\n",
      "20  loops: 29.338003396987915 \n",
      " average time per loop:  1.4669002056121827\n",
      "Save in Buffer:  0.0220949649810791 \n",
      "\n"
     ]
    },
    {
     "name": "stderr",
     "output_type": "stream",
     "text": [
      "  2%|█▉                                                                           | 122/5000 [56:16<43:11:51, 31.88s/it]"
     ]
    },
    {
     "name": "stdout",
     "output_type": "stream",
     "text": [
      "\n",
      "Sampler: \n",
      " time before loop:  1.3790154457092285\n",
      "20  loops: 26.44990348815918 \n",
      " average time per loop:  1.322495210170746\n",
      "Save in Buffer:  0.0197296142578125 \n",
      "\n"
     ]
    },
    {
     "name": "stderr",
     "output_type": "stream",
     "text": [
      "  2%|█▉                                                                           | 123/5000 [56:46<42:29:10, 31.36s/it]"
     ]
    },
    {
     "name": "stdout",
     "output_type": "stream",
     "text": [
      "\n",
      "Sampler: \n",
      " time before loop:  1.5347704887390137\n",
      "20  loops: 30.970300436019897 \n",
      " average time per loop:  1.5485150456428527\n",
      "Save in Buffer:  0.022171735763549805 \n",
      "\n"
     ]
    },
    {
     "name": "stderr",
     "output_type": "stream",
     "text": [
      "  2%|█▉                                                                           | 124/5000 [57:21<43:55:47, 32.43s/it]"
     ]
    },
    {
     "name": "stdout",
     "output_type": "stream",
     "text": [
      "\n",
      "Sampler: \n",
      " time before loop:  1.5168390274047852\n",
      "20  loops: 28.868733644485474 \n",
      " average time per loop:  1.4434367179870606\n",
      "Save in Buffer:  0.022450685501098633 \n",
      "\n"
     ]
    },
    {
     "name": "stderr",
     "output_type": "stream",
     "text": [
      "  2%|█▉                                                                           | 125/5000 [57:54<44:03:15, 32.53s/it]"
     ]
    },
    {
     "name": "stdout",
     "output_type": "stream",
     "text": [
      "\n",
      "Sampler: \n",
      " time before loop:  1.424504280090332\n",
      "20  loops: 30.729922771453857 \n",
      " average time per loop:  1.5364961743354797\n",
      "Save in Buffer:  0.021327733993530273 \n",
      "\n"
     ]
    },
    {
     "name": "stderr",
     "output_type": "stream",
     "text": [
      "  3%|█▉                                                                           | 126/5000 [58:28<44:50:42, 33.12s/it]"
     ]
    },
    {
     "name": "stdout",
     "output_type": "stream",
     "text": [
      "\n",
      "Sampler: \n",
      " time before loop:  1.5365869998931885\n",
      "20  loops: 29.586312294006348 \n",
      " average time per loop:  1.4793156504631042\n",
      "Save in Buffer:  0.02115607261657715 \n",
      "\n"
     ]
    },
    {
     "name": "stderr",
     "output_type": "stream",
     "text": [
      "  3%|█▉                                                                           | 127/5000 [59:02<45:01:06, 33.26s/it]"
     ]
    },
    {
     "name": "stdout",
     "output_type": "stream",
     "text": [
      "\n",
      "Sampler: \n",
      " time before loop:  1.4336655139923096\n",
      "20  loops: 29.54813313484192 \n",
      " average time per loop:  1.4774066925048828\n",
      "Save in Buffer:  0.021179676055908203 \n",
      "\n"
     ]
    },
    {
     "name": "stderr",
     "output_type": "stream",
     "text": [
      "  3%|█▉                                                                           | 128/5000 [59:35<45:04:20, 33.30s/it]"
     ]
    },
    {
     "name": "stdout",
     "output_type": "stream",
     "text": [
      "\n",
      "Sampler: \n",
      " time before loop:  1.2704694271087646\n",
      "20  loops: 27.71825385093689 \n",
      " average time per loop:  1.3859127402305602\n",
      "Save in Buffer:  0.023277997970581055 \n",
      "\n"
     ]
    },
    {
     "name": "stderr",
     "output_type": "stream",
     "text": [
      "  3%|█▉                                                                         | 129/5000 [1:00:07<44:15:32, 32.71s/it]"
     ]
    },
    {
     "name": "stdout",
     "output_type": "stream",
     "text": [
      "\n",
      "Sampler: \n",
      " time before loop:  1.42246413230896\n",
      "20  loops: 26.9262592792511 \n",
      " average time per loop:  1.3463129997253418\n",
      "Save in Buffer:  0.0214388370513916 \n",
      "\n"
     ]
    },
    {
     "name": "stderr",
     "output_type": "stream",
     "text": [
      "  3%|█▉                                                                         | 130/5000 [1:00:37<43:25:10, 32.10s/it]"
     ]
    },
    {
     "name": "stdout",
     "output_type": "stream",
     "text": [
      "\n",
      "Sampler: \n",
      " time before loop:  1.3562257289886475\n",
      "19  loops: 30.09563183784485 \n",
      " average time per loop:  1.5839806606895046\n",
      "Save in Buffer:  0.022930145263671875 \n",
      "\n"
     ]
    },
    {
     "name": "stderr",
     "output_type": "stream",
     "text": [
      "  3%|█▉                                                                         | 131/5000 [1:01:11<44:05:39, 32.60s/it]"
     ]
    },
    {
     "name": "stdout",
     "output_type": "stream",
     "text": [
      "\n",
      "Sampler: \n",
      " time before loop:  1.5395166873931885\n",
      "19  loops: 29.3684024810791 \n",
      " average time per loop:  1.545705431386044\n",
      "Save in Buffer:  0.01913166046142578 \n",
      "\n"
     ]
    },
    {
     "name": "stderr",
     "output_type": "stream",
     "text": [
      "  3%|█▉                                                                         | 132/5000 [1:01:45<44:22:25, 32.82s/it]"
     ]
    },
    {
     "name": "stdout",
     "output_type": "stream",
     "text": [
      "\n",
      "Sampler: \n",
      " time before loop:  1.3157520294189453\n",
      "20  loops: 25.504812955856323 \n",
      " average time per loop:  1.275240683555603\n",
      "Save in Buffer:  0.02021622657775879 \n",
      "\n"
     ]
    },
    {
     "name": "stderr",
     "output_type": "stream",
     "text": [
      "  3%|█▉                                                                         | 133/5000 [1:02:14<42:52:28, 31.71s/it]"
     ]
    },
    {
     "name": "stdout",
     "output_type": "stream",
     "text": [
      "\n",
      "Sampler: \n",
      " time before loop:  1.2490572929382324\n",
      "20  loops: 26.445599794387817 \n",
      " average time per loop:  1.3222800374031067\n",
      "Save in Buffer:  0.024158716201782227 \n",
      "\n"
     ]
    },
    {
     "name": "stderr",
     "output_type": "stream",
     "text": [
      "  3%|██                                                                         | 134/5000 [1:02:44<42:09:51, 31.19s/it]"
     ]
    },
    {
     "name": "stdout",
     "output_type": "stream",
     "text": [
      "\n",
      "Sampler: \n",
      " time before loop:  1.4226150512695312\n",
      "20  loops: 25.869373321533203 \n",
      " average time per loop:  1.293468701839447\n",
      "Save in Buffer:  0.021669626235961914 \n",
      "\n"
     ]
    },
    {
     "name": "stderr",
     "output_type": "stream",
     "text": [
      "  3%|██                                                                         | 135/5000 [1:03:13<41:30:14, 30.71s/it]"
     ]
    },
    {
     "name": "stdout",
     "output_type": "stream",
     "text": [
      "\n",
      "Sampler: \n",
      " time before loop:  1.4102425575256348\n",
      "20  loops: 30.88833451271057 \n",
      " average time per loop:  1.5444167494773864\n",
      "Save in Buffer:  0.021479368209838867 \n",
      "\n"
     ]
    },
    {
     "name": "stderr",
     "output_type": "stream",
     "text": [
      "  3%|██                                                                         | 136/5000 [1:03:48<43:04:31, 31.88s/it]"
     ]
    },
    {
     "name": "stdout",
     "output_type": "stream",
     "text": [
      "\n",
      "Sampler: \n",
      " time before loop:  1.3730640411376953\n",
      "20  loops: 26.205284357070923 \n",
      " average time per loop:  1.310264253616333\n",
      "Save in Buffer:  0.021098852157592773 \n",
      "\n"
     ]
    },
    {
     "name": "stderr",
     "output_type": "stream",
     "text": [
      "  3%|██                                                                         | 137/5000 [1:04:18<42:15:34, 31.28s/it]"
     ]
    },
    {
     "name": "stdout",
     "output_type": "stream",
     "text": [
      "\n",
      "Sampler: \n",
      " time before loop:  1.4516024589538574\n",
      "20  loops: 28.921157121658325 \n",
      " average time per loop:  1.4460578918457032\n",
      "Save in Buffer:  0.023029565811157227 \n",
      "\n"
     ]
    },
    {
     "name": "stderr",
     "output_type": "stream",
     "text": [
      "  3%|██                                                                         | 138/5000 [1:04:51<42:52:40, 31.75s/it]"
     ]
    },
    {
     "name": "stdout",
     "output_type": "stream",
     "text": [
      "\n",
      "Sampler: \n",
      " time before loop:  1.439028263092041\n",
      "20  loops: 32.259113788604736 \n",
      " average time per loop:  1.6129557371139527\n",
      "Save in Buffer:  0.02193617820739746 \n",
      "\n"
     ]
    },
    {
     "name": "stderr",
     "output_type": "stream",
     "text": [
      "  3%|██                                                                         | 139/5000 [1:05:27<44:38:49, 33.07s/it]"
     ]
    },
    {
     "name": "stdout",
     "output_type": "stream",
     "text": [
      "\n",
      "Sampler: \n",
      " time before loop:  1.484497308731079\n",
      "20  loops: 31.101028442382812 \n",
      " average time per loop:  1.5550514698028564\n",
      "Save in Buffer:  0.02299809455871582 \n",
      "\n"
     ]
    },
    {
     "name": "stderr",
     "output_type": "stream",
     "text": [
      "  3%|██                                                                         | 140/5000 [1:06:02<45:29:54, 33.70s/it]"
     ]
    },
    {
     "name": "stdout",
     "output_type": "stream",
     "text": [
      "\n",
      "Sampler: \n",
      " time before loop:  1.5543906688690186\n",
      "20  loops: 31.119085550308228 \n",
      " average time per loop:  1.5559543132781983\n",
      "Save in Buffer:  0.02185201644897461 \n",
      "\n"
     ]
    },
    {
     "name": "stderr",
     "output_type": "stream",
     "text": [
      "  3%|██                                                                         | 141/5000 [1:06:37<46:04:10, 34.13s/it]"
     ]
    },
    {
     "name": "stdout",
     "output_type": "stream",
     "text": [
      "\n",
      "Sampler: \n",
      " time before loop:  1.4932479858398438\n",
      "20  loops: 31.961509943008423 \n",
      " average time per loop:  1.598075556755066\n",
      "Save in Buffer:  0.02212691307067871 \n",
      "\n"
     ]
    },
    {
     "name": "stderr",
     "output_type": "stream",
     "text": [
      "  3%|██▏                                                                        | 142/5000 [1:07:13<46:43:30, 34.63s/it]"
     ]
    },
    {
     "name": "stdout",
     "output_type": "stream",
     "text": [
      "\n",
      "Sampler: \n",
      " time before loop:  1.4145164489746094\n",
      "20  loops: 29.217292070388794 \n",
      " average time per loop:  1.4608646392822267\n",
      "Save in Buffer:  0.023920059204101562 \n",
      "\n"
     ]
    },
    {
     "name": "stderr",
     "output_type": "stream",
     "text": [
      "  3%|██▏                                                                        | 143/5000 [1:07:46<46:02:15, 34.12s/it]"
     ]
    },
    {
     "name": "stdout",
     "output_type": "stream",
     "text": [
      "\n",
      "Sampler: \n",
      " time before loop:  1.4809021949768066\n",
      "20  loops: 32.586708545684814 \n",
      " average time per loop:  1.6293354749679565\n",
      "Save in Buffer:  0.02395462989807129 \n",
      "\n"
     ]
    },
    {
     "name": "stderr",
     "output_type": "stream",
     "text": [
      "  3%|██▏                                                                        | 144/5000 [1:08:22<46:59:56, 34.84s/it]"
     ]
    },
    {
     "name": "stdout",
     "output_type": "stream",
     "text": [
      "\n",
      "Sampler: \n",
      " time before loop:  1.4922988414764404\n",
      "20  loops: 31.673981428146362 \n",
      " average time per loop:  1.583699107170105\n",
      "Save in Buffer:  0.02286815643310547 \n",
      "\n"
     ]
    },
    {
     "name": "stderr",
     "output_type": "stream",
     "text": [
      "  3%|██▏                                                                        | 145/5000 [1:08:58<47:16:35, 35.06s/it]"
     ]
    },
    {
     "name": "stdout",
     "output_type": "stream",
     "text": [
      "\n",
      "Sampler: \n",
      " time before loop:  1.3573343753814697\n",
      "20  loops: 30.664713859558105 \n",
      " average time per loop:  1.533235740661621\n",
      "Save in Buffer:  0.022103071212768555 \n",
      "\n"
     ]
    },
    {
     "name": "stderr",
     "output_type": "stream",
     "text": [
      "  3%|██▏                                                                        | 146/5000 [1:09:32<46:58:53, 34.84s/it]"
     ]
    },
    {
     "name": "stdout",
     "output_type": "stream",
     "text": [
      "\n",
      "Sampler: \n",
      " time before loop:  1.4447016716003418\n",
      "20  loops: 30.55839490890503 \n",
      " average time per loop:  1.5279197931289672\n",
      "Save in Buffer:  0.023232221603393555 \n",
      "\n"
     ]
    },
    {
     "name": "stderr",
     "output_type": "stream",
     "text": [
      "  3%|██▏                                                                        | 147/5000 [1:10:07<46:46:53, 34.70s/it]"
     ]
    },
    {
     "name": "stdout",
     "output_type": "stream",
     "text": [
      "\n",
      "Sampler: \n",
      " time before loop:  1.7621631622314453\n",
      "20  loops: 30.845187664031982 \n",
      " average time per loop:  1.542259418964386\n",
      "Save in Buffer:  0.021506071090698242 \n",
      "\n"
     ]
    },
    {
     "name": "stderr",
     "output_type": "stream",
     "text": [
      "  3%|██▏                                                                        | 148/5000 [1:10:42<46:54:36, 34.81s/it]"
     ]
    },
    {
     "name": "stdout",
     "output_type": "stream",
     "text": [
      "\n",
      "Sampler: \n",
      " time before loop:  1.5079665184020996\n",
      "20  loops: 30.388127088546753 \n",
      " average time per loop:  1.5194063901901245\n",
      "Save in Buffer:  0.021276473999023438 \n",
      "\n"
     ]
    },
    {
     "name": "stderr",
     "output_type": "stream",
     "text": [
      "  3%|██▏                                                                        | 149/5000 [1:11:16<46:41:19, 34.65s/it]"
     ]
    },
    {
     "name": "stdout",
     "output_type": "stream",
     "text": [
      "\n",
      "Sampler: \n",
      " time before loop:  1.4469871520996094\n",
      "20  loops: 29.702848196029663 \n",
      " average time per loop:  1.48514244556427\n",
      "Save in Buffer:  0.022460222244262695 \n",
      "\n"
     ]
    },
    {
     "name": "stderr",
     "output_type": "stream",
     "text": [
      "  3%|██▎                                                                        | 150/5000 [1:11:49<46:13:58, 34.32s/it]"
     ]
    },
    {
     "name": "stdout",
     "output_type": "stream",
     "text": [
      "\n",
      "Sampler: \n",
      " time before loop:  1.4494564533233643\n",
      "20  loops: 29.82161855697632 \n",
      " average time per loop:  1.4910809516906738\n",
      "Save in Buffer:  0.02074432373046875 \n",
      "\n"
     ]
    },
    {
     "name": "stderr",
     "output_type": "stream",
     "text": [
      "  3%|██▎                                                                        | 151/5000 [1:12:23<45:58:43, 34.14s/it]"
     ]
    },
    {
     "name": "stdout",
     "output_type": "stream",
     "text": [
      "\n",
      "Sampler: \n",
      " time before loop:  1.5460090637207031\n",
      "20  loops: 31.25984787940979 \n",
      " average time per loop:  1.5629924416542054\n",
      "Save in Buffer:  0.021966218948364258 \n",
      "\n"
     ]
    },
    {
     "name": "stderr",
     "output_type": "stream",
     "text": [
      "  3%|██▎                                                                        | 152/5000 [1:12:58<46:24:33, 34.46s/it]"
     ]
    },
    {
     "name": "stdout",
     "output_type": "stream",
     "text": [
      "\n",
      "Sampler: \n",
      " time before loop:  1.327829360961914\n",
      "20  loops: 29.55228614807129 \n",
      " average time per loop:  1.4776143431663513\n",
      "Save in Buffer:  0.022247314453125 \n",
      "\n"
     ]
    },
    {
     "name": "stderr",
     "output_type": "stream",
     "text": [
      "  3%|██▎                                                                        | 153/5000 [1:13:32<45:53:29, 34.08s/it]"
     ]
    },
    {
     "name": "stdout",
     "output_type": "stream",
     "text": [
      "\n",
      "Sampler: \n",
      " time before loop:  1.4002764225006104\n",
      "20  loops: 27.791834592819214 \n",
      " average time per loop:  1.3895917654037475\n",
      "Save in Buffer:  0.026487350463867188 \n",
      "\n"
     ]
    },
    {
     "name": "stderr",
     "output_type": "stream",
     "text": [
      "  3%|██▎                                                                        | 154/5000 [1:14:03<44:49:31, 33.30s/it]"
     ]
    },
    {
     "name": "stdout",
     "output_type": "stream",
     "text": [
      "\n",
      "Sampler: \n",
      " time before loop:  1.4260878562927246\n",
      "20  loops: 33.84960985183716 \n",
      " average time per loop:  1.6924805283546447\n",
      "Save in Buffer:  0.023433923721313477 \n",
      "\n"
     ]
    },
    {
     "name": "stderr",
     "output_type": "stream",
     "text": [
      "  3%|██▎                                                                        | 155/5000 [1:14:41<46:33:19, 34.59s/it]"
     ]
    },
    {
     "name": "stdout",
     "output_type": "stream",
     "text": [
      "\n",
      "Sampler: \n",
      " time before loop:  1.5396249294281006\n",
      "19  loops: 30.353999853134155 \n",
      " average time per loop:  1.5975789772836786\n",
      "Save in Buffer:  0.021018266677856445 \n",
      "\n"
     ]
    },
    {
     "name": "stderr",
     "output_type": "stream",
     "text": [
      "  3%|██▎                                                                        | 156/5000 [1:15:15<46:26:42, 34.52s/it]"
     ]
    },
    {
     "name": "stdout",
     "output_type": "stream",
     "text": [
      "\n",
      "Sampler: \n",
      " time before loop:  1.541849136352539\n",
      "20  loops: 30.631855964660645 \n",
      " average time per loop:  1.5315928220748902\n",
      "Save in Buffer:  0.021575450897216797 \n",
      "\n"
     ]
    },
    {
     "name": "stderr",
     "output_type": "stream",
     "text": [
      "  3%|██▎                                                                        | 157/5000 [1:15:50<46:28:37, 34.55s/it]"
     ]
    },
    {
     "name": "stdout",
     "output_type": "stream",
     "text": [
      "\n",
      "Sampler: \n",
      " time before loop:  1.5271077156066895\n",
      "20  loops: 30.071691751480103 \n",
      " average time per loop:  1.503584623336792\n",
      "Save in Buffer:  0.024479150772094727 \n",
      "\n"
     ]
    },
    {
     "name": "stderr",
     "output_type": "stream",
     "text": [
      "  3%|██▎                                                                        | 158/5000 [1:16:24<46:14:29, 34.38s/it]"
     ]
    },
    {
     "name": "stdout",
     "output_type": "stream",
     "text": [
      "\n",
      "Sampler: \n",
      " time before loop:  1.4390015602111816\n",
      "20  loops: 30.88142490386963 \n",
      " average time per loop:  1.5440712690353393\n",
      "Save in Buffer:  0.023500442504882812 \n",
      "\n"
     ]
    },
    {
     "name": "stderr",
     "output_type": "stream",
     "text": [
      "  3%|██▍                                                                        | 159/5000 [1:16:58<46:21:06, 34.47s/it]"
     ]
    },
    {
     "name": "stdout",
     "output_type": "stream",
     "text": [
      "\n",
      "Sampler: \n",
      " time before loop:  1.3384623527526855\n",
      "20  loops: 29.57039761543274 \n",
      " average time per loop:  1.4785199165344238\n",
      "Save in Buffer:  0.023390531539916992 \n",
      "\n"
     ]
    },
    {
     "name": "stderr",
     "output_type": "stream",
     "text": [
      "  3%|██▍                                                                        | 160/5000 [1:17:32<45:50:24, 34.10s/it]"
     ]
    },
    {
     "name": "stdout",
     "output_type": "stream",
     "text": [
      "\n",
      "Sampler: \n",
      " time before loop:  1.4510307312011719\n",
      "20  loops: 31.52373719215393 \n",
      " average time per loop:  1.5761868953704834\n",
      "Save in Buffer:  0.022553205490112305 \n",
      "\n"
     ]
    },
    {
     "name": "stderr",
     "output_type": "stream",
     "text": [
      "  3%|██▍                                                                        | 161/5000 [1:18:07<46:19:01, 34.46s/it]"
     ]
    },
    {
     "name": "stdout",
     "output_type": "stream",
     "text": [
      "\n",
      "Sampler: \n",
      " time before loop:  1.5105810165405273\n",
      "20  loops: 30.777234077453613 \n",
      " average time per loop:  1.5388617396354676\n",
      "Save in Buffer:  0.021698951721191406 \n",
      "\n"
     ]
    },
    {
     "name": "stderr",
     "output_type": "stream",
     "text": [
      "  3%|██▍                                                                        | 162/5000 [1:18:42<46:24:48, 34.54s/it]"
     ]
    },
    {
     "name": "stdout",
     "output_type": "stream",
     "text": [
      "\n",
      "Sampler: \n",
      " time before loop:  1.344663381576538\n",
      "20  loops: 28.879573106765747 \n",
      " average time per loop:  1.4439786791801452\n",
      "Save in Buffer:  0.024112939834594727 \n",
      "\n"
     ]
    },
    {
     "name": "stderr",
     "output_type": "stream",
     "text": [
      "  3%|██▍                                                                        | 163/5000 [1:19:14<45:34:01, 33.91s/it]"
     ]
    },
    {
     "name": "stdout",
     "output_type": "stream",
     "text": [
      "\n",
      "Sampler: \n",
      " time before loop:  1.4421765804290771\n",
      "20  loops: 30.41021490097046 \n",
      " average time per loop:  1.5205107927322388\n",
      "Save in Buffer:  0.021947383880615234 \n",
      "\n"
     ]
    },
    {
     "name": "stderr",
     "output_type": "stream",
     "text": [
      "  3%|██▍                                                                        | 164/5000 [1:19:48<45:40:04, 34.00s/it]"
     ]
    },
    {
     "name": "stdout",
     "output_type": "stream",
     "text": [
      "\n",
      "Sampler: \n",
      " time before loop:  1.5408680438995361\n",
      "20  loops: 30.964245557785034 \n",
      " average time per loop:  1.5482123374938965\n",
      "Save in Buffer:  0.02267622947692871 \n",
      "\n"
     ]
    },
    {
     "name": "stderr",
     "output_type": "stream",
     "text": [
      "  3%|██▍                                                                        | 165/5000 [1:20:23<46:02:24, 34.28s/it]"
     ]
    },
    {
     "name": "stdout",
     "output_type": "stream",
     "text": [
      "\n",
      "Sampler: \n",
      " time before loop:  1.2891430854797363\n",
      "20  loops: 28.239184856414795 \n",
      " average time per loop:  1.4119592905044556\n",
      "Save in Buffer:  0.02340555191040039 \n",
      "\n"
     ]
    },
    {
     "name": "stderr",
     "output_type": "stream",
     "text": [
      "  3%|██▍                                                                        | 166/5000 [1:20:55<45:02:54, 33.55s/it]"
     ]
    },
    {
     "name": "stdout",
     "output_type": "stream",
     "text": [
      "\n",
      "Sampler: \n",
      " time before loop:  1.5775439739227295\n",
      "20  loops: 30.145376205444336 \n",
      " average time per loop:  1.5072688460350037\n",
      "Save in Buffer:  0.02190423011779785 \n",
      "\n"
     ]
    },
    {
     "name": "stderr",
     "output_type": "stream",
     "text": [
      "  3%|██▌                                                                        | 167/5000 [1:21:29<45:16:49, 33.73s/it]"
     ]
    },
    {
     "name": "stdout",
     "output_type": "stream",
     "text": [
      "\n",
      "Sampler: \n",
      " time before loop:  1.3119592666625977\n",
      "20  loops: 27.71173667907715 \n",
      " average time per loop:  1.3855868816375732\n",
      "Save in Buffer:  0.022706985473632812 \n",
      "\n"
     ]
    },
    {
     "name": "stderr",
     "output_type": "stream",
     "text": [
      "  3%|██▌                                                                        | 168/5000 [1:22:00<44:17:13, 33.00s/it]"
     ]
    },
    {
     "name": "stdout",
     "output_type": "stream",
     "text": [
      "\n",
      "Sampler: \n",
      " time before loop:  1.594745397567749\n",
      "20  loops: 32.14339303970337 \n",
      " average time per loop:  1.6071696758270264\n",
      "Save in Buffer:  0.023303985595703125 \n",
      "\n"
     ]
    },
    {
     "name": "stderr",
     "output_type": "stream",
     "text": [
      "  3%|██▌                                                                        | 169/5000 [1:22:37<45:32:34, 33.94s/it]"
     ]
    },
    {
     "name": "stdout",
     "output_type": "stream",
     "text": [
      "\n",
      "Sampler: \n",
      " time before loop:  1.4374403953552246\n",
      "20  loops: 34.13050889968872 \n",
      " average time per loop:  1.7065254688262939\n",
      "Save in Buffer:  0.024870872497558594 \n",
      "\n"
     ]
    },
    {
     "name": "stderr",
     "output_type": "stream",
     "text": [
      "  3%|██▌                                                                        | 170/5000 [1:23:15<47:09:20, 35.15s/it]"
     ]
    },
    {
     "name": "stdout",
     "output_type": "stream",
     "text": [
      "\n",
      "Sampler: \n",
      " time before loop:  1.350022315979004\n",
      "20  loops: 32.076181411743164 \n",
      " average time per loop:  1.6038091063499451\n",
      "Save in Buffer:  0.024947643280029297 \n",
      "\n"
     ]
    },
    {
     "name": "stderr",
     "output_type": "stream",
     "text": [
      "  3%|██▌                                                                        | 171/5000 [1:23:50<47:24:03, 35.34s/it]"
     ]
    },
    {
     "name": "stdout",
     "output_type": "stream",
     "text": [
      "\n",
      "Sampler: \n",
      " time before loop:  1.4593353271484375\n",
      "20  loops: 32.331449031829834 \n",
      " average time per loop:  1.6165725111961364\n",
      "Save in Buffer:  0.0278322696685791 \n",
      "\n"
     ]
    },
    {
     "name": "stderr",
     "output_type": "stream",
     "text": [
      "  3%|██▌                                                                        | 172/5000 [1:24:27<47:45:02, 35.61s/it]"
     ]
    },
    {
     "name": "stdout",
     "output_type": "stream",
     "text": [
      "\n",
      "Sampler: \n",
      " time before loop:  1.3244683742523193\n",
      "20  loops: 29.098360538482666 \n",
      " average time per loop:  1.4549180746078492\n",
      "Save in Buffer:  0.023588180541992188 \n",
      "\n"
     ]
    },
    {
     "name": "stderr",
     "output_type": "stream",
     "text": [
      "  3%|██▌                                                                        | 173/5000 [1:24:59<46:35:15, 34.75s/it]"
     ]
    },
    {
     "name": "stdout",
     "output_type": "stream",
     "text": [
      "\n",
      "Sampler: \n",
      " time before loop:  1.2833583354949951\n",
      "20  loops: 31.539035320281982 \n",
      " average time per loop:  1.576951801776886\n",
      "Save in Buffer:  0.02402043342590332 \n",
      "\n"
     ]
    },
    {
     "name": "stderr",
     "output_type": "stream",
     "text": [
      "  3%|██▌                                                                        | 174/5000 [1:25:34<46:43:54, 34.86s/it]"
     ]
    },
    {
     "name": "stdout",
     "output_type": "stream",
     "text": [
      "\n",
      "Sampler: \n",
      " time before loop:  1.4944031238555908\n",
      "20  loops: 32.273093938827515 \n",
      " average time per loop:  1.6136547207832337\n",
      "Save in Buffer:  0.02380657196044922 \n",
      "\n"
     ]
    },
    {
     "name": "stderr",
     "output_type": "stream",
     "text": [
      "  4%|██▋                                                                        | 175/5000 [1:26:11<47:16:12, 35.27s/it]"
     ]
    },
    {
     "name": "stdout",
     "output_type": "stream",
     "text": [
      "\n",
      "Sampler: \n",
      " time before loop:  1.3720333576202393\n",
      "20  loops: 28.296375513076782 \n",
      " average time per loop:  1.414818823337555\n",
      "Save in Buffer:  0.022981643676757812 \n",
      "\n"
     ]
    },
    {
     "name": "stderr",
     "output_type": "stream",
     "text": [
      "  4%|██▋                                                                        | 176/5000 [1:26:43<45:56:13, 34.28s/it]"
     ]
    },
    {
     "name": "stdout",
     "output_type": "stream",
     "text": [
      "\n",
      "Sampler: \n",
      " time before loop:  1.4774649143218994\n",
      "20  loops: 30.249638557434082 \n",
      " average time per loop:  1.512481963634491\n",
      "Save in Buffer:  0.023142337799072266 \n",
      "\n"
     ]
    },
    {
     "name": "stderr",
     "output_type": "stream",
     "text": [
      "  4%|██▋                                                                        | 177/5000 [1:27:17<45:49:43, 34.21s/it]"
     ]
    },
    {
     "name": "stdout",
     "output_type": "stream",
     "text": [
      "\n",
      "Sampler: \n",
      " time before loop:  1.4867510795593262\n",
      "20  loops: 32.347291707992554 \n",
      " average time per loop:  1.6173646211624146\n",
      "Save in Buffer:  0.024747133255004883 \n",
      "\n"
     ]
    },
    {
     "name": "stderr",
     "output_type": "stream",
     "text": [
      "  4%|██▋                                                                        | 178/5000 [1:27:53<46:39:46, 34.84s/it]"
     ]
    },
    {
     "name": "stdout",
     "output_type": "stream",
     "text": [
      "\n",
      "Sampler: \n",
      " time before loop:  1.3118560314178467\n",
      "20  loops: 27.95790195465088 \n",
      " average time per loop:  1.397895133495331\n",
      "Save in Buffer:  0.022775650024414062 \n",
      "\n"
     ]
    },
    {
     "name": "stderr",
     "output_type": "stream",
     "text": [
      "  4%|██▋                                                                        | 179/5000 [1:28:24<45:19:39, 33.85s/it]"
     ]
    },
    {
     "name": "stdout",
     "output_type": "stream",
     "text": [
      "\n",
      "Sampler: \n",
      " time before loop:  1.4659955501556396\n",
      "20  loops: 31.23794460296631 \n",
      " average time per loop:  1.5618972659111023\n",
      "Save in Buffer:  0.02542281150817871 \n",
      "\n"
     ]
    },
    {
     "name": "stderr",
     "output_type": "stream",
     "text": [
      "  4%|██▋                                                                        | 180/5000 [1:28:59<45:46:24, 34.19s/it]"
     ]
    },
    {
     "name": "stdout",
     "output_type": "stream",
     "text": [
      "\n",
      "Sampler: \n",
      " time before loop:  1.391232967376709\n",
      "20  loops: 32.500036001205444 \n",
      " average time per loop:  1.6250018358230591\n",
      "Save in Buffer:  0.023519515991210938 \n",
      "\n"
     ]
    },
    {
     "name": "stderr",
     "output_type": "stream",
     "text": [
      "  4%|██▋                                                                        | 181/5000 [1:29:36<46:36:55, 34.82s/it]"
     ]
    },
    {
     "name": "stdout",
     "output_type": "stream",
     "text": [
      "\n",
      "Sampler: \n",
      " time before loop:  1.3502647876739502\n",
      "20  loops: 28.84366536140442 \n",
      " average time per loop:  1.4421833038330079\n",
      "Save in Buffer:  0.026137828826904297 \n",
      "\n"
     ]
    },
    {
     "name": "stderr",
     "output_type": "stream",
     "text": [
      "  4%|██▋                                                                        | 182/5000 [1:30:08<45:41:22, 34.14s/it]"
     ]
    },
    {
     "name": "stdout",
     "output_type": "stream",
     "text": [
      "\n",
      "Sampler: \n",
      " time before loop:  1.4001238346099854\n",
      "20  loops: 29.463321924209595 \n",
      " average time per loop:  1.4731661319732665\n",
      "Save in Buffer:  0.0205686092376709 \n",
      "\n"
     ]
    },
    {
     "name": "stderr",
     "output_type": "stream",
     "text": [
      "  4%|██▋                                                                        | 183/5000 [1:30:41<45:17:02, 33.84s/it]"
     ]
    },
    {
     "name": "stdout",
     "output_type": "stream",
     "text": [
      "\n",
      "Sampler: \n",
      " time before loop:  1.359724521636963\n",
      "20  loops: 29.853525400161743 \n",
      " average time per loop:  1.492676305770874\n",
      "Save in Buffer:  0.022189855575561523 \n",
      "\n"
     ]
    },
    {
     "name": "stderr",
     "output_type": "stream",
     "text": [
      "  4%|██▊                                                                        | 184/5000 [1:31:15<45:09:32, 33.76s/it]"
     ]
    },
    {
     "name": "stdout",
     "output_type": "stream",
     "text": [
      "\n",
      "Sampler: \n",
      " time before loop:  1.3968052864074707\n",
      "20  loops: 29.299959659576416 \n",
      " average time per loop:  1.4649980187416076\n",
      "Save in Buffer:  0.0252993106842041 \n",
      "\n"
     ]
    },
    {
     "name": "stderr",
     "output_type": "stream",
     "text": [
      "  4%|██▊                                                                        | 185/5000 [1:31:48<44:50:09, 33.52s/it]"
     ]
    },
    {
     "name": "stdout",
     "output_type": "stream",
     "text": [
      "\n",
      "Sampler: \n",
      " time before loop:  1.3495862483978271\n",
      "20  loops: 32.04633831977844 \n",
      " average time per loop:  1.602316951751709\n",
      "Save in Buffer:  0.02299666404724121 \n",
      "\n"
     ]
    },
    {
     "name": "stderr",
     "output_type": "stream",
     "text": [
      "  4%|██▊                                                                        | 186/5000 [1:32:24<45:41:50, 34.17s/it]"
     ]
    },
    {
     "name": "stdout",
     "output_type": "stream",
     "text": [
      "\n",
      "Sampler: \n",
      " time before loop:  1.520045280456543\n",
      "20  loops: 31.60677218437195 \n",
      " average time per loop:  1.5803386449813843\n",
      "Save in Buffer:  0.02537679672241211 \n",
      "\n"
     ]
    },
    {
     "name": "stderr",
     "output_type": "stream",
     "text": [
      "  4%|██▊                                                                        | 187/5000 [1:32:59<46:14:57, 34.59s/it]"
     ]
    },
    {
     "name": "stdout",
     "output_type": "stream",
     "text": [
      "\n",
      "Sampler: \n",
      " time before loop:  1.4055469036102295\n",
      "20  loops: 27.847052812576294 \n",
      " average time per loop:  1.3923526763916017\n",
      "Save in Buffer:  0.023179292678833008 \n",
      "\n"
     ]
    },
    {
     "name": "stderr",
     "output_type": "stream",
     "text": [
      "  4%|██▊                                                                        | 188/5000 [1:33:31<45:01:32, 33.69s/it]"
     ]
    },
    {
     "name": "stdout",
     "output_type": "stream",
     "text": [
      "\n",
      "Sampler: \n",
      " time before loop:  1.283358097076416\n",
      "20  loops: 32.771446228027344 \n",
      " average time per loop:  1.638572347164154\n",
      "Save in Buffer:  0.0275726318359375 \n",
      "\n"
     ]
    },
    {
     "name": "stderr",
     "output_type": "stream",
     "text": [
      "  4%|██▊                                                                        | 189/5000 [1:34:07<46:05:13, 34.49s/it]"
     ]
    },
    {
     "name": "stdout",
     "output_type": "stream",
     "text": [
      "\n",
      "Sampler: \n",
      " time before loop:  1.3964591026306152\n",
      "20  loops: 29.54318857192993 \n",
      " average time per loop:  1.4771594643592834\n",
      "Save in Buffer:  0.023647069931030273 \n",
      "\n"
     ]
    },
    {
     "name": "stderr",
     "output_type": "stream",
     "text": [
      "  4%|██▊                                                                        | 190/5000 [1:34:40<45:36:00, 34.13s/it]"
     ]
    },
    {
     "name": "stdout",
     "output_type": "stream",
     "text": [
      "\n",
      "Sampler: \n",
      " time before loop:  1.284231424331665\n",
      "20  loops: 29.748626708984375 \n",
      " average time per loop:  1.4874313712120055\n",
      "Save in Buffer:  0.025138378143310547 \n",
      "\n"
     ]
    },
    {
     "name": "stderr",
     "output_type": "stream",
     "text": [
      "  4%|██▊                                                                        | 191/5000 [1:35:14<45:15:56, 33.89s/it]"
     ]
    },
    {
     "name": "stdout",
     "output_type": "stream",
     "text": [
      "\n",
      "Sampler: \n",
      " time before loop:  1.4050583839416504\n",
      "20  loops: 32.21833539009094 \n",
      " average time per loop:  1.6109168171882629\n",
      "Save in Buffer:  0.026941537857055664 \n",
      "\n"
     ]
    },
    {
     "name": "stderr",
     "output_type": "stream",
     "text": [
      "  4%|██▉                                                                        | 192/5000 [1:35:50<46:04:35, 34.50s/it]"
     ]
    },
    {
     "name": "stdout",
     "output_type": "stream",
     "text": [
      "\n",
      "Sampler: \n",
      " time before loop:  1.3665080070495605\n",
      "20  loops: 33.743871450424194 \n",
      " average time per loop:  1.6871936082839967\n",
      "Save in Buffer:  0.026648759841918945 \n",
      "\n"
     ]
    },
    {
     "name": "stderr",
     "output_type": "stream",
     "text": [
      "  4%|██▉                                                                        | 193/5000 [1:36:27<47:14:23, 35.38s/it]"
     ]
    },
    {
     "name": "stdout",
     "output_type": "stream",
     "text": [
      "\n",
      "Sampler: \n",
      " time before loop:  1.4354650974273682\n",
      "20  loops: 33.958502769470215 \n",
      " average time per loop:  1.6979251861572267\n",
      "Save in Buffer:  0.028207778930664062 \n",
      "\n"
     ]
    },
    {
     "name": "stderr",
     "output_type": "stream",
     "text": [
      "  4%|██▉                                                                        | 194/5000 [1:37:05<48:11:10, 36.09s/it]"
     ]
    },
    {
     "name": "stdout",
     "output_type": "stream",
     "text": [
      "\n",
      "Sampler: \n",
      " time before loop:  1.4439070224761963\n",
      "20  loops: 37.03616142272949 \n",
      " average time per loop:  1.8518081188201905\n",
      "Save in Buffer:  0.029639244079589844 \n",
      "\n"
     ]
    },
    {
     "name": "stderr",
     "output_type": "stream",
     "text": [
      "  4%|██▉                                                                        | 195/5000 [1:37:46<50:06:10, 37.54s/it]"
     ]
    },
    {
     "name": "stdout",
     "output_type": "stream",
     "text": [
      "\n",
      "Sampler: \n",
      " time before loop:  1.4021539688110352\n",
      "20  loops: 36.84105324745178 \n",
      " average time per loop:  1.842052698135376\n",
      "Save in Buffer:  0.027998924255371094 \n",
      "\n"
     ]
    },
    {
     "name": "stderr",
     "output_type": "stream",
     "text": [
      "  4%|██▉                                                                        | 196/5000 [1:38:27<51:20:47, 38.48s/it]"
     ]
    },
    {
     "name": "stdout",
     "output_type": "stream",
     "text": [
      "\n",
      "Sampler: \n",
      " time before loop:  1.5011157989501953\n",
      "20  loops: 34.865442991256714 \n",
      " average time per loop:  1.7432721853256226\n",
      "Save in Buffer:  0.026308774948120117 \n",
      "\n"
     ]
    },
    {
     "name": "stderr",
     "output_type": "stream",
     "text": [
      "  4%|██▉                                                                        | 197/5000 [1:39:05<51:28:13, 38.58s/it]"
     ]
    },
    {
     "name": "stdout",
     "output_type": "stream",
     "text": [
      "\n",
      "Sampler: \n",
      " time before loop:  1.4108078479766846\n",
      "20  loops: 34.14380145072937 \n",
      " average time per loop:  1.7071901202201842\n",
      "Save in Buffer:  0.026402711868286133 \n",
      "\n"
     ]
    },
    {
     "name": "stderr",
     "output_type": "stream",
     "text": [
      "  4%|██▉                                                                        | 198/5000 [1:39:43<51:10:24, 38.36s/it]"
     ]
    },
    {
     "name": "stdout",
     "output_type": "stream",
     "text": [
      "\n",
      "Sampler: \n",
      " time before loop:  1.4914278984069824\n",
      "20  loops: 34.59766888618469 \n",
      " average time per loop:  1.7298834800720215\n",
      "Save in Buffer:  0.028796672821044922 \n",
      "\n"
     ]
    },
    {
     "name": "stderr",
     "output_type": "stream",
     "text": [
      "  4%|██▉                                                                        | 199/5000 [1:40:22<51:13:58, 38.42s/it]"
     ]
    },
    {
     "name": "stdout",
     "output_type": "stream",
     "text": [
      "\n",
      "Sampler: \n",
      " time before loop:  1.5600993633270264\n",
      "20  loops: 36.707149267196655 \n",
      " average time per loop:  1.8353575110435485\n",
      "Save in Buffer:  0.025174617767333984 \n",
      "\n"
     ]
    },
    {
     "name": "stderr",
     "output_type": "stream",
     "text": [
      "  4%|███                                                                        | 200/5000 [1:41:02<52:08:49, 39.11s/it]"
     ]
    },
    {
     "name": "stdout",
     "output_type": "stream",
     "text": [
      "\n",
      "Sampler: \n",
      " time before loop:  0.15099287033081055\n",
      "11  loops: 1.6113903522491455 \n",
      " average time per loop:  0.14649009704589844\n",
      "Save in Buffer:  4.76837158203125e-07 \n",
      "\n",
      "Best Agent average reward: 0.07285974499089254\n",
      "Loss  200 :  596.28436 \n",
      "\n",
      "inner_iteration_average last 100 iterations:  2.0443836522102354\n",
      "outer_iteration_average last 100 iterations:  34.042105216979984\n",
      "Average_Sampling_Time last 100 iterations:  31.69112679243088 \n",
      "\n",
      "\n",
      "Sampler: \n",
      " time before loop:  1.431929349899292\n",
      "20  loops: 32.65666174888611 \n",
      " average time per loop:  1.6328331232070923\n",
      "Save in Buffer:  0.02365422248840332 \n",
      "\n"
     ]
    },
    {
     "name": "stderr",
     "output_type": "stream",
     "text": [
      "  4%|███                                                                        | 201/5000 [1:41:41<51:49:13, 38.87s/it]"
     ]
    },
    {
     "name": "stdout",
     "output_type": "stream",
     "text": [
      "\n",
      "Sampler: \n",
      " time before loop:  1.2899327278137207\n",
      "20  loops: 32.42759442329407 \n",
      " average time per loop:  1.6213797569274901\n",
      "Save in Buffer:  0.0246884822845459 \n",
      "\n"
     ]
    },
    {
     "name": "stderr",
     "output_type": "stream",
     "text": [
      "  4%|███                                                                        | 202/5000 [1:42:17<50:40:37, 38.02s/it]"
     ]
    },
    {
     "name": "stdout",
     "output_type": "stream",
     "text": [
      "\n",
      "Sampler: \n",
      " time before loop:  1.561084508895874\n",
      "20  loops: 35.20885753631592 \n",
      " average time per loop:  1.7604429006576539\n",
      "Save in Buffer:  0.025745153427124023 \n",
      "\n"
     ]
    },
    {
     "name": "stderr",
     "output_type": "stream",
     "text": [
      "  4%|███                                                                        | 203/5000 [1:42:56<51:13:29, 38.44s/it]"
     ]
    },
    {
     "name": "stdout",
     "output_type": "stream",
     "text": [
      "\n",
      "Sampler: \n",
      " time before loop:  1.3586578369140625\n",
      "20  loops: 35.02959156036377 \n",
      " average time per loop:  1.7514796257019043\n",
      "Save in Buffer:  0.025496482849121094 \n",
      "\n"
     ]
    },
    {
     "name": "stderr",
     "output_type": "stream",
     "text": [
      "  4%|███                                                                        | 204/5000 [1:43:35<51:21:53, 38.56s/it]"
     ]
    },
    {
     "name": "stdout",
     "output_type": "stream",
     "text": [
      "\n",
      "Sampler: \n",
      " time before loop:  1.4730515480041504\n",
      "20  loops: 34.142157793045044 \n",
      " average time per loop:  1.707107925415039\n",
      "Save in Buffer:  0.024440288543701172 \n",
      "\n"
     ]
    },
    {
     "name": "stderr",
     "output_type": "stream",
     "text": [
      "  4%|███                                                                        | 205/5000 [1:44:13<51:08:43, 38.40s/it]"
     ]
    },
    {
     "name": "stdout",
     "output_type": "stream",
     "text": [
      "\n",
      "Sampler: \n",
      " time before loop:  1.5826330184936523\n",
      "20  loops: 35.30536413192749 \n",
      " average time per loop:  1.7652682542800904\n",
      "Save in Buffer:  0.02543044090270996 \n",
      "\n"
     ]
    },
    {
     "name": "stderr",
     "output_type": "stream",
     "text": [
      "  4%|███                                                                        | 206/5000 [1:44:52<51:29:49, 38.67s/it]"
     ]
    },
    {
     "name": "stdout",
     "output_type": "stream",
     "text": [
      "\n",
      "Sampler: \n",
      " time before loop:  1.3702247142791748\n",
      "20  loops: 32.498862504959106 \n",
      " average time per loop:  1.624943161010742\n",
      "Save in Buffer:  0.025931596755981445 \n",
      "\n"
     ]
    },
    {
     "name": "stderr",
     "output_type": "stream",
     "text": [
      "  4%|███                                                                        | 207/5000 [1:45:29<50:30:12, 37.93s/it]"
     ]
    },
    {
     "name": "stdout",
     "output_type": "stream",
     "text": [
      "\n",
      "Sampler: \n",
      " time before loop:  1.474822759628296\n",
      "20  loops: 31.42724871635437 \n",
      " average time per loop:  1.5713624835014344\n",
      "Save in Buffer:  0.02534341812133789 \n",
      "\n"
     ]
    },
    {
     "name": "stderr",
     "output_type": "stream",
     "text": [
      "  4%|███                                                                        | 208/5000 [1:46:04<49:26:08, 37.14s/it]"
     ]
    },
    {
     "name": "stdout",
     "output_type": "stream",
     "text": [
      "\n",
      "Sampler: \n",
      " time before loop:  1.5585973262786865\n",
      "20  loops: 34.63685464859009 \n",
      " average time per loop:  1.7318427801132201\n",
      "Save in Buffer:  0.025130510330200195 \n",
      "\n"
     ]
    },
    {
     "name": "stderr",
     "output_type": "stream",
     "text": [
      "  4%|███▏                                                                       | 209/5000 [1:46:43<50:01:45, 37.59s/it]"
     ]
    },
    {
     "name": "stdout",
     "output_type": "stream",
     "text": [
      "\n",
      "Sampler: \n",
      " time before loop:  1.611048936843872\n",
      "20  loops: 33.84988570213318 \n",
      " average time per loop:  1.692494308948517\n",
      "Save in Buffer:  0.02498483657836914 \n",
      "\n"
     ]
    },
    {
     "name": "stderr",
     "output_type": "stream",
     "text": [
      "  4%|███▏                                                                       | 210/5000 [1:47:21<50:13:01, 37.74s/it]"
     ]
    },
    {
     "name": "stdout",
     "output_type": "stream",
     "text": [
      "\n",
      "Sampler: \n",
      " time before loop:  1.279057264328003\n",
      "20  loops: 35.379945039749146 \n",
      " average time per loop:  1.7689972877502442\n",
      "Save in Buffer:  0.027570009231567383 \n",
      "\n"
     ]
    },
    {
     "name": "stderr",
     "output_type": "stream",
     "text": [
      "  4%|███▏                                                                       | 211/5000 [1:48:00<50:41:26, 38.11s/it]"
     ]
    },
    {
     "name": "stdout",
     "output_type": "stream",
     "text": [
      "\n",
      "Sampler: \n",
      " time before loop:  1.48997163772583\n",
      "20  loops: 40.23342156410217 \n",
      " average time per loop:  2.0116711258888245\n",
      "Save in Buffer:  0.029130220413208008 \n",
      "\n"
     ]
    },
    {
     "name": "stderr",
     "output_type": "stream",
     "text": [
      "  4%|███▏                                                                       | 212/5000 [1:48:44<53:05:55, 39.92s/it]"
     ]
    },
    {
     "name": "stdout",
     "output_type": "stream",
     "text": [
      "\n",
      "Sampler: \n",
      " time before loop:  1.3761842250823975\n",
      "20  loops: 34.560731410980225 \n",
      " average time per loop:  1.728036606311798\n",
      "Save in Buffer:  0.02859783172607422 \n",
      "\n"
     ]
    },
    {
     "name": "stderr",
     "output_type": "stream",
     "text": [
      "  4%|███▏                                                                       | 213/5000 [1:49:22<52:25:22, 39.42s/it]"
     ]
    },
    {
     "name": "stdout",
     "output_type": "stream",
     "text": [
      "\n",
      "Sampler: \n",
      " time before loop:  1.4514422416687012\n",
      "20  loops: 41.38466477394104 \n",
      " average time per loop:  2.069233274459839\n",
      "Save in Buffer:  0.030637025833129883 \n",
      "\n"
     ]
    },
    {
     "name": "stderr",
     "output_type": "stream",
     "text": [
      "  4%|███▏                                                                       | 214/5000 [1:50:07<54:44:37, 41.18s/it]"
     ]
    },
    {
     "name": "stdout",
     "output_type": "stream",
     "text": [
      "\n",
      "Sampler: \n",
      " time before loop:  1.5498626232147217\n",
      "20  loops: 34.94091033935547 \n",
      " average time per loop:  1.7470455646514893\n",
      "Save in Buffer:  0.026520967483520508 \n",
      "\n"
     ]
    },
    {
     "name": "stderr",
     "output_type": "stream",
     "text": [
      "  4%|███▏                                                                       | 215/5000 [1:50:46<53:47:30, 40.47s/it]"
     ]
    },
    {
     "name": "stdout",
     "output_type": "stream",
     "text": [
      "\n",
      "Sampler: \n",
      " time before loop:  1.2991178035736084\n",
      "20  loops: 36.5708532333374 \n",
      " average time per loop:  1.828542709350586\n",
      "Save in Buffer:  0.029392004013061523 \n",
      "\n"
     ]
    },
    {
     "name": "stderr",
     "output_type": "stream",
     "text": [
      "  4%|███▏                                                                       | 216/5000 [1:51:26<53:40:28, 40.39s/it]"
     ]
    },
    {
     "name": "stdout",
     "output_type": "stream",
     "text": [
      "\n",
      "Sampler: \n",
      " time before loop:  1.583963394165039\n",
      "20  loops: 40.54529404640198 \n",
      " average time per loop:  2.0272647380828857\n",
      "Save in Buffer:  0.0281369686126709 \n",
      "\n"
     ]
    },
    {
     "name": "stderr",
     "output_type": "stream",
     "text": [
      "  4%|███▎                                                                       | 217/5000 [1:52:11<55:19:39, 41.64s/it]"
     ]
    },
    {
     "name": "stdout",
     "output_type": "stream",
     "text": [
      "\n",
      "Sampler: \n",
      " time before loop:  1.538663625717163\n",
      "20  loops: 41.35025405883789 \n",
      " average time per loop:  2.0675127506256104\n",
      "Save in Buffer:  0.030303955078125 \n",
      "\n"
     ]
    },
    {
     "name": "stderr",
     "output_type": "stream",
     "text": [
      "  4%|███▎                                                                       | 218/5000 [1:52:56<56:48:04, 42.76s/it]"
     ]
    },
    {
     "name": "stdout",
     "output_type": "stream",
     "text": [
      "\n",
      "Sampler: \n",
      " time before loop:  1.497349739074707\n",
      "20  loops: 39.52084946632385 \n",
      " average time per loop:  1.9760425090789795\n",
      "Save in Buffer:  0.0296633243560791 \n",
      "\n"
     ]
    },
    {
     "name": "stderr",
     "output_type": "stream",
     "text": [
      "  4%|███▎                                                                       | 219/5000 [1:53:40<57:04:25, 42.98s/it]"
     ]
    },
    {
     "name": "stdout",
     "output_type": "stream",
     "text": [
      "\n",
      "Sampler: \n",
      " time before loop:  1.4949395656585693\n",
      "20  loops: 39.64196825027466 \n",
      " average time per loop:  1.9820984482765198\n",
      "Save in Buffer:  0.028502464294433594 \n",
      "\n"
     ]
    },
    {
     "name": "stderr",
     "output_type": "stream",
     "text": [
      "  4%|███▎                                                                       | 220/5000 [1:54:23<57:17:14, 43.15s/it]"
     ]
    },
    {
     "name": "stdout",
     "output_type": "stream",
     "text": [
      "\n",
      "Sampler: \n",
      " time before loop:  1.3751676082611084\n",
      "20  loops: 40.01353716850281 \n",
      " average time per loop:  2.0006768822669985\n",
      "Save in Buffer:  0.032114267349243164 \n",
      "\n"
     ]
    },
    {
     "name": "stderr",
     "output_type": "stream",
     "text": [
      "  4%|███▎                                                                       | 221/5000 [1:55:07<57:32:05, 43.34s/it]"
     ]
    },
    {
     "name": "stdout",
     "output_type": "stream",
     "text": [
      "\n",
      "Sampler: \n",
      " time before loop:  1.5150737762451172\n",
      "20  loops: 41.69419813156128 \n",
      " average time per loop:  2.0847099304199217\n",
      "Save in Buffer:  0.030693769454956055 \n",
      "\n"
     ]
    },
    {
     "name": "stderr",
     "output_type": "stream",
     "text": [
      "  4%|███▎                                                                       | 222/5000 [1:55:53<58:26:45, 44.04s/it]"
     ]
    },
    {
     "name": "stdout",
     "output_type": "stream",
     "text": [
      "\n",
      "Sampler: \n",
      " time before loop:  1.5918200016021729\n",
      "20  loops: 38.14430546760559 \n",
      " average time per loop:  1.9072153210639953\n",
      "Save in Buffer:  0.02845597267150879 \n",
      "\n"
     ]
    },
    {
     "name": "stderr",
     "output_type": "stream",
     "text": [
      "  4%|███▎                                                                       | 223/5000 [1:56:35<57:41:26, 43.48s/it]"
     ]
    },
    {
     "name": "stdout",
     "output_type": "stream",
     "text": [
      "\n",
      "Sampler: \n",
      " time before loop:  1.4659628868103027\n",
      "20  loops: 38.2791531085968 \n",
      " average time per loop:  1.913957691192627\n",
      "Save in Buffer:  0.029103517532348633 \n",
      "\n"
     ]
    },
    {
     "name": "stderr",
     "output_type": "stream",
     "text": [
      "  4%|███▎                                                                       | 224/5000 [1:57:17<57:09:44, 43.09s/it]"
     ]
    },
    {
     "name": "stdout",
     "output_type": "stream",
     "text": [
      "\n",
      "Sampler: \n",
      " time before loop:  1.5079102516174316\n",
      "20  loops: 41.85189747810364 \n",
      " average time per loop:  2.09259489774704\n",
      "Save in Buffer:  0.03234219551086426 \n",
      "\n"
     ]
    },
    {
     "name": "stderr",
     "output_type": "stream",
     "text": [
      "  4%|███▍                                                                       | 225/5000 [1:58:03<58:13:57, 43.90s/it]"
     ]
    },
    {
     "name": "stdout",
     "output_type": "stream",
     "text": [
      "\n",
      "Sampler: \n",
      " time before loop:  1.4423959255218506\n",
      "20  loops: 37.91740536689758 \n",
      " average time per loop:  1.895870316028595\n",
      "Save in Buffer:  0.02995443344116211 \n",
      "\n"
     ]
    },
    {
     "name": "stderr",
     "output_type": "stream",
     "text": [
      "  5%|███▍                                                                       | 226/5000 [1:58:45<57:20:04, 43.24s/it]"
     ]
    },
    {
     "name": "stdout",
     "output_type": "stream",
     "text": [
      "\n",
      "Sampler: \n",
      " time before loop:  1.3892185688018799\n",
      "20  loops: 36.79539203643799 \n",
      " average time per loop:  1.8397696256637572\n",
      "Save in Buffer:  0.03095269203186035 \n",
      "\n"
     ]
    },
    {
     "name": "stderr",
     "output_type": "stream",
     "text": [
      "  5%|███▍                                                                       | 227/5000 [1:59:25<56:14:54, 42.42s/it]"
     ]
    },
    {
     "name": "stdout",
     "output_type": "stream",
     "text": [
      "\n",
      "Sampler: \n",
      " time before loop:  1.4484779834747314\n",
      "20  loops: 38.225401639938354 \n",
      " average time per loop:  1.9112701177597047\n",
      "Save in Buffer:  0.03217458724975586 \n",
      "\n"
     ]
    },
    {
     "name": "stderr",
     "output_type": "stream",
     "text": [
      "  5%|███▍                                                                       | 228/5000 [2:00:07<56:05:14, 42.31s/it]"
     ]
    },
    {
     "name": "stdout",
     "output_type": "stream",
     "text": [
      "\n",
      "Sampler: \n",
      " time before loop:  1.5279452800750732\n",
      "20  loops: 42.617680072784424 \n",
      " average time per loop:  2.130884039402008\n",
      "Save in Buffer:  0.029595136642456055 \n",
      "\n"
     ]
    },
    {
     "name": "stderr",
     "output_type": "stream",
     "text": [
      "  5%|███▍                                                                       | 229/5000 [2:00:54<57:52:26, 43.67s/it]"
     ]
    },
    {
     "name": "stdout",
     "output_type": "stream",
     "text": [
      "\n",
      "Sampler: \n",
      " time before loop:  1.51362943649292\n",
      "20  loops: 41.78089118003845 \n",
      " average time per loop:  2.0890445947647094\n",
      "Save in Buffer:  0.03019857406616211 \n",
      "\n"
     ]
    },
    {
     "name": "stderr",
     "output_type": "stream",
     "text": [
      "  5%|███▍                                                                       | 230/5000 [2:01:40<58:41:57, 44.30s/it]"
     ]
    },
    {
     "name": "stdout",
     "output_type": "stream",
     "text": [
      "\n",
      "Sampler: \n",
      " time before loop:  1.469362735748291\n",
      "20  loops: 42.81515431404114 \n",
      " average time per loop:  2.140757739543915\n",
      "Save in Buffer:  0.030529022216796875 \n",
      "\n"
     ]
    },
    {
     "name": "stderr",
     "output_type": "stream",
     "text": [
      "  5%|███▍                                                                       | 231/5000 [2:02:27<59:41:19, 45.06s/it]"
     ]
    },
    {
     "name": "stdout",
     "output_type": "stream",
     "text": [
      "\n",
      "Sampler: \n",
      " time before loop:  1.3102319240570068\n",
      "20  loops: 34.03466248512268 \n",
      " average time per loop:  1.701733160018921\n",
      "Save in Buffer:  0.028301715850830078 \n",
      "\n"
     ]
    },
    {
     "name": "stderr",
     "output_type": "stream",
     "text": [
      "  5%|███▍                                                                       | 232/5000 [2:03:04<56:44:51, 42.85s/it]"
     ]
    },
    {
     "name": "stdout",
     "output_type": "stream",
     "text": [
      "\n",
      "Sampler: \n",
      " time before loop:  1.41294264793396\n",
      "20  loops: 39.41165208816528 \n",
      " average time per loop:  1.9705826401710511\n",
      "Save in Buffer:  0.031155109405517578 \n",
      "\n"
     ]
    },
    {
     "name": "stderr",
     "output_type": "stream",
     "text": [
      "  5%|███▍                                                                       | 233/5000 [2:03:47<56:49:36, 42.92s/it]"
     ]
    },
    {
     "name": "stdout",
     "output_type": "stream",
     "text": [
      "\n",
      "Sampler: \n",
      " time before loop:  1.2435986995697021\n",
      "20  loops: 41.02846121788025 \n",
      " average time per loop:  2.0514230966567992\n",
      "Save in Buffer:  0.030165433883666992 \n",
      "\n"
     ]
    },
    {
     "name": "stderr",
     "output_type": "stream",
     "text": [
      "  5%|███▌                                                                       | 234/5000 [2:04:32<57:29:20, 43.42s/it]"
     ]
    },
    {
     "name": "stdout",
     "output_type": "stream",
     "text": [
      "\n",
      "Sampler: \n",
      " time before loop:  1.3494479656219482\n",
      "20  loops: 38.573957681655884 \n",
      " average time per loop:  1.9286979198455811\n",
      "Save in Buffer:  0.030944347381591797 \n",
      "\n"
     ]
    },
    {
     "name": "stderr",
     "output_type": "stream",
     "text": [
      "  5%|███▌                                                                       | 235/5000 [2:05:14<57:01:26, 43.08s/it]"
     ]
    },
    {
     "name": "stdout",
     "output_type": "stream",
     "text": [
      "\n",
      "Sampler: \n",
      " time before loop:  1.3036057949066162\n",
      "20  loops: 38.8074426651001 \n",
      " average time per loop:  1.9403721928596496\n",
      "Save in Buffer:  0.031256675720214844 \n",
      "\n"
     ]
    },
    {
     "name": "stderr",
     "output_type": "stream",
     "text": [
      "  5%|███▌                                                                       | 236/5000 [2:05:57<56:45:15, 42.89s/it]"
     ]
    },
    {
     "name": "stdout",
     "output_type": "stream",
     "text": [
      "\n",
      "Sampler: \n",
      " time before loop:  1.2850878238677979\n",
      "20  loops: 37.32129669189453 \n",
      " average time per loop:  1.8660648584365844\n",
      "Save in Buffer:  0.0309903621673584 \n",
      "\n"
     ]
    },
    {
     "name": "stderr",
     "output_type": "stream",
     "text": [
      "  5%|███▌                                                                       | 237/5000 [2:06:38<55:58:13, 42.30s/it]"
     ]
    },
    {
     "name": "stdout",
     "output_type": "stream",
     "text": [
      "\n",
      "Sampler: \n",
      " time before loop:  1.5034735202789307\n",
      "20  loops: 42.179991722106934 \n",
      " average time per loop:  2.1089996099472046\n",
      "Save in Buffer:  0.02968883514404297 \n",
      "\n"
     ]
    },
    {
     "name": "stderr",
     "output_type": "stream",
     "text": [
      "  5%|███▌                                                                       | 238/5000 [2:07:24<57:28:36, 43.45s/it]"
     ]
    },
    {
     "name": "stdout",
     "output_type": "stream",
     "text": [
      "\n",
      "Sampler: \n",
      " time before loop:  1.5333096981048584\n",
      "20  loops: 43.27510404586792 \n",
      " average time per loop:  2.163755249977112\n",
      "Save in Buffer:  0.03023386001586914 \n",
      "\n"
     ]
    },
    {
     "name": "stderr",
     "output_type": "stream",
     "text": [
      "  5%|███▌                                                                       | 239/5000 [2:08:11<58:59:11, 44.60s/it]"
     ]
    },
    {
     "name": "stdout",
     "output_type": "stream",
     "text": [
      "\n",
      "Sampler: \n",
      " time before loop:  1.4521546363830566\n",
      "20  loops: 42.16171073913574 \n",
      " average time per loop:  2.108085596561432\n",
      "Save in Buffer:  0.03348851203918457 \n",
      "\n"
     ]
    },
    {
     "name": "stderr",
     "output_type": "stream",
     "text": [
      "  5%|███▌                                                                       | 240/5000 [2:08:57<59:33:19, 45.04s/it]"
     ]
    },
    {
     "name": "stdout",
     "output_type": "stream",
     "text": [
      "\n",
      "Sampler: \n",
      " time before loop:  1.542588710784912\n",
      "20  loops: 43.42586040496826 \n",
      " average time per loop:  2.1712930679321287\n",
      "Save in Buffer:  0.02963089942932129 \n",
      "\n"
     ]
    },
    {
     "name": "stderr",
     "output_type": "stream",
     "text": [
      "  5%|███▌                                                                       | 241/5000 [2:09:45<60:32:40, 45.80s/it]"
     ]
    },
    {
     "name": "stdout",
     "output_type": "stream",
     "text": [
      "\n",
      "Sampler: \n",
      " time before loop:  1.524744987487793\n",
      "20  loops: 43.21483874320984 \n",
      " average time per loop:  2.1607419729232786\n",
      "Save in Buffer:  0.02992415428161621 \n",
      "\n"
     ]
    },
    {
     "name": "stderr",
     "output_type": "stream",
     "text": [
      "  5%|███▋                                                                       | 242/5000 [2:10:32<61:04:19, 46.21s/it]"
     ]
    },
    {
     "name": "stdout",
     "output_type": "stream",
     "text": [
      "\n",
      "Sampler: \n",
      " time before loop:  1.5442628860473633\n",
      "20  loops: 41.67488241195679 \n",
      " average time per loop:  2.083744168281555\n",
      "Save in Buffer:  0.03120589256286621 \n",
      "\n"
     ]
    },
    {
     "name": "stderr",
     "output_type": "stream",
     "text": [
      "  5%|███▋                                                                       | 243/5000 [2:11:17<60:48:48, 46.02s/it]"
     ]
    },
    {
     "name": "stdout",
     "output_type": "stream",
     "text": [
      "\n",
      "Sampler: \n",
      " time before loop:  1.5756230354309082\n",
      "20  loops: 42.2881965637207 \n",
      " average time per loop:  2.11440988779068\n",
      "Save in Buffer:  0.030093908309936523 \n",
      "\n"
     ]
    },
    {
     "name": "stderr",
     "output_type": "stream",
     "text": [
      "  5%|███▋                                                                       | 244/5000 [2:12:04<60:55:08, 46.11s/it]"
     ]
    },
    {
     "name": "stdout",
     "output_type": "stream",
     "text": [
      "\n",
      "Sampler: \n",
      " time before loop:  1.3328654766082764\n",
      "20  loops: 38.00849199295044 \n",
      " average time per loop:  1.9004246473312378\n",
      "Save in Buffer:  0.029719114303588867 \n",
      "\n"
     ]
    },
    {
     "name": "stderr",
     "output_type": "stream",
     "text": [
      "  5%|███▋                                                                       | 245/5000 [2:12:45<59:08:49, 44.78s/it]"
     ]
    },
    {
     "name": "stdout",
     "output_type": "stream",
     "text": [
      "\n",
      "Sampler: \n",
      " time before loop:  1.3752009868621826\n",
      "20  loops: 41.76696300506592 \n",
      " average time per loop:  2.088348186016083\n",
      "Save in Buffer:  0.02975773811340332 \n",
      "\n"
     ]
    },
    {
     "name": "stderr",
     "output_type": "stream",
     "text": [
      "  5%|███▋                                                                       | 246/5000 [2:13:31<59:24:24, 44.99s/it]"
     ]
    },
    {
     "name": "stdout",
     "output_type": "stream",
     "text": [
      "\n",
      "Sampler: \n",
      " time before loop:  1.4254403114318848\n",
      "20  loops: 41.40493083000183 \n",
      " average time per loop:  2.0702465891838076\n",
      "Save in Buffer:  0.03133749961853027 \n",
      "\n"
     ]
    },
    {
     "name": "stderr",
     "output_type": "stream",
     "text": [
      "  5%|███▋                                                                       | 247/5000 [2:14:16<59:28:05, 45.04s/it]"
     ]
    },
    {
     "name": "stdout",
     "output_type": "stream",
     "text": [
      "\n",
      "Sampler: \n",
      " time before loop:  1.6563708782196045\n",
      "20  loops: 40.27884364128113 \n",
      " average time per loop:  2.0139422178268434\n",
      "Save in Buffer:  0.031224727630615234 \n",
      "\n"
     ]
    },
    {
     "name": "stderr",
     "output_type": "stream",
     "text": [
      "  5%|███▋                                                                       | 248/5000 [2:15:00<59:07:57, 44.80s/it]"
     ]
    },
    {
     "name": "stdout",
     "output_type": "stream",
     "text": [
      "\n",
      "Sampler: \n",
      " time before loop:  1.4872775077819824\n",
      "20  loops: 40.519978284835815 \n",
      " average time per loop:  2.0259989500045776\n",
      "Save in Buffer:  0.030531883239746094 \n",
      "\n"
     ]
    },
    {
     "name": "stderr",
     "output_type": "stream",
     "text": [
      "  5%|███▋                                                                       | 249/5000 [2:15:45<58:56:51, 44.67s/it]"
     ]
    },
    {
     "name": "stdout",
     "output_type": "stream",
     "text": [
      "\n",
      "Sampler: \n",
      " time before loop:  1.564878225326538\n",
      "20  loops: 42.623122215270996 \n",
      " average time per loop:  2.131156158447266\n",
      "Save in Buffer:  0.0328059196472168 \n",
      "\n"
     ]
    },
    {
     "name": "stderr",
     "output_type": "stream",
     "text": [
      "  5%|███▊                                                                       | 250/5000 [2:16:31<59:42:08, 45.25s/it]"
     ]
    },
    {
     "name": "stdout",
     "output_type": "stream",
     "text": [
      "\n",
      "Sampler: \n",
      " time before loop:  1.3885972499847412\n",
      "20  loops: 38.24260139465332 \n",
      " average time per loop:  1.912130105495453\n",
      "Save in Buffer:  0.03152656555175781 \n",
      "\n"
     ]
    },
    {
     "name": "stderr",
     "output_type": "stream",
     "text": [
      "  5%|███▊                                                                       | 251/5000 [2:17:13<58:23:34, 44.27s/it]"
     ]
    },
    {
     "name": "stdout",
     "output_type": "stream",
     "text": [
      "\n",
      "Sampler: \n",
      " time before loop:  1.480422019958496\n",
      "20  loops: 42.483383893966675 \n",
      " average time per loop:  2.1241692423820497\n",
      "Save in Buffer:  0.03429698944091797 \n",
      "\n"
     ]
    },
    {
     "name": "stderr",
     "output_type": "stream",
     "text": [
      "  5%|███▊                                                                       | 252/5000 [2:18:00<59:14:13, 44.91s/it]"
     ]
    },
    {
     "name": "stdout",
     "output_type": "stream",
     "text": [
      "\n",
      "Sampler: \n",
      " time before loop:  1.4642469882965088\n",
      "20  loops: 37.533679485321045 \n",
      " average time per loop:  1.8766840100288391\n",
      "Save in Buffer:  0.030038833618164062 \n",
      "\n"
     ]
    },
    {
     "name": "stderr",
     "output_type": "stream",
     "text": [
      "  5%|███▊                                                                       | 253/5000 [2:18:41<57:47:36, 43.83s/it]"
     ]
    },
    {
     "name": "stdout",
     "output_type": "stream",
     "text": [
      "\n",
      "Sampler: \n",
      " time before loop:  1.370293140411377\n",
      "20  loops: 42.35296440124512 \n",
      " average time per loop:  2.117648255825043\n",
      "Save in Buffer:  0.03283524513244629 \n",
      "\n"
     ]
    },
    {
     "name": "stderr",
     "output_type": "stream",
     "text": [
      "  5%|███▊                                                                       | 254/5000 [2:19:27<58:38:52, 44.49s/it]"
     ]
    },
    {
     "name": "stdout",
     "output_type": "stream",
     "text": [
      "\n",
      "Sampler: \n",
      " time before loop:  1.52274751663208\n",
      "20  loops: 42.93188524246216 \n",
      " average time per loop:  2.146594297885895\n",
      "Save in Buffer:  0.0315091609954834 \n",
      "\n"
     ]
    },
    {
     "name": "stderr",
     "output_type": "stream",
     "text": [
      "  5%|███▊                                                                       | 255/5000 [2:20:14<59:35:20, 45.21s/it]"
     ]
    },
    {
     "name": "stdout",
     "output_type": "stream",
     "text": [
      "\n",
      "Sampler: \n",
      " time before loop:  1.4405770301818848\n",
      "20  loops: 42.48083424568176 \n",
      " average time per loop:  2.124041759967804\n",
      "Save in Buffer:  0.03143429756164551 \n",
      "\n"
     ]
    },
    {
     "name": "stderr",
     "output_type": "stream",
     "text": [
      "  5%|███▊                                                                       | 256/5000 [2:21:00<59:58:57, 45.52s/it]"
     ]
    },
    {
     "name": "stdout",
     "output_type": "stream",
     "text": [
      "\n",
      "Sampler: \n",
      " time before loop:  1.5205118656158447\n",
      "20  loops: 41.37078237533569 \n",
      " average time per loop:  2.0685391545295717\n",
      "Save in Buffer:  0.032411813735961914 \n",
      "\n"
     ]
    },
    {
     "name": "stderr",
     "output_type": "stream",
     "text": [
      "  5%|███▊                                                                       | 257/5000 [2:21:45<59:52:49, 45.45s/it]"
     ]
    },
    {
     "name": "stdout",
     "output_type": "stream",
     "text": [
      "\n",
      "Sampler: \n",
      " time before loop:  1.6244206428527832\n",
      "20  loops: 42.79300045967102 \n",
      " average time per loop:  2.139650058746338\n",
      "Save in Buffer:  0.034041404724121094 \n",
      "\n"
     ]
    },
    {
     "name": "stderr",
     "output_type": "stream",
     "text": [
      "  5%|███▊                                                                       | 258/5000 [2:22:32<60:26:28, 45.89s/it]"
     ]
    },
    {
     "name": "stdout",
     "output_type": "stream",
     "text": [
      "\n",
      "Sampler: \n",
      " time before loop:  1.3719751834869385\n",
      "20  loops: 39.0898540019989 \n",
      " average time per loop:  1.954492735862732\n",
      "Save in Buffer:  0.031316518783569336 \n",
      "\n"
     ]
    },
    {
     "name": "stderr",
     "output_type": "stream",
     "text": [
      "  5%|███▉                                                                       | 259/5000 [2:23:15<59:18:21, 45.03s/it]"
     ]
    },
    {
     "name": "stdout",
     "output_type": "stream",
     "text": [
      "\n",
      "Sampler: \n",
      " time before loop:  1.4872431755065918\n",
      "20  loops: 44.44989252090454 \n",
      " average time per loop:  2.222494673728943\n",
      "Save in Buffer:  0.032010793685913086 \n",
      "\n"
     ]
    },
    {
     "name": "stderr",
     "output_type": "stream",
     "text": [
      "  5%|███▉                                                                       | 260/5000 [2:24:04<60:35:59, 46.03s/it]"
     ]
    },
    {
     "name": "stdout",
     "output_type": "stream",
     "text": [
      "\n",
      "Sampler: \n",
      " time before loop:  1.3323898315429688\n",
      "20  loops: 39.26632738113403 \n",
      " average time per loop:  1.9633164286613465\n",
      "Save in Buffer:  0.03466653823852539 \n",
      "\n"
     ]
    },
    {
     "name": "stderr",
     "output_type": "stream",
     "text": [
      "  5%|███▉                                                                       | 261/5000 [2:24:47<59:23:02, 45.11s/it]"
     ]
    },
    {
     "name": "stdout",
     "output_type": "stream",
     "text": [
      "\n",
      "Sampler: \n",
      " time before loop:  1.2771251201629639\n",
      "20  loops: 38.329533100128174 \n",
      " average time per loop:  1.9164766907691955\n",
      "Save in Buffer:  0.03217005729675293 \n",
      "\n"
     ]
    },
    {
     "name": "stderr",
     "output_type": "stream",
     "text": [
      "  5%|███▉                                                                       | 262/5000 [2:25:29<58:07:49, 44.17s/it]"
     ]
    },
    {
     "name": "stdout",
     "output_type": "stream",
     "text": [
      "\n",
      "Sampler: \n",
      " time before loop:  1.4590833187103271\n",
      "20  loops: 44.56865048408508 \n",
      " average time per loop:  2.228432559967041\n",
      "Save in Buffer:  0.032532453536987305 \n",
      "\n"
     ]
    },
    {
     "name": "stderr",
     "output_type": "stream",
     "text": [
      "  5%|███▉                                                                       | 263/5000 [2:26:17<59:48:29, 45.45s/it]"
     ]
    },
    {
     "name": "stdout",
     "output_type": "stream",
     "text": [
      "\n",
      "Sampler: \n",
      " time before loop:  1.482469081878662\n",
      "20  loops: 42.47811579704285 \n",
      " average time per loop:  2.123905825614929\n",
      "Save in Buffer:  0.03196597099304199 \n",
      "\n"
     ]
    },
    {
     "name": "stderr",
     "output_type": "stream",
     "text": [
      "  5%|███▉                                                                       | 264/5000 [2:27:03<60:09:46, 45.73s/it]"
     ]
    },
    {
     "name": "stdout",
     "output_type": "stream",
     "text": [
      "\n",
      "Sampler: \n",
      " time before loop:  1.5922298431396484\n",
      "20  loops: 44.35563850402832 \n",
      " average time per loop:  2.217781972885132\n",
      "Save in Buffer:  0.03328347206115723 \n",
      "\n"
     ]
    },
    {
     "name": "stderr",
     "output_type": "stream",
     "text": [
      "  5%|███▉                                                                       | 265/5000 [2:27:52<61:17:26, 46.60s/it]"
     ]
    },
    {
     "name": "stdout",
     "output_type": "stream",
     "text": [
      "\n",
      "Sampler: \n",
      " time before loop:  1.4958112239837646\n",
      "20  loops: 43.99359750747681 \n",
      " average time per loop:  2.199679911136627\n",
      "Save in Buffer:  0.0330502986907959 \n",
      "\n"
     ]
    },
    {
     "name": "stderr",
     "output_type": "stream",
     "text": [
      "  5%|███▉                                                                       | 266/5000 [2:28:40<61:48:40, 47.00s/it]"
     ]
    },
    {
     "name": "stdout",
     "output_type": "stream",
     "text": [
      "\n",
      "Sampler: \n",
      " time before loop:  1.5731549263000488\n",
      "20  loops: 43.8762526512146 \n",
      " average time per loop:  2.193812668323517\n",
      "Save in Buffer:  0.03313922882080078 \n",
      "\n"
     ]
    },
    {
     "name": "stderr",
     "output_type": "stream",
     "text": [
      "  5%|████                                                                       | 267/5000 [2:29:28<62:09:33, 47.28s/it]"
     ]
    },
    {
     "name": "stdout",
     "output_type": "stream",
     "text": [
      "\n",
      "Sampler: \n",
      " time before loop:  1.374354362487793\n",
      "20  loops: 38.01928162574768 \n",
      " average time per loop:  1.9009641289711\n",
      "Save in Buffer:  0.0322108268737793 \n",
      "\n"
     ]
    },
    {
     "name": "stderr",
     "output_type": "stream",
     "text": [
      "  5%|████                                                                       | 268/5000 [2:30:10<59:56:57, 45.61s/it]"
     ]
    },
    {
     "name": "stdout",
     "output_type": "stream",
     "text": [
      "\n",
      "Sampler: \n",
      " time before loop:  1.3189282417297363\n",
      "15  loops: 11.106082916259766 \n",
      " average time per loop:  0.7404056072235108\n",
      "Save in Buffer:  0.00935053825378418 \n",
      "\n"
     ]
    },
    {
     "name": "stderr",
     "output_type": "stream",
     "text": [
      "  5%|████                                                                       | 269/5000 [2:30:24<47:46:28, 36.35s/it]"
     ]
    },
    {
     "name": "stdout",
     "output_type": "stream",
     "text": [
      "\n",
      "Sampler: \n",
      " time before loop:  1.4418225288391113\n",
      "20  loops: 44.031107902526855 \n",
      " average time per loop:  2.2015554428100588\n",
      "Save in Buffer:  0.03365659713745117 \n",
      "\n"
     ]
    },
    {
     "name": "stderr",
     "output_type": "stream",
     "text": [
      "  5%|████                                                                       | 270/5000 [2:31:12<52:21:08, 39.85s/it]"
     ]
    },
    {
     "name": "stdout",
     "output_type": "stream",
     "text": [
      "\n",
      "Sampler: \n",
      " time before loop:  1.5334537029266357\n",
      "20  loops: 44.182125091552734 \n",
      " average time per loop:  2.209106278419495\n",
      "Save in Buffer:  0.03302407264709473 \n",
      "\n"
     ]
    },
    {
     "name": "stderr",
     "output_type": "stream",
     "text": [
      "  5%|████                                                                       | 271/5000 [2:32:01<55:38:52, 42.36s/it]"
     ]
    },
    {
     "name": "stdout",
     "output_type": "stream",
     "text": [
      "\n",
      "Sampler: \n",
      " time before loop:  1.5390903949737549\n",
      "19  loops: 35.807281732559204 \n",
      " average time per loop:  1.884593825591238\n",
      "Save in Buffer:  0.0276491641998291 \n",
      "\n"
     ]
    },
    {
     "name": "stderr",
     "output_type": "stream",
     "text": [
      "  5%|████                                                                       | 272/5000 [2:32:40<54:37:21, 41.59s/it]"
     ]
    },
    {
     "name": "stdout",
     "output_type": "stream",
     "text": [
      "\n",
      "Sampler: \n",
      " time before loop:  1.4771225452423096\n",
      "20  loops: 39.92365097999573 \n",
      " average time per loop:  1.9961825966835023\n",
      "Save in Buffer:  0.02943706512451172 \n",
      "\n"
     ]
    },
    {
     "name": "stderr",
     "output_type": "stream",
     "text": [
      "  5%|████                                                                       | 273/5000 [2:33:24<55:30:05, 42.27s/it]"
     ]
    },
    {
     "name": "stdout",
     "output_type": "stream",
     "text": [
      "\n",
      "Sampler: \n",
      " time before loop:  1.3293778896331787\n",
      "20  loops: 39.37671899795532 \n",
      " average time per loop:  1.968835985660553\n",
      "Save in Buffer:  0.029706239700317383 \n",
      "\n"
     ]
    },
    {
     "name": "stderr",
     "output_type": "stream",
     "text": [
      "  5%|████                                                                       | 274/5000 [2:34:07<55:47:32, 42.50s/it]"
     ]
    },
    {
     "name": "stdout",
     "output_type": "stream",
     "text": [
      "\n",
      "Sampler: \n",
      " time before loop:  1.290489912033081\n",
      "20  loops: 39.01551032066345 \n",
      " average time per loop:  1.9507755637168884\n",
      "Save in Buffer:  0.03172445297241211 \n",
      "\n"
     ]
    },
    {
     "name": "stderr",
     "output_type": "stream",
     "text": [
      "  6%|████▏                                                                      | 275/5000 [2:34:50<55:50:17, 42.54s/it]"
     ]
    },
    {
     "name": "stdout",
     "output_type": "stream",
     "text": [
      "\n",
      "Sampler: \n",
      " time before loop:  1.539358377456665\n",
      "20  loops: 40.61379361152649 \n",
      " average time per loop:  2.0306897282600405\n",
      "Save in Buffer:  0.030521392822265625 \n",
      "\n"
     ]
    },
    {
     "name": "stderr",
     "output_type": "stream",
     "text": [
      "  6%|████▏                                                                      | 276/5000 [2:35:35<56:37:48, 43.16s/it]"
     ]
    },
    {
     "name": "stdout",
     "output_type": "stream",
     "text": [
      "\n",
      "Sampler: \n",
      " time before loop:  1.2816646099090576\n",
      "20  loops: 38.677703619003296 \n",
      " average time per loop:  1.9338852167129517\n",
      "Save in Buffer:  0.034334421157836914 \n",
      "\n"
     ]
    },
    {
     "name": "stderr",
     "output_type": "stream",
     "text": [
      "  6%|████▏                                                                      | 277/5000 [2:36:17<56:17:14, 42.90s/it]"
     ]
    },
    {
     "name": "stdout",
     "output_type": "stream",
     "text": [
      "\n",
      "Sampler: \n",
      " time before loop:  1.4864518642425537\n",
      "20  loops: 44.18150043487549 \n",
      " average time per loop:  2.209075057506561\n",
      "Save in Buffer:  0.034130096435546875 \n",
      "\n"
     ]
    },
    {
     "name": "stderr",
     "output_type": "stream",
     "text": [
      "  6%|████▏                                                                      | 278/5000 [2:37:05<58:20:26, 44.48s/it]"
     ]
    },
    {
     "name": "stdout",
     "output_type": "stream",
     "text": [
      "\n",
      "Sampler: \n",
      " time before loop:  1.291754961013794\n",
      "20  loops: 38.731250524520874 \n",
      " average time per loop:  1.9365625619888305\n",
      "Save in Buffer:  0.03117966651916504 \n",
      "\n"
     ]
    },
    {
     "name": "stderr",
     "output_type": "stream",
     "text": [
      "  6%|████▏                                                                      | 279/5000 [2:37:47<57:30:23, 43.85s/it]"
     ]
    },
    {
     "name": "stdout",
     "output_type": "stream",
     "text": [
      "\n",
      "Sampler: \n",
      " time before loop:  1.5502638816833496\n",
      "20  loops: 42.93783497810364 \n",
      " average time per loop:  2.1468917965888976\n",
      "Save in Buffer:  0.03719210624694824 \n",
      "\n"
     ]
    },
    {
     "name": "stderr",
     "output_type": "stream",
     "text": [
      "  6%|████▏                                                                      | 280/5000 [2:38:34<58:41:37, 44.77s/it]"
     ]
    },
    {
     "name": "stdout",
     "output_type": "stream",
     "text": [
      "\n",
      "Sampler: \n",
      " time before loop:  1.4923627376556396\n",
      "20  loops: 43.88606810569763 \n",
      " average time per loop:  2.1943034410476683\n",
      "Save in Buffer:  0.030857324600219727 \n",
      "\n"
     ]
    },
    {
     "name": "stderr",
     "output_type": "stream",
     "text": [
      "  6%|████▏                                                                      | 281/5000 [2:39:22<59:54:16, 45.70s/it]"
     ]
    },
    {
     "name": "stdout",
     "output_type": "stream",
     "text": [
      "\n",
      "Sampler: \n",
      " time before loop:  1.4606812000274658\n",
      "20  loops: 44.175671339035034 \n",
      " average time per loop:  2.2087836027145387\n",
      "Save in Buffer:  0.03171277046203613 \n",
      "\n"
     ]
    },
    {
     "name": "stderr",
     "output_type": "stream",
     "text": [
      "  6%|████▏                                                                      | 282/5000 [2:40:10<60:49:52, 46.42s/it]"
     ]
    },
    {
     "name": "stdout",
     "output_type": "stream",
     "text": [
      "\n",
      "Sampler: \n",
      " time before loop:  1.5324840545654297\n",
      "20  loops: 42.840821981430054 \n",
      " average time per loop:  2.1420411348342894\n",
      "Save in Buffer:  0.0313107967376709 \n",
      "\n"
     ]
    },
    {
     "name": "stderr",
     "output_type": "stream",
     "text": [
      "  6%|████▏                                                                      | 283/5000 [2:40:57<61:03:34, 46.60s/it]"
     ]
    },
    {
     "name": "stdout",
     "output_type": "stream",
     "text": [
      "\n",
      "Sampler: \n",
      " time before loop:  1.5858662128448486\n",
      "20  loops: 41.81195902824402 \n",
      " average time per loop:  2.0905979752540587\n",
      "Save in Buffer:  0.030050277709960938 \n",
      "\n"
     ]
    },
    {
     "name": "stderr",
     "output_type": "stream",
     "text": [
      "  6%|████▎                                                                      | 284/5000 [2:41:43<60:45:21, 46.38s/it]"
     ]
    },
    {
     "name": "stdout",
     "output_type": "stream",
     "text": [
      "\n",
      "Sampler: \n",
      " time before loop:  1.4886775016784668\n",
      "20  loops: 41.83311343193054 \n",
      " average time per loop:  2.0916557192802427\n",
      "Save in Buffer:  0.03216099739074707 \n",
      "\n"
     ]
    },
    {
     "name": "stderr",
     "output_type": "stream",
     "text": [
      "  6%|████▎                                                                      | 285/5000 [2:42:29<60:30:02, 46.19s/it]"
     ]
    },
    {
     "name": "stdout",
     "output_type": "stream",
     "text": [
      "\n",
      "Sampler: \n",
      " time before loop:  1.313610315322876\n",
      "20  loops: 41.24381613731384 \n",
      " average time per loop:  2.062190854549408\n",
      "Save in Buffer:  0.03144025802612305 \n",
      "\n"
     ]
    },
    {
     "name": "stderr",
     "output_type": "stream",
     "text": [
      "  6%|████▎                                                                      | 286/5000 [2:43:14<59:58:49, 45.81s/it]"
     ]
    },
    {
     "name": "stdout",
     "output_type": "stream",
     "text": [
      "\n",
      "Sampler: \n",
      " time before loop:  1.3175580501556396\n",
      "20  loops: 41.594321727752686 \n",
      " average time per loop:  2.0797161221504212\n",
      "Save in Buffer:  0.031385183334350586 \n",
      "\n"
     ]
    },
    {
     "name": "stderr",
     "output_type": "stream",
     "text": [
      "  6%|████▎                                                                      | 287/5000 [2:43:59<59:45:16, 45.64s/it]"
     ]
    },
    {
     "name": "stdout",
     "output_type": "stream",
     "text": [
      "\n",
      "Sampler: \n",
      " time before loop:  1.3462610244750977\n",
      "20  loops: 40.917001724243164 \n",
      " average time per loop:  2.045850121974945\n",
      "Save in Buffer:  0.032471418380737305 \n",
      "\n"
     ]
    },
    {
     "name": "stderr",
     "output_type": "stream",
     "text": [
      "  6%|████▎                                                                      | 288/5000 [2:44:44<59:19:22, 45.32s/it]"
     ]
    },
    {
     "name": "stdout",
     "output_type": "stream",
     "text": [
      "\n",
      "Sampler: \n",
      " time before loop:  1.568455457687378\n",
      "20  loops: 42.495073556900024 \n",
      " average time per loop:  2.124753737449646\n",
      "Save in Buffer:  0.030207157135009766 \n",
      "\n"
     ]
    },
    {
     "name": "stderr",
     "output_type": "stream",
     "text": [
      "  6%|████▎                                                                      | 289/5000 [2:45:30<59:46:04, 45.67s/it]"
     ]
    },
    {
     "name": "stdout",
     "output_type": "stream",
     "text": [
      "\n",
      "Sampler: \n",
      " time before loop:  1.4322516918182373\n",
      "20  loops: 40.987887382507324 \n",
      " average time per loop:  2.049394404888153\n",
      "Save in Buffer:  0.03115105628967285 \n",
      "\n"
     ]
    },
    {
     "name": "stderr",
     "output_type": "stream",
     "text": [
      "  6%|████▎                                                                      | 290/5000 [2:46:15<59:24:28, 45.41s/it]"
     ]
    },
    {
     "name": "stdout",
     "output_type": "stream",
     "text": [
      "\n",
      "Sampler: \n",
      " time before loop:  1.6298158168792725\n",
      "20  loops: 43.297699213027954 \n",
      " average time per loop:  2.1648849964141847\n",
      "Save in Buffer:  0.031391143798828125 \n",
      "\n"
     ]
    },
    {
     "name": "stderr",
     "output_type": "stream",
     "text": [
      "  6%|████▎                                                                      | 291/5000 [2:47:02<60:10:09, 46.00s/it]"
     ]
    },
    {
     "name": "stdout",
     "output_type": "stream",
     "text": [
      "\n",
      "Sampler: \n",
      " time before loop:  1.5307865142822266\n",
      "20  loops: 43.249444246292114 \n",
      " average time per loop:  2.1624722480773926\n",
      "Save in Buffer:  0.03204607963562012 \n",
      "\n"
     ]
    },
    {
     "name": "stderr",
     "output_type": "stream",
     "text": [
      "  6%|████▍                                                                      | 292/5000 [2:47:50<60:39:49, 46.39s/it]"
     ]
    },
    {
     "name": "stdout",
     "output_type": "stream",
     "text": [
      "\n",
      "Sampler: \n",
      " time before loop:  1.368370532989502\n",
      "20  loops: 38.183678150177 \n",
      " average time per loop:  1.909183955192566\n",
      "Save in Buffer:  0.033554792404174805 \n",
      "\n"
     ]
    },
    {
     "name": "stderr",
     "output_type": "stream",
     "text": [
      "  6%|████▍                                                                      | 293/5000 [2:48:32<58:53:46, 45.04s/it]"
     ]
    },
    {
     "name": "stdout",
     "output_type": "stream",
     "text": [
      "\n",
      "Sampler: \n",
      " time before loop:  1.5059216022491455\n",
      "20  loops: 41.51551556587219 \n",
      " average time per loop:  2.0757758259773254\n",
      "Save in Buffer:  0.031012535095214844 \n",
      "\n"
     ]
    },
    {
     "name": "stderr",
     "output_type": "stream",
     "text": [
      "  6%|████▍                                                                      | 294/5000 [2:49:17<59:02:45, 45.17s/it]"
     ]
    },
    {
     "name": "stdout",
     "output_type": "stream",
     "text": [
      "\n",
      "Sampler: \n",
      " time before loop:  1.3681244850158691\n",
      "20  loops: 38.095675230026245 \n",
      " average time per loop:  1.904783797264099\n",
      "Save in Buffer:  0.03207063674926758 \n",
      "\n"
     ]
    },
    {
     "name": "stderr",
     "output_type": "stream",
     "text": [
      "  6%|████▍                                                                      | 295/5000 [2:49:59<57:42:46, 44.16s/it]"
     ]
    },
    {
     "name": "stdout",
     "output_type": "stream",
     "text": [
      "\n",
      "Sampler: \n",
      " time before loop:  1.4077644348144531\n",
      "20  loops: 43.361061334609985 \n",
      " average time per loop:  2.168053114414215\n",
      "Save in Buffer:  0.032411813735961914 \n",
      "\n"
     ]
    },
    {
     "name": "stderr",
     "output_type": "stream",
     "text": [
      "  6%|████▍                                                                      | 296/5000 [2:50:46<58:52:08, 45.05s/it]"
     ]
    },
    {
     "name": "stdout",
     "output_type": "stream",
     "text": [
      "\n",
      "Sampler: \n",
      " time before loop:  1.3948581218719482\n",
      "20  loops: 40.66667461395264 \n",
      " average time per loop:  2.0333337664604185\n",
      "Save in Buffer:  0.03046560287475586 \n",
      "\n"
     ]
    },
    {
     "name": "stderr",
     "output_type": "stream",
     "text": [
      "  6%|████▍                                                                      | 297/5000 [2:51:30<58:35:53, 44.85s/it]"
     ]
    },
    {
     "name": "stdout",
     "output_type": "stream",
     "text": [
      "\n",
      "Sampler: \n",
      " time before loop:  1.5636193752288818\n",
      "20  loops: 42.31500864028931 \n",
      " average time per loop:  2.1157504677772523\n",
      "Save in Buffer:  0.03320455551147461 \n",
      "\n"
     ]
    },
    {
     "name": "stderr",
     "output_type": "stream",
     "text": [
      "  6%|████▍                                                                      | 298/5000 [2:52:17<59:08:41, 45.28s/it]"
     ]
    },
    {
     "name": "stdout",
     "output_type": "stream",
     "text": [
      "\n",
      "Sampler: \n",
      " time before loop:  1.5612306594848633\n",
      "20  loops: 43.455135345458984 \n",
      " average time per loop:  2.1727568030357363\n",
      "Save in Buffer:  0.03234529495239258 \n",
      "\n"
     ]
    },
    {
     "name": "stderr",
     "output_type": "stream",
     "text": [
      "  6%|████▍                                                                      | 299/5000 [2:53:04<59:58:27, 45.93s/it]"
     ]
    },
    {
     "name": "stdout",
     "output_type": "stream",
     "text": [
      "\n",
      "Sampler: \n",
      " time before loop:  1.5269484519958496\n",
      "20  loops: 41.99719572067261 \n",
      " average time per loop:  2.099859821796417\n",
      "Save in Buffer:  0.030688047409057617 \n",
      "\n"
     ]
    },
    {
     "name": "stderr",
     "output_type": "stream",
     "text": [
      "  6%|████▌                                                                      | 300/5000 [2:53:50<59:59:44, 45.95s/it]"
     ]
    },
    {
     "name": "stdout",
     "output_type": "stream",
     "text": [
      "\n",
      "Sampler: \n",
      " time before loop:  0.11843180656433105\n",
      "11  loops: 1.2085497379302979 \n",
      " average time per loop:  0.10986822301691229\n",
      "Save in Buffer:  2.384185791015625e-07 \n",
      "\n",
      "Best Agent average reward: 0.12075471698113208\n",
      "Loss  300 :  489.73596 \n",
      "\n",
      "inner_iteration_average last 100 iterations:  2.058220829963684\n",
      "outer_iteration_average last 100 iterations:  43.67498661518097\n",
      "Average_Sampling_Time last 100 iterations:  41.29143176317215 \n",
      "\n",
      "\n",
      "Sampler: \n",
      " time before loop:  1.475945234298706\n",
      "20  loops: 40.671704053878784 \n",
      " average time per loop:  2.033585238456726\n",
      "Save in Buffer:  0.030838727951049805 \n",
      "\n"
     ]
    },
    {
     "name": "stderr",
     "output_type": "stream",
     "text": [
      "  6%|████▌                                                                      | 301/5000 [2:54:36<60:02:16, 46.00s/it]"
     ]
    },
    {
     "name": "stdout",
     "output_type": "stream",
     "text": [
      "\n",
      "Sampler: \n",
      " time before loop:  1.5131056308746338\n",
      "20  loops: 43.40533757209778 \n",
      " average time per loop:  2.1702669262886047\n",
      "Save in Buffer:  0.03180050849914551 \n",
      "\n"
     ]
    },
    {
     "name": "stderr",
     "output_type": "stream",
     "text": [
      "  6%|████▌                                                                      | 302/5000 [2:55:24<60:33:39, 46.41s/it]"
     ]
    },
    {
     "name": "stdout",
     "output_type": "stream",
     "text": [
      "\n",
      "Sampler: \n",
      " time before loop:  1.545356273651123\n",
      "20  loops: 45.03421950340271 \n",
      " average time per loop:  2.2517110109329224\n",
      "Save in Buffer:  0.03127551078796387 \n",
      "\n"
     ]
    },
    {
     "name": "stderr",
     "output_type": "stream",
     "text": [
      "  6%|████▌                                                                      | 303/5000 [2:56:13<61:34:28, 47.19s/it]"
     ]
    },
    {
     "name": "stdout",
     "output_type": "stream",
     "text": [
      "\n",
      "Sampler: \n",
      " time before loop:  1.4775216579437256\n",
      "20  loops: 38.437100887298584 \n",
      " average time per loop:  1.921855080127716\n",
      "Save in Buffer:  0.03259730339050293 \n",
      "\n"
     ]
    },
    {
     "name": "stderr",
     "output_type": "stream",
     "text": [
      "  6%|████▌                                                                      | 304/5000 [2:56:55<59:39:23, 45.73s/it]"
     ]
    },
    {
     "name": "stdout",
     "output_type": "stream",
     "text": [
      "\n",
      "Sampler: \n",
      " time before loop:  1.4509024620056152\n",
      "20  loops: 44.98095774650574 \n",
      " average time per loop:  2.2490479230880736\n",
      "Save in Buffer:  0.03277850151062012 \n",
      "\n"
     ]
    },
    {
     "name": "stderr",
     "output_type": "stream",
     "text": [
      "  6%|████▌                                                                      | 305/5000 [2:57:44<60:52:41, 46.68s/it]"
     ]
    },
    {
     "name": "stdout",
     "output_type": "stream",
     "text": [
      "\n",
      "Sampler: \n",
      " time before loop:  1.6486756801605225\n",
      "20  loops: 43.786994218826294 \n",
      " average time per loop:  2.1893497586250303\n",
      "Save in Buffer:  0.031083345413208008 \n",
      "\n"
     ]
    },
    {
     "name": "stderr",
     "output_type": "stream",
     "text": [
      "  6%|████▌                                                                      | 306/5000 [2:58:32<61:20:49, 47.05s/it]"
     ]
    },
    {
     "name": "stdout",
     "output_type": "stream",
     "text": [
      "\n",
      "Sampler: \n",
      " time before loop:  1.5552911758422852\n",
      "20  loops: 44.510459661483765 \n",
      " average time per loop:  2.225523030757904\n",
      "Save in Buffer:  0.03273940086364746 \n",
      "\n"
     ]
    },
    {
     "name": "stderr",
     "output_type": "stream",
     "text": [
      "  6%|████▌                                                                      | 307/5000 [2:59:20<61:58:40, 47.54s/it]"
     ]
    },
    {
     "name": "stdout",
     "output_type": "stream",
     "text": [
      "\n",
      "Sampler: \n",
      " time before loop:  1.4138121604919434\n",
      "20  loops: 42.84662890434265 \n",
      " average time per loop:  2.1423314690589903\n",
      "Save in Buffer:  0.037674903869628906 \n",
      "\n"
     ]
    },
    {
     "name": "stderr",
     "output_type": "stream",
     "text": [
      "  6%|████▌                                                                      | 308/5000 [3:00:09<45:44:23, 35.09s/it]\n"
     ]
    },
    {
     "ename": "KeyboardInterrupt",
     "evalue": "",
     "output_type": "error",
     "traceback": [
      "\u001b[0;31m---------------------------------------------------------------------------\u001b[0m",
      "\u001b[0;31mKeyboardInterrupt\u001b[0m                         Traceback (most recent call last)",
      "Cell \u001b[0;32mIn [1], line 47\u001b[0m\n\u001b[1;32m     44\u001b[0m env \u001b[38;5;241m=\u001b[39m ConnectFourSelfPLay()\n\u001b[1;32m     45\u001b[0m best_agent \u001b[38;5;241m=\u001b[39m DQNAgent(env,best_buffer, batch \u001b[38;5;241m=\u001b[39m BATCH_SIZE, model_path \u001b[38;5;241m=\u001b[39m model_path_best, polyak_update \u001b[38;5;241m=\u001b[39m POLYAK, inner_iterations \u001b[38;5;241m=\u001b[39m INNER_ITS, dropout_rate \u001b[38;5;241m=\u001b[39m dropout_rate, normalisation \u001b[38;5;241m=\u001b[39m normalisation)\n\u001b[0;32m---> 47\u001b[0m \u001b[43mtrain_self_play_best\u001b[49m\u001b[43m(\u001b[49m\u001b[43mbest_agent\u001b[49m\u001b[43m,\u001b[49m\u001b[43m \u001b[49m\u001b[43mBATCH_SIZE\u001b[49m\u001b[43m,\u001b[49m\u001b[43m \u001b[49m\u001b[43miterations\u001b[49m\u001b[43m,\u001b[49m\u001b[43m \u001b[49m\u001b[43mbest_train_writer\u001b[49m\u001b[43m,\u001b[49m\u001b[43m \u001b[49m\u001b[43mepsilon\u001b[49m\u001b[38;5;241;43m=\u001b[39;49m\u001b[43m \u001b[49m\u001b[43mepsilon\u001b[49m\u001b[43m,\u001b[49m\u001b[43m \u001b[49m\u001b[43mepsilon_decay\u001b[49m\u001b[43m \u001b[49m\u001b[38;5;241;43m=\u001b[39;49m\u001b[43m \u001b[49m\u001b[43mEPSILON_DECAY\u001b[49m\u001b[43m,\u001b[49m\u001b[43mepsilon_min\u001b[49m\u001b[43m \u001b[49m\u001b[38;5;241;43m=\u001b[39;49m\u001b[43m \u001b[49m\u001b[43mEPSILON_MIN\u001b[49m\u001b[43m,\u001b[49m\u001b[43menv\u001b[49m\u001b[43m \u001b[49m\u001b[38;5;241;43m=\u001b[39;49m\u001b[43m \u001b[49m\u001b[43menv\u001b[49m\u001b[43m)\u001b[49m\n\u001b[1;32m     50\u001b[0m \u001b[38;5;28mprint\u001b[39m(\u001b[38;5;124m\"\u001b[39m\u001b[38;5;124mdone\u001b[39m\u001b[38;5;124m\"\u001b[39m)\n",
      "File \u001b[0;32m~/Uni/tensor/Self-Play_DQN_Project/training.py:27\u001b[0m, in \u001b[0;36mtrain_self_play_best\u001b[0;34m(agent, BATCH_SIZE, iterations, train_writer, epsilon, epsilon_decay, epsilon_min, env)\u001b[0m\n\u001b[1;32m     24\u001b[0m epsilon \u001b[38;5;241m=\u001b[39m epsilon \u001b[38;5;241m*\u001b[39m epsilon_decay \u001b[38;5;28;01mif\u001b[39;00m epsilon \u001b[38;5;241m>\u001b[39m epsilon_min \u001b[38;5;28;01melse\u001b[39;00m epsilon_min\n\u001b[1;32m     26\u001b[0m \u001b[38;5;66;03m# train agent\u001b[39;00m\n\u001b[0;32m---> 27\u001b[0m loss \u001b[38;5;241m=\u001b[39m \u001b[43magent\u001b[49m\u001b[38;5;241;43m.\u001b[39;49m\u001b[43mtrain_inner_iteration\u001b[49m\u001b[43m(\u001b[49m\u001b[43mtrain_writer\u001b[49m\u001b[43m,\u001b[49m\u001b[43mi\u001b[49m\u001b[43m)\u001b[49m\n\u001b[1;32m     28\u001b[0m inner_time_100 \u001b[38;5;241m+\u001b[39m\u001b[38;5;241m=\u001b[39m time\u001b[38;5;241m.\u001b[39mtime() \u001b[38;5;241m-\u001b[39m start\n\u001b[1;32m     30\u001b[0m \u001b[38;5;66;03m# save model\u001b[39;00m\n",
      "File \u001b[0;32m~/Uni/tensor/Self-Play_DQN_Project/agent.py:42\u001b[0m, in \u001b[0;36mDQNAgent.train_inner_iteration\u001b[0;34m(self, summary_writer, i)\u001b[0m\n\u001b[1;32m     37\u001b[0m \u001b[38;5;28;01mfor\u001b[39;00m j \u001b[38;5;129;01min\u001b[39;00m \u001b[38;5;28mrange\u001b[39m(\u001b[38;5;28mself\u001b[39m\u001b[38;5;241m.\u001b[39minner_iterations):\n\u001b[1;32m     38\u001b[0m \n\u001b[1;32m     39\u001b[0m     \u001b[38;5;66;03m# sample random minibatch of transitions\u001b[39;00m\n\u001b[1;32m     40\u001b[0m     minibatch \u001b[38;5;241m=\u001b[39m \u001b[38;5;28mself\u001b[39m\u001b[38;5;241m.\u001b[39mbuffer\u001b[38;5;241m.\u001b[39msample_minibatch(\u001b[38;5;28mself\u001b[39m\u001b[38;5;241m.\u001b[39mbatch)  \u001b[38;5;66;03m#Out:[state, action, reward, next_state, done]\u001b[39;00m\n\u001b[0;32m---> 42\u001b[0m     state \u001b[38;5;241m=\u001b[39m \u001b[43mtf\u001b[49m\u001b[38;5;241;43m.\u001b[39;49m\u001b[43mconvert_to_tensor\u001b[49m\u001b[43m(\u001b[49m\u001b[43m[\u001b[49m\u001b[43msample\u001b[49m\u001b[43m[\u001b[49m\u001b[38;5;241;43m0\u001b[39;49m\u001b[43m]\u001b[49m\u001b[43m \u001b[49m\u001b[38;5;28;43;01mfor\u001b[39;49;00m\u001b[43m \u001b[49m\u001b[43msample\u001b[49m\u001b[43m \u001b[49m\u001b[38;5;129;43;01min\u001b[39;49;00m\u001b[43m \u001b[49m\u001b[43mminibatch\u001b[49m\u001b[43m]\u001b[49m\u001b[43m,\u001b[49m\u001b[43mdtype\u001b[49m\u001b[43m \u001b[49m\u001b[38;5;241;43m=\u001b[39;49m\u001b[43m \u001b[49m\u001b[43mtf\u001b[49m\u001b[38;5;241;43m.\u001b[39;49m\u001b[43mfloat32\u001b[49m\u001b[43m)\u001b[49m\n\u001b[1;32m     43\u001b[0m     actions \u001b[38;5;241m=\u001b[39m tf\u001b[38;5;241m.\u001b[39mconvert_to_tensor([sample[\u001b[38;5;241m1\u001b[39m] \u001b[38;5;28;01mfor\u001b[39;00m sample \u001b[38;5;129;01min\u001b[39;00m minibatch],dtype \u001b[38;5;241m=\u001b[39m tf\u001b[38;5;241m.\u001b[39mfloat32)\n\u001b[1;32m     45\u001b[0m     new_state \u001b[38;5;241m=\u001b[39m tf\u001b[38;5;241m.\u001b[39mconvert_to_tensor([sample[\u001b[38;5;241m3\u001b[39m] \u001b[38;5;28;01mfor\u001b[39;00m sample \u001b[38;5;129;01min\u001b[39;00m minibatch],dtype \u001b[38;5;241m=\u001b[39m tf\u001b[38;5;241m.\u001b[39mfloat32)\n",
      "File \u001b[0;32m~/anaconda3/envs/iannwtf/lib/python3.10/site-packages/tensorflow/python/util/traceback_utils.py:150\u001b[0m, in \u001b[0;36mfilter_traceback.<locals>.error_handler\u001b[0;34m(*args, **kwargs)\u001b[0m\n\u001b[1;32m    148\u001b[0m filtered_tb \u001b[38;5;241m=\u001b[39m \u001b[38;5;28;01mNone\u001b[39;00m\n\u001b[1;32m    149\u001b[0m \u001b[38;5;28;01mtry\u001b[39;00m:\n\u001b[0;32m--> 150\u001b[0m   \u001b[38;5;28;01mreturn\u001b[39;00m \u001b[43mfn\u001b[49m\u001b[43m(\u001b[49m\u001b[38;5;241;43m*\u001b[39;49m\u001b[43margs\u001b[49m\u001b[43m,\u001b[49m\u001b[43m \u001b[49m\u001b[38;5;241;43m*\u001b[39;49m\u001b[38;5;241;43m*\u001b[39;49m\u001b[43mkwargs\u001b[49m\u001b[43m)\u001b[49m\n\u001b[1;32m    151\u001b[0m \u001b[38;5;28;01mexcept\u001b[39;00m \u001b[38;5;167;01mException\u001b[39;00m \u001b[38;5;28;01mas\u001b[39;00m e:\n\u001b[1;32m    152\u001b[0m   filtered_tb \u001b[38;5;241m=\u001b[39m _process_traceback_frames(e\u001b[38;5;241m.\u001b[39m__traceback__)\n",
      "File \u001b[0;32m~/anaconda3/envs/iannwtf/lib/python3.10/site-packages/tensorflow/python/util/dispatch.py:1176\u001b[0m, in \u001b[0;36madd_dispatch_support.<locals>.decorator.<locals>.op_dispatch_handler\u001b[0;34m(*args, **kwargs)\u001b[0m\n\u001b[1;32m   1174\u001b[0m \u001b[38;5;66;03m# Fallback dispatch system (dispatch v1):\u001b[39;00m\n\u001b[1;32m   1175\u001b[0m \u001b[38;5;28;01mtry\u001b[39;00m:\n\u001b[0;32m-> 1176\u001b[0m   \u001b[38;5;28;01mreturn\u001b[39;00m \u001b[43mdispatch_target\u001b[49m\u001b[43m(\u001b[49m\u001b[38;5;241;43m*\u001b[39;49m\u001b[43margs\u001b[49m\u001b[43m,\u001b[49m\u001b[43m \u001b[49m\u001b[38;5;241;43m*\u001b[39;49m\u001b[38;5;241;43m*\u001b[39;49m\u001b[43mkwargs\u001b[49m\u001b[43m)\u001b[49m\n\u001b[1;32m   1177\u001b[0m \u001b[38;5;28;01mexcept\u001b[39;00m (\u001b[38;5;167;01mTypeError\u001b[39;00m, \u001b[38;5;167;01mValueError\u001b[39;00m):\n\u001b[1;32m   1178\u001b[0m   \u001b[38;5;66;03m# Note: convert_to_eager_tensor currently raises a ValueError, not a\u001b[39;00m\n\u001b[1;32m   1179\u001b[0m   \u001b[38;5;66;03m# TypeError, when given unexpected types.  So we need to catch both.\u001b[39;00m\n\u001b[1;32m   1180\u001b[0m   result \u001b[38;5;241m=\u001b[39m dispatch(op_dispatch_handler, args, kwargs)\n",
      "File \u001b[0;32m~/anaconda3/envs/iannwtf/lib/python3.10/site-packages/tensorflow/python/framework/ops.py:1492\u001b[0m, in \u001b[0;36mconvert_to_tensor_v2_with_dispatch\u001b[0;34m(value, dtype, dtype_hint, name)\u001b[0m\n\u001b[1;32m   1428\u001b[0m \u001b[38;5;129m@tf_export\u001b[39m(\u001b[38;5;124m\"\u001b[39m\u001b[38;5;124mconvert_to_tensor\u001b[39m\u001b[38;5;124m\"\u001b[39m, v1\u001b[38;5;241m=\u001b[39m[])\n\u001b[1;32m   1429\u001b[0m \u001b[38;5;129m@dispatch\u001b[39m\u001b[38;5;241m.\u001b[39madd_dispatch_support\n\u001b[1;32m   1430\u001b[0m \u001b[38;5;28;01mdef\u001b[39;00m \u001b[38;5;21mconvert_to_tensor_v2_with_dispatch\u001b[39m(\n\u001b[1;32m   1431\u001b[0m     value, dtype\u001b[38;5;241m=\u001b[39m\u001b[38;5;28;01mNone\u001b[39;00m, dtype_hint\u001b[38;5;241m=\u001b[39m\u001b[38;5;28;01mNone\u001b[39;00m, name\u001b[38;5;241m=\u001b[39m\u001b[38;5;28;01mNone\u001b[39;00m):\n\u001b[1;32m   1432\u001b[0m   \u001b[38;5;124;03m\"\"\"Converts the given `value` to a `Tensor`.\u001b[39;00m\n\u001b[1;32m   1433\u001b[0m \n\u001b[1;32m   1434\u001b[0m \u001b[38;5;124;03m  This function converts Python objects of various types to `Tensor`\u001b[39;00m\n\u001b[0;32m   (...)\u001b[0m\n\u001b[1;32m   1490\u001b[0m \u001b[38;5;124;03m    ValueError: If the `value` is a tensor not of given `dtype` in graph mode.\u001b[39;00m\n\u001b[1;32m   1491\u001b[0m \u001b[38;5;124;03m  \"\"\"\u001b[39;00m\n\u001b[0;32m-> 1492\u001b[0m   \u001b[38;5;28;01mreturn\u001b[39;00m \u001b[43mconvert_to_tensor_v2\u001b[49m\u001b[43m(\u001b[49m\n\u001b[1;32m   1493\u001b[0m \u001b[43m      \u001b[49m\u001b[43mvalue\u001b[49m\u001b[43m,\u001b[49m\u001b[43m \u001b[49m\u001b[43mdtype\u001b[49m\u001b[38;5;241;43m=\u001b[39;49m\u001b[43mdtype\u001b[49m\u001b[43m,\u001b[49m\u001b[43m \u001b[49m\u001b[43mdtype_hint\u001b[49m\u001b[38;5;241;43m=\u001b[39;49m\u001b[43mdtype_hint\u001b[49m\u001b[43m,\u001b[49m\u001b[43m \u001b[49m\u001b[43mname\u001b[49m\u001b[38;5;241;43m=\u001b[39;49m\u001b[43mname\u001b[49m\u001b[43m)\u001b[49m\n",
      "File \u001b[0;32m~/anaconda3/envs/iannwtf/lib/python3.10/site-packages/tensorflow/python/framework/ops.py:1498\u001b[0m, in \u001b[0;36mconvert_to_tensor_v2\u001b[0;34m(value, dtype, dtype_hint, name)\u001b[0m\n\u001b[1;32m   1496\u001b[0m \u001b[38;5;28;01mdef\u001b[39;00m \u001b[38;5;21mconvert_to_tensor_v2\u001b[39m(value, dtype\u001b[38;5;241m=\u001b[39m\u001b[38;5;28;01mNone\u001b[39;00m, dtype_hint\u001b[38;5;241m=\u001b[39m\u001b[38;5;28;01mNone\u001b[39;00m, name\u001b[38;5;241m=\u001b[39m\u001b[38;5;28;01mNone\u001b[39;00m):\n\u001b[1;32m   1497\u001b[0m   \u001b[38;5;124;03m\"\"\"Converts the given `value` to a `Tensor`.\"\"\"\u001b[39;00m\n\u001b[0;32m-> 1498\u001b[0m   \u001b[38;5;28;01mreturn\u001b[39;00m \u001b[43mconvert_to_tensor\u001b[49m\u001b[43m(\u001b[49m\n\u001b[1;32m   1499\u001b[0m \u001b[43m      \u001b[49m\u001b[43mvalue\u001b[49m\u001b[38;5;241;43m=\u001b[39;49m\u001b[43mvalue\u001b[49m\u001b[43m,\u001b[49m\n\u001b[1;32m   1500\u001b[0m \u001b[43m      \u001b[49m\u001b[43mdtype\u001b[49m\u001b[38;5;241;43m=\u001b[39;49m\u001b[43mdtype\u001b[49m\u001b[43m,\u001b[49m\n\u001b[1;32m   1501\u001b[0m \u001b[43m      \u001b[49m\u001b[43mname\u001b[49m\u001b[38;5;241;43m=\u001b[39;49m\u001b[43mname\u001b[49m\u001b[43m,\u001b[49m\n\u001b[1;32m   1502\u001b[0m \u001b[43m      \u001b[49m\u001b[43mpreferred_dtype\u001b[49m\u001b[38;5;241;43m=\u001b[39;49m\u001b[43mdtype_hint\u001b[49m\u001b[43m,\u001b[49m\n\u001b[1;32m   1503\u001b[0m \u001b[43m      \u001b[49m\u001b[43mas_ref\u001b[49m\u001b[38;5;241;43m=\u001b[39;49m\u001b[38;5;28;43;01mFalse\u001b[39;49;00m\u001b[43m)\u001b[49m\n",
      "File \u001b[0;32m~/anaconda3/envs/iannwtf/lib/python3.10/site-packages/tensorflow/python/profiler/trace.py:183\u001b[0m, in \u001b[0;36mtrace_wrapper.<locals>.inner_wrapper.<locals>.wrapped\u001b[0;34m(*args, **kwargs)\u001b[0m\n\u001b[1;32m    181\u001b[0m   \u001b[38;5;28;01mwith\u001b[39;00m Trace(trace_name, \u001b[38;5;241m*\u001b[39m\u001b[38;5;241m*\u001b[39mtrace_kwargs):\n\u001b[1;32m    182\u001b[0m     \u001b[38;5;28;01mreturn\u001b[39;00m func(\u001b[38;5;241m*\u001b[39margs, \u001b[38;5;241m*\u001b[39m\u001b[38;5;241m*\u001b[39mkwargs)\n\u001b[0;32m--> 183\u001b[0m \u001b[38;5;28;01mreturn\u001b[39;00m \u001b[43mfunc\u001b[49m\u001b[43m(\u001b[49m\u001b[38;5;241;43m*\u001b[39;49m\u001b[43margs\u001b[49m\u001b[43m,\u001b[49m\u001b[43m \u001b[49m\u001b[38;5;241;43m*\u001b[39;49m\u001b[38;5;241;43m*\u001b[39;49m\u001b[43mkwargs\u001b[49m\u001b[43m)\u001b[49m\n",
      "File \u001b[0;32m~/anaconda3/envs/iannwtf/lib/python3.10/site-packages/tensorflow/python/framework/ops.py:1638\u001b[0m, in \u001b[0;36mconvert_to_tensor\u001b[0;34m(value, dtype, name, as_ref, preferred_dtype, dtype_hint, ctx, accepted_result_types)\u001b[0m\n\u001b[1;32m   1629\u001b[0m       \u001b[38;5;28;01mraise\u001b[39;00m \u001b[38;5;167;01mRuntimeError\u001b[39;00m(\n\u001b[1;32m   1630\u001b[0m           _add_error_prefix(\n\u001b[1;32m   1631\u001b[0m               \u001b[38;5;124mf\u001b[39m\u001b[38;5;124m\"\u001b[39m\u001b[38;5;124mConversion function \u001b[39m\u001b[38;5;132;01m{\u001b[39;00mconversion_func\u001b[38;5;132;01m!r}\u001b[39;00m\u001b[38;5;124m for type \u001b[39m\u001b[38;5;124m\"\u001b[39m\n\u001b[0;32m   (...)\u001b[0m\n\u001b[1;32m   1634\u001b[0m               \u001b[38;5;124mf\u001b[39m\u001b[38;5;124m\"\u001b[39m\u001b[38;5;124mactual = \u001b[39m\u001b[38;5;132;01m{\u001b[39;00mret\u001b[38;5;241m.\u001b[39mdtype\u001b[38;5;241m.\u001b[39mbase_dtype\u001b[38;5;241m.\u001b[39mname\u001b[38;5;132;01m}\u001b[39;00m\u001b[38;5;124m\"\u001b[39m,\n\u001b[1;32m   1635\u001b[0m               name\u001b[38;5;241m=\u001b[39mname))\n\u001b[1;32m   1637\u001b[0m \u001b[38;5;28;01mif\u001b[39;00m ret \u001b[38;5;129;01mis\u001b[39;00m \u001b[38;5;28;01mNone\u001b[39;00m:\n\u001b[0;32m-> 1638\u001b[0m   ret \u001b[38;5;241m=\u001b[39m \u001b[43mconversion_func\u001b[49m\u001b[43m(\u001b[49m\u001b[43mvalue\u001b[49m\u001b[43m,\u001b[49m\u001b[43m \u001b[49m\u001b[43mdtype\u001b[49m\u001b[38;5;241;43m=\u001b[39;49m\u001b[43mdtype\u001b[49m\u001b[43m,\u001b[49m\u001b[43m \u001b[49m\u001b[43mname\u001b[49m\u001b[38;5;241;43m=\u001b[39;49m\u001b[43mname\u001b[49m\u001b[43m,\u001b[49m\u001b[43m \u001b[49m\u001b[43mas_ref\u001b[49m\u001b[38;5;241;43m=\u001b[39;49m\u001b[43mas_ref\u001b[49m\u001b[43m)\u001b[49m\n\u001b[1;32m   1640\u001b[0m \u001b[38;5;28;01mif\u001b[39;00m ret \u001b[38;5;129;01mis\u001b[39;00m \u001b[38;5;28mNotImplemented\u001b[39m:\n\u001b[1;32m   1641\u001b[0m   \u001b[38;5;28;01mcontinue\u001b[39;00m\n",
      "File \u001b[0;32m~/anaconda3/envs/iannwtf/lib/python3.10/site-packages/tensorflow/python/framework/constant_op.py:343\u001b[0m, in \u001b[0;36m_constant_tensor_conversion_function\u001b[0;34m(v, dtype, name, as_ref)\u001b[0m\n\u001b[1;32m    340\u001b[0m \u001b[38;5;28;01mdef\u001b[39;00m \u001b[38;5;21m_constant_tensor_conversion_function\u001b[39m(v, dtype\u001b[38;5;241m=\u001b[39m\u001b[38;5;28;01mNone\u001b[39;00m, name\u001b[38;5;241m=\u001b[39m\u001b[38;5;28;01mNone\u001b[39;00m,\n\u001b[1;32m    341\u001b[0m                                          as_ref\u001b[38;5;241m=\u001b[39m\u001b[38;5;28;01mFalse\u001b[39;00m):\n\u001b[1;32m    342\u001b[0m   _ \u001b[38;5;241m=\u001b[39m as_ref\n\u001b[0;32m--> 343\u001b[0m   \u001b[38;5;28;01mreturn\u001b[39;00m \u001b[43mconstant\u001b[49m\u001b[43m(\u001b[49m\u001b[43mv\u001b[49m\u001b[43m,\u001b[49m\u001b[43m \u001b[49m\u001b[43mdtype\u001b[49m\u001b[38;5;241;43m=\u001b[39;49m\u001b[43mdtype\u001b[49m\u001b[43m,\u001b[49m\u001b[43m \u001b[49m\u001b[43mname\u001b[49m\u001b[38;5;241;43m=\u001b[39;49m\u001b[43mname\u001b[49m\u001b[43m)\u001b[49m\n",
      "File \u001b[0;32m~/anaconda3/envs/iannwtf/lib/python3.10/site-packages/tensorflow/python/framework/constant_op.py:267\u001b[0m, in \u001b[0;36mconstant\u001b[0;34m(value, dtype, shape, name)\u001b[0m\n\u001b[1;32m    170\u001b[0m \u001b[38;5;129m@tf_export\u001b[39m(\u001b[38;5;124m\"\u001b[39m\u001b[38;5;124mconstant\u001b[39m\u001b[38;5;124m\"\u001b[39m, v1\u001b[38;5;241m=\u001b[39m[])\n\u001b[1;32m    171\u001b[0m \u001b[38;5;28;01mdef\u001b[39;00m \u001b[38;5;21mconstant\u001b[39m(value, dtype\u001b[38;5;241m=\u001b[39m\u001b[38;5;28;01mNone\u001b[39;00m, shape\u001b[38;5;241m=\u001b[39m\u001b[38;5;28;01mNone\u001b[39;00m, name\u001b[38;5;241m=\u001b[39m\u001b[38;5;124m\"\u001b[39m\u001b[38;5;124mConst\u001b[39m\u001b[38;5;124m\"\u001b[39m):\n\u001b[1;32m    172\u001b[0m   \u001b[38;5;124;03m\"\"\"Creates a constant tensor from a tensor-like object.\u001b[39;00m\n\u001b[1;32m    173\u001b[0m \n\u001b[1;32m    174\u001b[0m \u001b[38;5;124;03m  Note: All eager `tf.Tensor` values are immutable (in contrast to\u001b[39;00m\n\u001b[0;32m   (...)\u001b[0m\n\u001b[1;32m    265\u001b[0m \u001b[38;5;124;03m    ValueError: if called on a symbolic tensor.\u001b[39;00m\n\u001b[1;32m    266\u001b[0m \u001b[38;5;124;03m  \"\"\"\u001b[39;00m\n\u001b[0;32m--> 267\u001b[0m   \u001b[38;5;28;01mreturn\u001b[39;00m \u001b[43m_constant_impl\u001b[49m\u001b[43m(\u001b[49m\u001b[43mvalue\u001b[49m\u001b[43m,\u001b[49m\u001b[43m \u001b[49m\u001b[43mdtype\u001b[49m\u001b[43m,\u001b[49m\u001b[43m \u001b[49m\u001b[43mshape\u001b[49m\u001b[43m,\u001b[49m\u001b[43m \u001b[49m\u001b[43mname\u001b[49m\u001b[43m,\u001b[49m\u001b[43m \u001b[49m\u001b[43mverify_shape\u001b[49m\u001b[38;5;241;43m=\u001b[39;49m\u001b[38;5;28;43;01mFalse\u001b[39;49;00m\u001b[43m,\u001b[49m\n\u001b[1;32m    268\u001b[0m \u001b[43m                        \u001b[49m\u001b[43mallow_broadcast\u001b[49m\u001b[38;5;241;43m=\u001b[39;49m\u001b[38;5;28;43;01mTrue\u001b[39;49;00m\u001b[43m)\u001b[49m\n",
      "File \u001b[0;32m~/anaconda3/envs/iannwtf/lib/python3.10/site-packages/tensorflow/python/framework/constant_op.py:279\u001b[0m, in \u001b[0;36m_constant_impl\u001b[0;34m(value, dtype, shape, name, verify_shape, allow_broadcast)\u001b[0m\n\u001b[1;32m    277\u001b[0m     \u001b[38;5;28;01mwith\u001b[39;00m trace\u001b[38;5;241m.\u001b[39mTrace(\u001b[38;5;124m\"\u001b[39m\u001b[38;5;124mtf.constant\u001b[39m\u001b[38;5;124m\"\u001b[39m):\n\u001b[1;32m    278\u001b[0m       \u001b[38;5;28;01mreturn\u001b[39;00m _constant_eager_impl(ctx, value, dtype, shape, verify_shape)\n\u001b[0;32m--> 279\u001b[0m   \u001b[38;5;28;01mreturn\u001b[39;00m \u001b[43m_constant_eager_impl\u001b[49m\u001b[43m(\u001b[49m\u001b[43mctx\u001b[49m\u001b[43m,\u001b[49m\u001b[43m \u001b[49m\u001b[43mvalue\u001b[49m\u001b[43m,\u001b[49m\u001b[43m \u001b[49m\u001b[43mdtype\u001b[49m\u001b[43m,\u001b[49m\u001b[43m \u001b[49m\u001b[43mshape\u001b[49m\u001b[43m,\u001b[49m\u001b[43m \u001b[49m\u001b[43mverify_shape\u001b[49m\u001b[43m)\u001b[49m\n\u001b[1;32m    281\u001b[0m g \u001b[38;5;241m=\u001b[39m ops\u001b[38;5;241m.\u001b[39mget_default_graph()\n\u001b[1;32m    282\u001b[0m tensor_value \u001b[38;5;241m=\u001b[39m attr_value_pb2\u001b[38;5;241m.\u001b[39mAttrValue()\n",
      "File \u001b[0;32m~/anaconda3/envs/iannwtf/lib/python3.10/site-packages/tensorflow/python/framework/constant_op.py:304\u001b[0m, in \u001b[0;36m_constant_eager_impl\u001b[0;34m(ctx, value, dtype, shape, verify_shape)\u001b[0m\n\u001b[1;32m    302\u001b[0m \u001b[38;5;28;01mdef\u001b[39;00m \u001b[38;5;21m_constant_eager_impl\u001b[39m(ctx, value, dtype, shape, verify_shape):\n\u001b[1;32m    303\u001b[0m   \u001b[38;5;124;03m\"\"\"Creates a constant on the current device.\"\"\"\u001b[39;00m\n\u001b[0;32m--> 304\u001b[0m   t \u001b[38;5;241m=\u001b[39m \u001b[43mconvert_to_eager_tensor\u001b[49m\u001b[43m(\u001b[49m\u001b[43mvalue\u001b[49m\u001b[43m,\u001b[49m\u001b[43m \u001b[49m\u001b[43mctx\u001b[49m\u001b[43m,\u001b[49m\u001b[43m \u001b[49m\u001b[43mdtype\u001b[49m\u001b[43m)\u001b[49m\n\u001b[1;32m    305\u001b[0m   \u001b[38;5;28;01mif\u001b[39;00m shape \u001b[38;5;129;01mis\u001b[39;00m \u001b[38;5;28;01mNone\u001b[39;00m:\n\u001b[1;32m    306\u001b[0m     \u001b[38;5;28;01mreturn\u001b[39;00m t\n",
      "File \u001b[0;32m~/anaconda3/envs/iannwtf/lib/python3.10/site-packages/tensorflow/python/framework/constant_op.py:102\u001b[0m, in \u001b[0;36mconvert_to_eager_tensor\u001b[0;34m(value, ctx, dtype)\u001b[0m\n\u001b[1;32m    100\u001b[0m     dtype \u001b[38;5;241m=\u001b[39m dtypes\u001b[38;5;241m.\u001b[39mas_dtype(dtype)\u001b[38;5;241m.\u001b[39mas_datatype_enum\n\u001b[1;32m    101\u001b[0m ctx\u001b[38;5;241m.\u001b[39mensure_initialized()\n\u001b[0;32m--> 102\u001b[0m \u001b[38;5;28;01mreturn\u001b[39;00m \u001b[43mops\u001b[49m\u001b[38;5;241;43m.\u001b[39;49m\u001b[43mEagerTensor\u001b[49m\u001b[43m(\u001b[49m\u001b[43mvalue\u001b[49m\u001b[43m,\u001b[49m\u001b[43m \u001b[49m\u001b[43mctx\u001b[49m\u001b[38;5;241;43m.\u001b[39;49m\u001b[43mdevice_name\u001b[49m\u001b[43m,\u001b[49m\u001b[43m \u001b[49m\u001b[43mdtype\u001b[49m\u001b[43m)\u001b[49m\n",
      "\u001b[0;31mKeyboardInterrupt\u001b[0m: "
     ]
    }
   ],
   "source": [
    "from env_wrapper import ConnectFourSelfPLay\n",
    "\n",
    "import numpy as np\n",
    "import datetime\n",
    "import tensorflow as tf\n",
    "import random as rnd\n",
    "\n",
    "\n",
    "from agent import DQNAgent\n",
    "from buffer import Buffer\n",
    "from training import train_self_play_best\n",
    "\n",
    "# seeds\n",
    "seed = 42\n",
    "np.random.seed(seed)\n",
    "rnd.seed(seed)\n",
    "\n",
    "#Subfolder for Logs\n",
    "config_name = \"test\"\n",
    "#createsummary writer for vusalization in tensorboard    \n",
    "time_string = datetime.datetime.now().strftime(\"%Y%m%d-%H%M%S\")\n",
    "# time_string = \"\"\n",
    "\n",
    "best_train_path = f\"logs/{config_name}/{time_string}/best_train\"\n",
    "best_train_writer = tf.summary.create_file_writer(best_train_path)\n",
    "model_path_best = f\"model/{config_name}/{time_string}/best\"\n",
    "\n",
    "# Hyperparameter\n",
    "iterations = 5000\n",
    "INNER_ITS = 50\n",
    "BATCH_SIZE = 512\n",
    "#reward_function_adapting_agent = lambda d,r: tf.where(d, tf.where(r==0.0,tf.constant(1.0),tf.constant(0.0)), r)\n",
    "epsilon = 1\n",
    "EPSILON_MIN = 0.01\n",
    "EPSILON_DECAY = 0.995\n",
    "POLYAK = 0.9\n",
    "dropout_rate = 0.2, \n",
    "normalisation = True\n",
    "\n",
    "# create buffer\n",
    "best_buffer = Buffer(capacity = 100000,min_size = 5000)\n",
    "\n",
    "# create agent\n",
    "env = ConnectFourSelfPLay()\n",
    "best_agent = DQNAgent(env,best_buffer, batch = BATCH_SIZE, model_path = model_path_best, polyak_update = POLYAK, inner_iterations = INNER_ITS, dropout_rate = dropout_rate, normalisation = normalisation)\n",
    "\n",
    "train_self_play_best(best_agent, BATCH_SIZE, iterations, best_train_writer, epsilon= epsilon, epsilon_decay = EPSILON_DECAY,epsilon_min = EPSILON_MIN,env = env)\n",
    "\n",
    "\n",
    "print(\"done\")\n"
   ]
  },
  {
   "cell_type": "code",
   "execution_count": 2,
   "id": "de6ae4f6-ea35-4e86-bcf1-a928da5c537d",
   "metadata": {},
   "outputs": [
    {
     "data": {
      "text/html": [
       "\n",
       "      <iframe id=\"tensorboard-frame-69b20a83471994c9\" width=\"100%\" height=\"800\" frameborder=\"0\">\n",
       "      </iframe>\n",
       "      <script>\n",
       "        (function() {\n",
       "          const frame = document.getElementById(\"tensorboard-frame-69b20a83471994c9\");\n",
       "          const url = new URL(\"/\", window.location);\n",
       "          const port = 6007;\n",
       "          if (port) {\n",
       "            url.port = port;\n",
       "          }\n",
       "          frame.src = url;\n",
       "        })();\n",
       "      </script>\n",
       "    "
      ],
      "text/plain": [
       "<IPython.core.display.HTML object>"
      ]
     },
     "metadata": {},
     "output_type": "display_data"
    }
   ],
   "source": [
    "%load_ext tensorboard\n",
    "%tensorboard --logdir=\"logs/test_agent/20230311-170048\""
   ]
  },
  {
   "cell_type": "code",
   "execution_count": null,
   "id": "1933412d-74cc-4683-853b-3c2ce3b2fafa",
   "metadata": {},
   "outputs": [],
   "source": []
  }
 ],
 "metadata": {
  "kernelspec": {
   "display_name": "Python 3 (ipykernel)",
   "language": "python",
   "name": "python3"
  },
  "language_info": {
   "codemirror_mode": {
    "name": "ipython",
    "version": 3
   },
   "file_extension": ".py",
   "mimetype": "text/x-python",
   "name": "python",
   "nbconvert_exporter": "python",
   "pygments_lexer": "ipython3",
   "version": "3.10.8"
  }
 },
 "nbformat": 4,
 "nbformat_minor": 5
}
