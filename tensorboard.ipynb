{
 "cells": [
  {
   "cell_type": "code",
   "execution_count": 1,
   "id": "8c9a9f4b-1b81-423f-a9c0-8e1c02f705b7",
   "metadata": {},
   "outputs": [
    {
     "name": "stderr",
     "output_type": "stream",
     "text": [
      "2023-03-27 15:01:05.623773: I tensorflow/core/platform/cpu_feature_guard.cc:193] This TensorFlow binary is optimized with oneAPI Deep Neural Network Library (oneDNN) to use the following CPU instructions in performance-critical operations:  AVX2 FMA\n",
      "To enable them in other operations, rebuild TensorFlow with the appropriate compiler flags.\n",
      "2023-03-27 15:01:05.817273: E tensorflow/stream_executor/cuda/cuda_blas.cc:2981] Unable to register cuBLAS factory: Attempting to register factory for plugin cuBLAS when one has already been registered\n",
      "2023-03-27 15:01:06.433393: W tensorflow/stream_executor/platform/default/dso_loader.cc:64] Could not load dynamic library 'libnvinfer.so.7'; dlerror: libnvinfer.so.7: cannot open shared object file: No such file or directory; LD_LIBRARY_PATH: :/home/fkirsch/miniconda3/envs/tensor/lib/\n",
      "2023-03-27 15:01:06.433492: W tensorflow/stream_executor/platform/default/dso_loader.cc:64] Could not load dynamic library 'libnvinfer_plugin.so.7'; dlerror: libnvinfer_plugin.so.7: cannot open shared object file: No such file or directory; LD_LIBRARY_PATH: :/home/fkirsch/miniconda3/envs/tensor/lib/\n",
      "2023-03-27 15:01:06.433500: W tensorflow/compiler/tf2tensorrt/utils/py_utils.cc:38] TF-TRT Warning: Cannot dlopen some TensorRT libraries. If you would like to use Nvidia GPU with TensorRT, please make sure the missing libraries mentioned above are installed properly.\n"
     ]
    }
   ],
   "source": [
    "import tensorflow as tf"
   ]
  },
  {
   "cell_type": "code",
   "execution_count": 2,
   "id": "fd896e21-c21c-4dd3-a1c4-0322a0a6988f",
   "metadata": {},
   "outputs": [
    {
     "data": {
      "text/html": [
       "\n",
       "      <iframe id=\"tensorboard-frame-a319665ea445eae4\" width=\"100%\" height=\"800\" frameborder=\"0\">\n",
       "      </iframe>\n",
       "      <script>\n",
       "        (function() {\n",
       "          const frame = document.getElementById(\"tensorboard-frame-a319665ea445eae4\");\n",
       "          const url = new URL(\"/\", window.location);\n",
       "          const port = 6008;\n",
       "          if (port) {\n",
       "            url.port = port;\n",
       "          }\n",
       "          frame.src = url;\n",
       "        })();\n",
       "      </script>\n",
       "    "
      ],
      "text/plain": [
       "<IPython.core.display.HTML object>"
      ]
     },
     "metadata": {},
     "output_type": "display_data"
    }
   ],
   "source": [
    "%load_ext tensorboard\n",
    "%tensorboard --logdir=\"logs/test/20230327-133812\""
   ]
  },
  {
   "cell_type": "code",
   "execution_count": 1,
   "id": "8f3778db-ee85-4a4d-b415-27a2e91e2732",
   "metadata": {},
   "outputs": [
    {
     "name": "stderr",
     "output_type": "stream",
     "text": [
      "2023-03-27 15:14:56.268592: I tensorflow/core/platform/cpu_feature_guard.cc:193] This TensorFlow binary is optimized with oneAPI Deep Neural Network Library (oneDNN) to use the following CPU instructions in performance-critical operations:  AVX2 FMA\n",
      "To enable them in other operations, rebuild TensorFlow with the appropriate compiler flags.\n",
      "2023-03-27 15:14:56.447567: E tensorflow/stream_executor/cuda/cuda_blas.cc:2981] Unable to register cuBLAS factory: Attempting to register factory for plugin cuBLAS when one has already been registered\n",
      "2023-03-27 15:14:57.043553: W tensorflow/stream_executor/platform/default/dso_loader.cc:64] Could not load dynamic library 'libnvinfer.so.7'; dlerror: libnvinfer.so.7: cannot open shared object file: No such file or directory; LD_LIBRARY_PATH: :/home/fkirsch/miniconda3/envs/tensor/lib/\n",
      "2023-03-27 15:14:57.043691: W tensorflow/stream_executor/platform/default/dso_loader.cc:64] Could not load dynamic library 'libnvinfer_plugin.so.7'; dlerror: libnvinfer_plugin.so.7: cannot open shared object file: No such file or directory; LD_LIBRARY_PATH: :/home/fkirsch/miniconda3/envs/tensor/lib/\n",
      "2023-03-27 15:14:57.043700: W tensorflow/compiler/tf2tensorrt/utils/py_utils.cc:38] TF-TRT Warning: Cannot dlopen some TensorRT libraries. If you would like to use Nvidia GPU with TensorRT, please make sure the missing libraries mentioned above are installed properly.\n",
      "2023-03-27 15:14:57.788411: W tensorflow/stream_executor/platform/default/dso_loader.cc:64] Could not load dynamic library 'libcuda.so.1'; dlerror: libcuda.so.1: cannot open shared object file: No such file or directory; LD_LIBRARY_PATH: :/home/fkirsch/miniconda3/envs/tensor/lib/\n",
      "2023-03-27 15:14:57.788484: W tensorflow/stream_executor/cuda/cuda_driver.cc:263] failed call to cuInit: UNKNOWN ERROR (303)\n",
      "2023-03-27 15:14:57.788505: I tensorflow/stream_executor/cuda/cuda_diagnostics.cc:156] kernel driver does not appear to be running on this host (DESKTOP-0B8HQDM): /proc/driver/nvidia/version does not exist\n",
      "2023-03-27 15:14:57.788742: I tensorflow/core/platform/cpu_feature_guard.cc:193] This TensorFlow binary is optimized with oneAPI Deep Neural Network Library (oneDNN) to use the following CPU instructions in performance-critical operations:  AVX2 FMA\n",
      "To enable them in other operations, rebuild TensorFlow with the appropriate compiler flags.\n"
     ]
    }
   ],
   "source": [
    "from env_wrapper2 import SelfPLayWrapper\n",
    "\n",
    "# decide env\n",
    "from tiktaktoe_env import TikTakToeEnv as GameEnv\n",
    "\n",
    "import numpy as np\n",
    "import datetime\n",
    "import tensorflow as tf\n",
    "import random as rnd\n",
    "\n",
    "\n",
    "from agent import DQNAgent\n",
    "from buffer import Buffer\n",
    "from training import train_self_play_best\n",
    "\n",
    "# seeds\n",
    "seed = 42\n",
    "#np.random.seed(seed)\n",
    "#rnd.seed(seed) # otherwise always the same player starts\n",
    "#tf.random.set_seed(seed)\n",
    "\n",
    "#Subfolder from model\n",
    "config_name = \"test\"\n",
    "time_string = \"20230327-133812\"\n",
    "\n",
    "model_path_best = f\"model/{config_name}/{time_string}/best\"\n",
    "\n",
    "# Hyperparameter\n",
    "iterations = 10001\n",
    "INNER_ITS = 50 *2\n",
    "BATCH_SIZE = 256 #512\n",
    "#reward_function_adapting_agent = lambda d,r: tf.where(r==-0.1, tf.constant(0.1), tf.where(r==0.0,tf.constant(1.0),tf.where(r==1.0,tf.constant(-1.0), r)))\n",
    "epsilon = 1\n",
    "EPSILON_MIN = 0.01\n",
    "EPSILON_DECAY = 0.995\n",
    "POLYAK = 0.9\n",
    "dropout_rate = 0\n",
    "normalisation = True\n",
    "BATCH_SIZE_SAMPLING = 512\n",
    "SAMPLING = 2\n",
    "AGENT_NUMBER = 2 # how many agents will play against each other while training\n",
    "discount_factor_gamma = tf.constant(0.7)\n",
    "unavailable_action_reward = False\n",
    "\n",
    "# playing hyperparameter\n",
    "index = 750\n",
    "\n",
    "agents = []\n",
    "train_writer = []\n",
    "test_writer = []\n",
    "env = SelfPLayWrapper(GameEnv)\n",
    "\n",
    "agent = 1\n",
    "\n",
    "best_train_path = f\"logs/{config_name}/{time_string}/best_train{agent}\"\n",
    "train_writer.append(tf.summary.create_file_writer(best_train_path))\n",
    "\n",
    "best_test_path = f\"logs/{config_name}/{time_string}/best_test{agent}\"\n",
    "test_writer.append(tf.summary.create_file_writer(best_test_path))\n",
    "\n",
    "model_path_best = f\"model/{config_name}/{time_string}/best{agent}\"\n",
    "\n",
    "# create buffer\n",
    "best_buffer = Buffer(capacity = 100000,min_size = 5000)\n",
    "\n",
    "# create agent\n",
    "agents.append(DQNAgent(env,\n",
    "                       best_buffer, \n",
    "                       batch = BATCH_SIZE, \n",
    "                       model_path = model_path_best, \n",
    "                       polyak_update = POLYAK, \n",
    "                       inner_iterations = INNER_ITS, \n",
    "                       dropout_rate = dropout_rate, \n",
    "                       normalisation = normalisation, \n",
    "                       gamma = discount_factor_gamma))\n",
    "    \n",
    "agents[0].load_models(index)\n",
    "env.set_opponent(agents[0])\n",
    "\n"
   ]
  },
  {
   "cell_type": "code",
   "execution_count": null,
   "id": "7c9f9be5-2661-429b-bd1b-273dfe2a9df2",
   "metadata": {},
   "outputs": [
    {
     "name": "stdout",
     "output_type": "stream",
     "text": [
      "Start Player  1\n",
      "Model results: \n",
      " [[-1. -1. -1.]\n",
      " [-1. -1. -1.]\n",
      " [-1. -1. -1.]]\n",
      " Game                  Actions \n",
      "+---+---+---+     +---+---+---+\n",
      "| ○ |   |   |     | 0 | 1 | 2 |\n",
      "+---+---+---+     +---+---+---+\n",
      "|   |   |   |     | 3 | 4 | 5 |\n",
      "+---+---+---+     +---+---+---+\n",
      "|   |   |   |     | 6 | 7 | 8 |\n",
      "+---+---+---+     +---+---+---+\n",
      "\n",
      "Your turn \n"
     ]
    },
    {
     "name": "stdin",
     "output_type": "stream",
     "text": [
      " 2\n"
     ]
    },
    {
     "name": "stdout",
     "output_type": "stream",
     "text": [
      "Model results: \n",
      " [[-1. -1. -1.]\n",
      " [-1. -1. -1.]\n",
      " [-1. -1. -1.]]\n",
      " Game                  Actions \n",
      "+---+---+---+     +---+---+---+\n",
      "| ○ | ○ | ● |     | 0 | 1 | 2 |\n",
      "+---+---+---+     +---+---+---+\n",
      "|   |   |   |     | 3 | 4 | 5 |\n",
      "+---+---+---+     +---+---+---+\n",
      "|   |   |   |     | 6 | 7 | 8 |\n",
      "+---+---+---+     +---+---+---+\n",
      "\n",
      "Your turn \n"
     ]
    },
    {
     "name": "stdin",
     "output_type": "stream",
     "text": [
      " 5\n"
     ]
    },
    {
     "name": "stdout",
     "output_type": "stream",
     "text": [
      "Model results: \n",
      " [[-1. -1. -1.]\n",
      " [-1. -1. -1.]\n",
      " [-1. -1. -1.]]\n",
      " Game                  Actions \n",
      "+---+---+---+     +---+---+---+\n",
      "| ○ | ○ | ● |     | 0 | 1 | 2 |\n",
      "+---+---+---+     +---+---+---+\n",
      "| ○ |   | ● |     | 3 | 4 | 5 |\n",
      "+---+---+---+     +---+---+---+\n",
      "|   |   |   |     | 6 | 7 | 8 |\n",
      "+---+---+---+     +---+---+---+\n",
      "\n",
      "Your turn \n"
     ]
    },
    {
     "name": "stdin",
     "output_type": "stream",
     "text": [
      " 7\n"
     ]
    },
    {
     "name": "stdout",
     "output_type": "stream",
     "text": [
      "Model results: \n",
      " [[-1. -1. -1.]\n",
      " [-1. -1. -1.]\n",
      " [-1. -1. -1.]]\n",
      " Game                  Actions \n",
      "+---+---+---+     +---+---+---+\n",
      "| ○ | ○ | ● |     | 0 | 1 | 2 |\n",
      "+---+---+---+     +---+---+---+\n",
      "| ○ | ○ | ● |     | 3 | 4 | 5 |\n",
      "+---+---+---+     +---+---+---+\n",
      "|   | ● |   |     | 6 | 7 | 8 |\n",
      "+---+---+---+     +---+---+---+\n",
      "\n",
      "Your turn \n"
     ]
    }
   ],
   "source": [
    "env.reset()\n",
    "\n",
    "player = 1 # rnd.randint(0,1) \n",
    "done=False\n",
    "\n",
    "print(\"Start Player \", player)\n",
    "if player: # if opponent starts\n",
    "    env.opponent_starts()\n",
    "env.render()\n",
    "\n",
    "while(True):\n",
    "\n",
    "    print(\"Your turn \")\n",
    "\n",
    "    # choose action\n",
    "    input_action = int(input())\n",
    "    while(input_action not in env.available_actions):\n",
    "        print(\"This action is not valid. Please try again. \")\n",
    "        input_action = int(input())\n",
    "    \n",
    "    # do step, opponent is done automatically inside\n",
    "    state, r, done = env.step(input_action)\n",
    "    env.render()\n",
    "    \n",
    "    if(done):\n",
    "        end = \"won\" if r==1 else \"lost\"\n",
    "        print(\"You \", end) if r != 0 else print(\"Draw\")\n",
    "        break\n",
    "\n",
    "    player = int(not player)"
   ]
  },
  {
   "cell_type": "code",
   "execution_count": null,
   "id": "aa98144a-a9a4-47c7-aa54-5e12b88a7652",
   "metadata": {},
   "outputs": [],
   "source": []
  }
 ],
 "metadata": {
  "kernelspec": {
   "display_name": "Python 3 (ipykernel)",
   "language": "python",
   "name": "python3"
  },
  "language_info": {
   "codemirror_mode": {
    "name": "ipython",
    "version": 3
   },
   "file_extension": ".py",
   "mimetype": "text/x-python",
   "name": "python",
   "nbconvert_exporter": "python",
   "pygments_lexer": "ipython3",
   "version": "3.10.8"
  }
 },
 "nbformat": 4,
 "nbformat_minor": 5
}
